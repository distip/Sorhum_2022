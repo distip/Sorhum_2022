{
 "cells": [
  {
   "cell_type": "code",
   "execution_count": 3,
   "metadata": {},
   "outputs": [],
   "source": [
    "import pandas as pd\n",
    "import numpy as np\n",
    "import matplotlib.pyplot as plt\n",
    "import seaborn as sns\n",
    "from sklearn.preprocessing import scale \n",
    "from sklearn.preprocessing import StandardScaler\n",
    "from sklearn import model_selection\n",
    "from sklearn.model_selection import RepeatedKFold\n",
    "from sklearn.model_selection import train_test_split\n",
    "from sklearn.cross_decomposition import PLSRegression\n",
    "from sklearn.metrics import mean_squared_error\n",
    "from sklearn.metrics import r2_score\n",
    "from scipy.signal import savgol_filter\n",
    "from sklearn.ensemble import RandomForestRegressor\n",
    "from sklearn.model_selection import RandomizedSearchCV"
   ]
  },
  {
   "cell_type": "code",
   "execution_count": null,
   "metadata": {},
   "outputs": [],
   "source": []
  },
  {
   "cell_type": "code",
   "execution_count": 4,
   "metadata": {
    "scrolled": true
   },
   "outputs": [
    {
     "name": "stderr",
     "output_type": "stream",
     "text": [
      "/usr/lib/python3/dist-packages/IPython/core/interactiveshell.py:2718: DtypeWarning: Columns (1) have mixed types.Specify dtype option on import or set low_memory=False.\n",
      "  interactivity=interactivity, compiler=compiler, result=result)\n"
     ]
    }
   ],
   "source": [
    "data = pd.read_csv('Sorghum_Hyperspectral_Data_1820.csv')"
   ]
  },
  {
   "cell_type": "code",
   "execution_count": 5,
   "metadata": {},
   "outputs": [
    {
     "data": {
      "text/html": [
       "<div>\n",
       "<style scoped>\n",
       "    .dataframe tbody tr th:only-of-type {\n",
       "        vertical-align: middle;\n",
       "    }\n",
       "\n",
       "    .dataframe tbody tr th {\n",
       "        vertical-align: top;\n",
       "    }\n",
       "\n",
       "    .dataframe thead th {\n",
       "        text-align: right;\n",
       "    }\n",
       "</style>\n",
       "<table border=\"1\" class=\"dataframe\">\n",
       "  <thead>\n",
       "    <tr style=\"text-align: right;\">\n",
       "      <th></th>\n",
       "      <th>crop</th>\n",
       "      <th>PlotID</th>\n",
       "      <th>year</th>\n",
       "      <th>trt</th>\n",
       "      <th>pheno</th>\n",
       "      <th>CHL</th>\n",
       "      <th>EWT</th>\n",
       "      <th>LWC</th>\n",
       "      <th>SLA</th>\n",
       "      <th>N</th>\n",
       "      <th>...</th>\n",
       "      <th>X2491</th>\n",
       "      <th>X2492</th>\n",
       "      <th>X2493</th>\n",
       "      <th>X2494</th>\n",
       "      <th>X2495</th>\n",
       "      <th>X2496</th>\n",
       "      <th>X2497</th>\n",
       "      <th>X2498</th>\n",
       "      <th>X2499</th>\n",
       "      <th>X2500</th>\n",
       "    </tr>\n",
       "  </thead>\n",
       "  <tbody>\n",
       "    <tr>\n",
       "      <th>0</th>\n",
       "      <td>sorghum</td>\n",
       "      <td>281</td>\n",
       "      <td>2018</td>\n",
       "      <td>greenhouse</td>\n",
       "      <td>yes</td>\n",
       "      <td>446.944</td>\n",
       "      <td>0.021140</td>\n",
       "      <td>0.801818</td>\n",
       "      <td>191.380472</td>\n",
       "      <td>2.84</td>\n",
       "      <td>...</td>\n",
       "      <td>0.057221</td>\n",
       "      <td>0.057268</td>\n",
       "      <td>0.057137</td>\n",
       "      <td>0.056709</td>\n",
       "      <td>0.056457</td>\n",
       "      <td>0.056115</td>\n",
       "      <td>0.055923</td>\n",
       "      <td>0.055987</td>\n",
       "      <td>0.055888</td>\n",
       "      <td>0.055737</td>\n",
       "    </tr>\n",
       "    <tr>\n",
       "      <th>1</th>\n",
       "      <td>sorghum</td>\n",
       "      <td>282</td>\n",
       "      <td>2018</td>\n",
       "      <td>greenhouse</td>\n",
       "      <td>yes</td>\n",
       "      <td>713.800</td>\n",
       "      <td>0.013651</td>\n",
       "      <td>0.718788</td>\n",
       "      <td>187.244828</td>\n",
       "      <td>3.44</td>\n",
       "      <td>...</td>\n",
       "      <td>0.065625</td>\n",
       "      <td>0.065636</td>\n",
       "      <td>0.065593</td>\n",
       "      <td>0.065518</td>\n",
       "      <td>0.065329</td>\n",
       "      <td>0.065109</td>\n",
       "      <td>0.064884</td>\n",
       "      <td>0.064390</td>\n",
       "      <td>0.064180</td>\n",
       "      <td>0.064182</td>\n",
       "    </tr>\n",
       "    <tr>\n",
       "      <th>2</th>\n",
       "      <td>sorghum</td>\n",
       "      <td>283</td>\n",
       "      <td>2018</td>\n",
       "      <td>greenhouse</td>\n",
       "      <td>yes</td>\n",
       "      <td>724.911</td>\n",
       "      <td>0.013870</td>\n",
       "      <td>0.715429</td>\n",
       "      <td>181.260442</td>\n",
       "      <td>3.52</td>\n",
       "      <td>...</td>\n",
       "      <td>0.061687</td>\n",
       "      <td>0.061462</td>\n",
       "      <td>0.061244</td>\n",
       "      <td>0.061186</td>\n",
       "      <td>0.060975</td>\n",
       "      <td>0.060398</td>\n",
       "      <td>0.060287</td>\n",
       "      <td>0.060618</td>\n",
       "      <td>0.060535</td>\n",
       "      <td>0.060500</td>\n",
       "    </tr>\n",
       "    <tr>\n",
       "      <th>3</th>\n",
       "      <td>sorghum</td>\n",
       "      <td>284</td>\n",
       "      <td>2018</td>\n",
       "      <td>greenhouse</td>\n",
       "      <td>yes</td>\n",
       "      <td>738.400</td>\n",
       "      <td>0.016723</td>\n",
       "      <td>0.753034</td>\n",
       "      <td>182.327753</td>\n",
       "      <td>4.13</td>\n",
       "      <td>...</td>\n",
       "      <td>0.055341</td>\n",
       "      <td>0.055124</td>\n",
       "      <td>0.054997</td>\n",
       "      <td>0.055162</td>\n",
       "      <td>0.055078</td>\n",
       "      <td>0.054760</td>\n",
       "      <td>0.054617</td>\n",
       "      <td>0.054473</td>\n",
       "      <td>0.054353</td>\n",
       "      <td>0.054351</td>\n",
       "    </tr>\n",
       "    <tr>\n",
       "      <th>4</th>\n",
       "      <td>sorghum</td>\n",
       "      <td>285</td>\n",
       "      <td>2018</td>\n",
       "      <td>greenhouse</td>\n",
       "      <td>yes</td>\n",
       "      <td>700.344</td>\n",
       "      <td>0.023406</td>\n",
       "      <td>0.798125</td>\n",
       "      <td>168.909288</td>\n",
       "      <td>3.85</td>\n",
       "      <td>...</td>\n",
       "      <td>0.056971</td>\n",
       "      <td>0.057206</td>\n",
       "      <td>0.057154</td>\n",
       "      <td>0.056835</td>\n",
       "      <td>0.056743</td>\n",
       "      <td>0.056700</td>\n",
       "      <td>0.056552</td>\n",
       "      <td>0.056538</td>\n",
       "      <td>0.056412</td>\n",
       "      <td>0.056039</td>\n",
       "    </tr>\n",
       "  </tbody>\n",
       "</table>\n",
       "<p>5 rows × 2171 columns</p>\n",
       "</div>"
      ],
      "text/plain": [
       "      crop PlotID  year         trt pheno      CHL       EWT       LWC  \\\n",
       "0  sorghum    281  2018  greenhouse   yes  446.944  0.021140  0.801818   \n",
       "1  sorghum    282  2018  greenhouse   yes  713.800  0.013651  0.718788   \n",
       "2  sorghum    283  2018  greenhouse   yes  724.911  0.013870  0.715429   \n",
       "3  sorghum    284  2018  greenhouse   yes  738.400  0.016723  0.753034   \n",
       "4  sorghum    285  2018  greenhouse   yes  700.344  0.023406  0.798125   \n",
       "\n",
       "          SLA     N  ...     X2491     X2492     X2493     X2494     X2495  \\\n",
       "0  191.380472  2.84  ...  0.057221  0.057268  0.057137  0.056709  0.056457   \n",
       "1  187.244828  3.44  ...  0.065625  0.065636  0.065593  0.065518  0.065329   \n",
       "2  181.260442  3.52  ...  0.061687  0.061462  0.061244  0.061186  0.060975   \n",
       "3  182.327753  4.13  ...  0.055341  0.055124  0.054997  0.055162  0.055078   \n",
       "4  168.909288  3.85  ...  0.056971  0.057206  0.057154  0.056835  0.056743   \n",
       "\n",
       "      X2496     X2497     X2498     X2499     X2500  \n",
       "0  0.056115  0.055923  0.055987  0.055888  0.055737  \n",
       "1  0.065109  0.064884  0.064390  0.064180  0.064182  \n",
       "2  0.060398  0.060287  0.060618  0.060535  0.060500  \n",
       "3  0.054760  0.054617  0.054473  0.054353  0.054351  \n",
       "4  0.056700  0.056552  0.056538  0.056412  0.056039  \n",
       "\n",
       "[5 rows x 2171 columns]"
      ]
     },
     "execution_count": 5,
     "metadata": {},
     "output_type": "execute_result"
    }
   ],
   "source": [
    "data.head()"
   ]
  },
  {
   "cell_type": "code",
   "execution_count": 6,
   "metadata": {},
   "outputs": [
    {
     "data": {
      "text/plain": [
       "2020    1470\n",
       "2018     321\n",
       "Name: year, dtype: int64"
      ]
     },
     "execution_count": 6,
     "metadata": {},
     "output_type": "execute_result"
    }
   ],
   "source": [
    "data.year.value_counts(dropna= False)"
   ]
  },
  {
   "cell_type": "code",
   "execution_count": 7,
   "metadata": {},
   "outputs": [
    {
     "data": {
      "text/plain": [
       "(1791, 2171)"
      ]
     },
     "execution_count": 7,
     "metadata": {},
     "output_type": "execute_result"
    }
   ],
   "source": [
    "data.shape"
   ]
  },
  {
   "cell_type": "code",
   "execution_count": 8,
   "metadata": {},
   "outputs": [
    {
     "data": {
      "text/plain": [
       "Index(['PlotID', 'year', 'trt', 'pheno', 'CHL', 'EWT', 'LWC', 'SLA', 'N', 'P',\n",
       "       'K', 'Mg', 'Ca', 'S', 'Fe', 'Mn', 'B', 'Cu', 'Zn', 'X350', 'X351',\n",
       "       'X352', 'X353', 'X354', 'X355', 'X356', 'X357', 'X358', 'X359', 'X360',\n",
       "       'X361', 'X362', 'X363', 'X364', 'X365', 'X366', 'X367', 'X368', 'X369',\n",
       "       'X370', 'X371', 'X372', 'X373', 'X374', 'X375', 'X376', 'X377', 'X378',\n",
       "       'X379'],\n",
       "      dtype='object')"
      ]
     },
     "execution_count": 8,
     "metadata": {},
     "output_type": "execute_result"
    }
   ],
   "source": [
    "data.columns[1:50]"
   ]
  },
  {
   "cell_type": "code",
   "execution_count": 9,
   "metadata": {},
   "outputs": [
    {
     "data": {
      "text/plain": [
       "greenhouse    321\n",
       "Name: trt, dtype: int64"
      ]
     },
     "execution_count": 9,
     "metadata": {},
     "output_type": "execute_result"
    }
   ],
   "source": [
    "data.loc[data.year == 2018 , 'trt'].value_counts(dropna = False)"
   ]
  },
  {
   "cell_type": "code",
   "execution_count": 10,
   "metadata": {},
   "outputs": [],
   "source": [
    "#define the trait for analysis\n",
    "trait = 'SLA'\n"
   ]
  },
  {
   "cell_type": "code",
   "execution_count": 11,
   "metadata": {},
   "outputs": [
    {
     "data": {
      "text/plain": [
       "(587, 2171)"
      ]
     },
     "execution_count": 11,
     "metadata": {},
     "output_type": "execute_result"
    }
   ],
   "source": [
    "#Drop NAs \n",
    "data = data.loc[data[trait].notnull(), :]\n",
    "#data1 = data[data.SLA.notnull()]\n",
    "data.shape"
   ]
  },
  {
   "cell_type": "code",
   "execution_count": 12,
   "metadata": {},
   "outputs": [
    {
     "data": {
      "text/plain": [
       "<AxesSubplot:xlabel='year', ylabel='SLA'>"
      ]
     },
     "execution_count": 12,
     "metadata": {},
     "output_type": "execute_result"
    },
    {
     "data": {
      "image/png": "[encoded data removed]",
      "text/plain": [
       "<Figure size 432x288 with 1 Axes>"
      ]
     },
     "metadata": {},
     "output_type": "display_data"
    }
   ],
   "source": [
    "sns.boxplot(y= trait, x='year', data=data)"
   ]
  },
  {
   "cell_type": "code",
   "execution_count": 13,
   "metadata": {},
   "outputs": [],
   "source": [
    "#defining a function to remove the outliers\n",
    "def outlier_treatment(datacolumn):\n",
    " sorted(datacolumn)\n",
    " Q1=datacolumn.quantile(0.25)\n",
    " Q3=datacolumn.quantile(0.75)\n",
    " #Q1,Q3 = np.percentile(datacolumn , [25,75])\n",
    " IQR = Q3 - Q1\n",
    " lower_range = Q1 - (1.5 * IQR)\n",
    " upper_range = Q3 + (1.5 * IQR)\n",
    " return lower_range,upper_range"
   ]
  },
  {
   "cell_type": "code",
   "execution_count": 14,
   "metadata": {},
   "outputs": [
    {
     "data": {
      "text/plain": [
       "(-67.16692164689113, 329.2306520302035)"
      ]
     },
     "execution_count": 14,
     "metadata": {},
     "output_type": "execute_result"
    }
   ],
   "source": [
    "outlier_treatment(data[trait])\n"
   ]
  },
  {
   "cell_type": "code",
   "execution_count": 15,
   "metadata": {},
   "outputs": [],
   "source": [
    "lowerbound,upperbound = outlier_treatment(data[trait])"
   ]
  },
  {
   "cell_type": "code",
   "execution_count": 16,
   "metadata": {},
   "outputs": [
    {
     "data": {
      "text/plain": [
       "Int64Index([], dtype='int64')"
      ]
     },
     "execution_count": 16,
     "metadata": {},
     "output_type": "execute_result"
    }
   ],
   "source": [
    "rm_index =data[(data[trait] < lowerbound) | (data[trait] > upperbound)].index\n",
    "rm_index"
   ]
  },
  {
   "cell_type": "code",
   "execution_count": 17,
   "metadata": {},
   "outputs": [],
   "source": [
    "data.drop(rm_index, axis=0 ,inplace=True)"
   ]
  },
  {
   "cell_type": "code",
   "execution_count": 18,
   "metadata": {},
   "outputs": [],
   "source": [
    "# choose the years for grouping in the plots\n",
    "year = data.loc[: , 'year']"
   ]
  },
  {
   "cell_type": "code",
   "execution_count": 19,
   "metadata": {},
   "outputs": [
    {
     "data": {
      "text/plain": [
       "(587, 2171)"
      ]
     },
     "execution_count": 19,
     "metadata": {},
     "output_type": "execute_result"
    }
   ],
   "source": [
    "data.shape\n"
   ]
  },
  {
   "cell_type": "code",
   "execution_count": 20,
   "metadata": {},
   "outputs": [],
   "source": [
    "# define trait data\n",
    "y = data.loc[: , trait]\n"
   ]
  },
  {
   "cell_type": "code",
   "execution_count": 21,
   "metadata": {},
   "outputs": [],
   "source": [
    "#select the columns of HR data\n",
    "spec_columns = [col for col in data if col.startswith('X')]\n"
   ]
  },
  {
   "cell_type": "code",
   "execution_count": 22,
   "metadata": {},
   "outputs": [],
   "source": [
    "# Define the X by choosing only the predictors\n",
    "X = data[spec_columns]\n"
   ]
  },
  {
   "cell_type": "code",
   "execution_count": 23,
   "metadata": {},
   "outputs": [],
   "source": [
    "# Apply Savitzky Golay Filter\n",
    "X = savgol_filter(X, window_length=5 , polyorder = 2)\n",
    "X = pd.DataFrame(X, columns= spec_columns)"
   ]
  },
  {
   "cell_type": "code",
   "execution_count": 24,
   "metadata": {},
   "outputs": [],
   "source": [
    "# Remove first 100 wawelengths\n",
    "X = X.drop(X.columns[0:100], axis=1)"
   ]
  },
  {
   "cell_type": "code",
   "execution_count": 25,
   "metadata": {},
   "outputs": [],
   "source": [
    "# Create a np array for downsampling for every 5 nm\n",
    "column_filter = np.arange(0, 2050, 5)"
   ]
  },
  {
   "cell_type": "code",
   "execution_count": 26,
   "metadata": {},
   "outputs": [],
   "source": [
    "# Choose from the X based on filtering array\n",
    "X = X.iloc[: , column_filter]"
   ]
  },
  {
   "cell_type": "code",
   "execution_count": null,
   "metadata": {},
   "outputs": [],
   "source": [
    "# split the dataset into training (60%) and testing (40%) sets\n",
    "X_train,X_test,y_train,y_test = train_test_split(X, y ,test_size=0.4) "
   ]
  },
  {
   "cell_type": "code",
   "execution_count": null,
   "metadata": {},
   "outputs": [],
   "source": [
    "regressor = RandomForestRegressor(2000) #, min_samples_split=5 , min_samples_leaf= 1 , max_features= 'auto' , max_depth =90 , bootstrap = True)\n",
    "predict = regressor.fit(X_train, y_train)\n",
    "y_pred = regressor.predict(X_test)"
   ]
  },
  {
   "cell_type": "code",
   "execution_count": null,
   "metadata": {},
   "outputs": [],
   "source": [
    "y_pred = regressor.predict(X_test)"
   ]
  },
  {
   "cell_type": "code",
   "execution_count": null,
   "metadata": {},
   "outputs": [],
   "source": [
    "y_pred = pd.DataFrame(y_pred)"
   ]
  },
  {
   "cell_type": "code",
   "execution_count": null,
   "metadata": {},
   "outputs": [],
   "source": [
    "# Combine the 'year' and y_test for plotting and reset the index for combining with y_pred\n",
    "y_test =pd.merge(y_test, year , left_index=True , right_index=True,  how='left').reset_index(drop=True)"
   ]
  },
  {
   "cell_type": "code",
   "execution_count": null,
   "metadata": {},
   "outputs": [],
   "source": [
    "y_test.head()"
   ]
  },
  {
   "cell_type": "code",
   "execution_count": null,
   "metadata": {},
   "outputs": [],
   "source": [
    "type(y_pred)"
   ]
  },
  {
   "cell_type": "code",
   "execution_count": null,
   "metadata": {},
   "outputs": [],
   "source": [
    "#Combine y_test and y_pred and get one data frame for seaborn scatter plot\n",
    "data_plot = pd.concat([y_test, y_pred], axis = 1)"
   ]
  },
  {
   "cell_type": "code",
   "execution_count": null,
   "metadata": {},
   "outputs": [],
   "source": [
    "data_plot =data_plot.rename({0 : 'predicted'} ,axis =1)"
   ]
  },
  {
   "cell_type": "code",
   "execution_count": null,
   "metadata": {},
   "outputs": [],
   "source": [
    "data_plot.head()"
   ]
  },
  {
   "cell_type": "code",
   "execution_count": null,
   "metadata": {},
   "outputs": [],
   "source": [
    "# Calculate the spearman correlation , r2 and p value and pass them into the 'text'\n",
    "\n",
    "from scipy.stats import pearsonr, spearmanr\n",
    "#y_pred2 = [x[0] for x in data_plot.predicted]\n",
    "r, p = spearmanr(data_plot[trait], data_plot.predicted)\n",
    "r2 = r**2\n",
    "text =r2, p\n",
    "text = [np.round(r2, 2) for r2 in text]\n"
   ]
  },
  {
   "cell_type": "code",
   "execution_count": null,
   "metadata": {
    "scrolled": true
   },
   "outputs": [],
   "source": [
    "#plot the results\n",
    "text1 = 'r2=%s, p=%s' % (text[0], text[1])\n",
    "#sns.lmplot(x=trait, y='predicted',data=data_plot)\n",
    "sns.regplot(x=trait, y='predicted' , scatter_kws={'s' : 15},data=data_plot)\n",
    "xmin , xmax , ymin, ymax = plt.axis()\n",
    "sns.scatterplot(x=trait, y='predicted', hue= 'year', data=data_plot).text((xmax)/2, ymax*0.96, text1, fontsize=12)\n",
    "plt.xlabel('Ground Truth' + ' ' + trait)\n",
    "plt.ylabel('Predicted' + ' ' + trait + ' ' + 'Values')\n",
    "plt.title(trait + ' ' + 'RF')\n",
    "\n"
   ]
  },
  {
   "cell_type": "code",
   "execution_count": null,
   "metadata": {},
   "outputs": [],
   "source": [
    "# Feature Importance\n",
    "from sklearn.inspection import permutation_importance\n",
    "result = permutation_importance(regressor, X_train, y_train, n_repeats=10, random_state=42, n_jobs=2)\n",
    "forest_importances = pd.Series(result.importances_mean, index = X_train.columns)"
   ]
  },
  {
   "cell_type": "code",
   "execution_count": null,
   "metadata": {},
   "outputs": [],
   "source": [
    "forest_importances.sort_values(ascending=False,inplace=True)"
   ]
  },
  {
   "cell_type": "code",
   "execution_count": null,
   "metadata": {},
   "outputs": [],
   "source": [
    "most_important = forest_importances[0:200]"
   ]
  },
  {
   "cell_type": "code",
   "execution_count": null,
   "metadata": {},
   "outputs": [],
   "source": [
    "most_important = pd.DataFrame(most_important)"
   ]
  },
  {
   "cell_type": "code",
   "execution_count": null,
   "metadata": {},
   "outputs": [],
   "source": [
    "most_important"
   ]
  },
  {
   "cell_type": "code",
   "execution_count": null,
   "metadata": {},
   "outputs": [],
   "source": [
    "most_important_index = most_important.index"
   ]
  },
  {
   "cell_type": "code",
   "execution_count": null,
   "metadata": {},
   "outputs": [],
   "source": [
    "most_important_index"
   ]
  },
  {
   "cell_type": "code",
   "execution_count": null,
   "metadata": {},
   "outputs": [],
   "source": [
    "X_reduced = X.loc[: , most_important_index]"
   ]
  },
  {
   "cell_type": "code",
   "execution_count": null,
   "metadata": {},
   "outputs": [],
   "source": [
    "# split the dataset into training (60%) and testing (40%) sets\n",
    "X_train,X_test,y_train,y_test = train_test_split(X_reduced, y ,test_size=0.4) "
   ]
  },
  {
   "cell_type": "code",
   "execution_count": null,
   "metadata": {},
   "outputs": [],
   "source": [
    "regressor = RandomForestRegressor(2000) #, min_samples_split=5 , min_samples_leaf= 1 , max_features= 'auto' , max_depth =90 , bootstrap = True)\n",
    "predict = regressor.fit(X_train, y_train)\n",
    "y_pred = regressor.predict(X_test)"
   ]
  },
  {
   "cell_type": "code",
   "execution_count": null,
   "metadata": {},
   "outputs": [],
   "source": [
    "np.sqrt(mean_squared_error(y_test, regressor.predict(X_test)))"
   ]
  },
  {
   "cell_type": "code",
   "execution_count": null,
   "metadata": {},
   "outputs": [],
   "source": [
    "y_pred = regressor.predict(X_test)"
   ]
  },
  {
   "cell_type": "code",
   "execution_count": null,
   "metadata": {
    "scrolled": true
   },
   "outputs": [],
   "source": [
    "plt.scatter(y_test, y_pred)\n",
    "plt.ylabel('Predicted' + ' ' + trait +  ' ' 'values')\n",
    "plt.xlabel('Ground truth LWC measurements')\n",
    "sns.regplot(x = y_test , y = y_pred)"
   ]
  },
  {
   "cell_type": "code",
   "execution_count": null,
   "metadata": {},
   "outputs": [],
   "source": [
    "from scipy.stats import pearsonr, spearmanr\n",
    "\n",
    "r, p = spearmanr(y_test, y_pred)\n",
    "r2 = r**2\n",
    "print(r2, p)"
   ]
  },
  {
   "cell_type": "code",
   "execution_count": null,
   "metadata": {},
   "outputs": [],
   "source": [
    "data_2022 = pd.read_csv('sorghum_2022_whole.csv')"
   ]
  },
  {
   "cell_type": "code",
   "execution_count": null,
   "metadata": {},
   "outputs": [],
   "source": [
    "data_2022 = data_2022.loc[data_2022['355'].notnull(), :]"
   ]
  },
  {
   "cell_type": "code",
   "execution_count": null,
   "metadata": {},
   "outputs": [],
   "source": [
    "data_2022['CHL'] = data_2022[['CHLp1', 'CHLp2']].mean(axis=1)"
   ]
  },
  {
   "cell_type": "code",
   "execution_count": null,
   "metadata": {},
   "outputs": [],
   "source": [
    "#data_2022 = data_2022.loc[data_2022['Leaf_num'] == 2 , :]"
   ]
  },
  {
   "cell_type": "code",
   "execution_count": null,
   "metadata": {},
   "outputs": [],
   "source": [
    "#data_2022 = data_2022.loc[data_2022['Leaf_pos'] == 2 , :]"
   ]
  },
  {
   "cell_type": "code",
   "execution_count": null,
   "metadata": {},
   "outputs": [],
   "source": [
    "data_2022 = data_2022.loc[data_2022['355']>0 , :]\n",
    "data_2022.head()"
   ]
  },
  {
   "cell_type": "code",
   "execution_count": null,
   "metadata": {},
   "outputs": [],
   "source": [
    "import copy\n",
    "data_test = copy.deepcopy(data_2022)\n",
    "\n",
    "\n",
    "my_group = data_test.groupby(['Genotype', 'Rep', 'Leaf_num']).mean()\n",
    "\n",
    "my_group.head()"
   ]
  },
  {
   "cell_type": "code",
   "execution_count": null,
   "metadata": {},
   "outputs": [],
   "source": [
    "my_group = my_group.reset_index(level=['Leaf_num', 'Genotype', 'Rep'])\n",
    "my_group.head() "
   ]
  },
  {
   "cell_type": "code",
   "execution_count": null,
   "metadata": {},
   "outputs": [],
   "source": [
    "my_group.columns"
   ]
  },
  {
   "cell_type": "code",
   "execution_count": null,
   "metadata": {},
   "outputs": [],
   "source": [
    "sns.set(style='darkgrid')\n",
    "sns.displot(data= my_group, x = 'DW').set(xlabel = 'Dry Mass')\n"
   ]
  },
  {
   "cell_type": "code",
   "execution_count": null,
   "metadata": {},
   "outputs": [],
   "source": [
    "y_test = my_group.loc[:,trait]"
   ]
  },
  {
   "cell_type": "code",
   "execution_count": null,
   "metadata": {},
   "outputs": [],
   "source": [
    "X_total = my_group.iloc[:, 13:2164]"
   ]
  },
  {
   "cell_type": "code",
   "execution_count": null,
   "metadata": {},
   "outputs": [],
   "source": [
    "X_total.drop(columns = X_total.columns[0:100], inplace = True) "
   ]
  },
  {
   "cell_type": "code",
   "execution_count": null,
   "metadata": {},
   "outputs": [],
   "source": [
    "X_total"
   ]
  },
  {
   "cell_type": "code",
   "execution_count": null,
   "metadata": {},
   "outputs": [],
   "source": [
    "column_filter = np.arange(0,2050,5)  ## creating an index for column filtering\n",
    "X_test= X_total.iloc[:, column_filter] # selecting the filtered columns "
   ]
  },
  {
   "cell_type": "code",
   "execution_count": null,
   "metadata": {},
   "outputs": [],
   "source": [
    "X_test.columns = X.columns"
   ]
  },
  {
   "cell_type": "code",
   "execution_count": null,
   "metadata": {},
   "outputs": [],
   "source": [
    "X_test = X_test.loc[: , most_important_index]"
   ]
  },
  {
   "cell_type": "markdown",
   "metadata": {},
   "source": [
    "## Hyperparameter Grid Search\n",
    "\n",
    "# Number of trees in random forest\n",
    "n_estimators = [int(x) for x in np.linspace(start = 200, stop = 2000, num = 10)]\n",
    "# Number of features to consider at every split\n",
    "max_features = ['auto', 'sqrt']\n",
    "# Maximum number of levels in tree\n",
    "max_depth = [int(x) for x in np.linspace(10, 110, num = 11)]\n",
    "max_depth.append(None)\n",
    "# Minimum number of samples required to split a node\n",
    "min_samples_split = [2, 5, 10]\n",
    "# Minimum number of samples required at each leaf node\n",
    "min_samples_leaf = [1, 2, 4]"
   ]
  },
  {
   "cell_type": "markdown",
   "metadata": {},
   "source": [
    "## Create the random grid\n",
    "\n",
    "random_grid = {'n_estimators': n_estimators,\n",
    "               'max_features': max_features,\n",
    "               'max_depth': max_depth,\n",
    "               'min_samples_split': min_samples_split,\n",
    "               'min_samples_leaf': min_samples_leaf,\n",
    "               }"
   ]
  },
  {
   "cell_type": "markdown",
   "metadata": {},
   "source": [
    "# Use the random grid to search for best hyperparameters\n",
    "# First create the base model to tune\n",
    "rf = RandomForestRegressor()\n",
    "# Random search of parameters, using 3 fold cross validation, \n",
    "# search across 100 different combinations, and use all available cores\n",
    "rf_random = RandomizedSearchCV(estimator = rf, param_distributions = random_grid, n_iter = 100, cv = RepeatedKFold(n_splits=10), verbose=2, random_state=42, n_jobs = -1)\n",
    "# Fit the random search model\n",
    "rf_random.fit(X, y)"
   ]
  },
  {
   "cell_type": "markdown",
   "metadata": {},
   "source": [
    "rf_random.best_params_"
   ]
  },
  {
   "cell_type": "code",
   "execution_count": null,
   "metadata": {},
   "outputs": [],
   "source": [
    "regressor = RandomForestRegressor(2000)#, min_samples_split=5 , min_samples_leaf= 2 , max_features= 'auto' , max_depth =90 , bootstrap = True)\n",
    "predict = regressor.fit(X_reduced, y)\n",
    "y_pred = regressor.predict(X_test)"
   ]
  },
  {
   "cell_type": "code",
   "execution_count": null,
   "metadata": {},
   "outputs": [],
   "source": [
    "np.sqrt(mean_squared_error(y_test, regressor.predict(X_test)))"
   ]
  },
  {
   "cell_type": "code",
   "execution_count": null,
   "metadata": {},
   "outputs": [],
   "source": [
    "plt.scatter(y_test, y_pred)\n",
    "plt.ylabel('Predicted CHL values')\n",
    "plt.xlabel('Ground truth SLA measurements')\n",
    "sns.regplot(x = y_test , y = y_pred)\n"
   ]
  },
  {
   "cell_type": "code",
   "execution_count": null,
   "metadata": {},
   "outputs": [],
   "source": [
    "from scipy.stats import pearsonr, spearmanr\n",
    "\n",
    "r, p = spearmanr(y_test, y_pred)\n",
    "r2 = r**2\n",
    "print(r2, p)"
   ]
  },
  {
   "cell_type": "code",
   "execution_count": null,
   "metadata": {},
   "outputs": [],
   "source": [
    "X_test"
   ]
  }
 ],
 "metadata": {
  "kernelspec": {
   "display_name": "Python 3",
   "language": "python",
   "name": "python3"
  },
  "language_info": {
   "codemirror_mode": {
    "name": "ipython",
    "version": 3
   },
   "file_extension": ".py",
   "mimetype": "text/x-python",
   "name": "python",
   "nbconvert_exporter": "python",
   "pygments_lexer": "ipython3",
   "version": "3.6.9"
  }
 },
 "nbformat": 4,
 "nbformat_minor": 5
}
