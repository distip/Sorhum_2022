{
 "cells": [
  {
   "cell_type": "code",
   "execution_count": 482,
   "metadata": {},
   "outputs": [],
   "source": [
    "import pandas as pd\n",
    "import numpy as np\n",
    "import matplotlib.pyplot as plt\n",
    "import seaborn as sns\n",
    "from sklearn.preprocessing import scale \n",
    "from sklearn.preprocessing import StandardScaler\n",
    "from sklearn import model_selection\n",
    "from sklearn.model_selection import RepeatedKFold\n",
    "from sklearn.model_selection import train_test_split\n",
    "from sklearn.cross_decomposition import PLSRegression\n",
    "from sklearn.metrics import mean_squared_error\n",
    "from sklearn.metrics import r2_score\n",
    "from scipy.signal import savgol_filter"
   ]
  },
  {
   "cell_type": "code",
   "execution_count": 483,
   "metadata": {
    "scrolled": true
   },
   "outputs": [
    {
     "name": "stderr",
     "output_type": "stream",
     "text": [
      "/usr/lib/python3/dist-packages/IPython/core/interactiveshell.py:2718: DtypeWarning: Columns (1) have mixed types.Specify dtype option on import or set low_memory=False.\n",
      "  interactivity=interactivity, compiler=compiler, result=result)\n"
     ]
    }
   ],
   "source": [
    "data = pd.read_csv('Sorghum_Hyperspectral_Data_1820.csv')\n"
   ]
  },
  {
   "cell_type": "code",
   "execution_count": 484,
   "metadata": {},
   "outputs": [],
   "source": [
    "most_important_index_SLA =pd.read_csv('most_important_index.csv')"
   ]
  },
  {
   "cell_type": "code",
   "execution_count": 485,
   "metadata": {},
   "outputs": [
    {
     "data": {
      "text/html": [
       "<div>\n",
       "<style scoped>\n",
       "    .dataframe tbody tr th:only-of-type {\n",
       "        vertical-align: middle;\n",
       "    }\n",
       "\n",
       "    .dataframe tbody tr th {\n",
       "        vertical-align: top;\n",
       "    }\n",
       "\n",
       "    .dataframe thead th {\n",
       "        text-align: right;\n",
       "    }\n",
       "</style>\n",
       "<table border=\"1\" class=\"dataframe\">\n",
       "  <thead>\n",
       "    <tr style=\"text-align: right;\">\n",
       "      <th></th>\n",
       "      <th>crop</th>\n",
       "      <th>PlotID</th>\n",
       "      <th>year</th>\n",
       "      <th>trt</th>\n",
       "      <th>pheno</th>\n",
       "      <th>CHL</th>\n",
       "      <th>EWT</th>\n",
       "      <th>LWC</th>\n",
       "      <th>SLA</th>\n",
       "      <th>N</th>\n",
       "      <th>...</th>\n",
       "      <th>X2491</th>\n",
       "      <th>X2492</th>\n",
       "      <th>X2493</th>\n",
       "      <th>X2494</th>\n",
       "      <th>X2495</th>\n",
       "      <th>X2496</th>\n",
       "      <th>X2497</th>\n",
       "      <th>X2498</th>\n",
       "      <th>X2499</th>\n",
       "      <th>X2500</th>\n",
       "    </tr>\n",
       "  </thead>\n",
       "  <tbody>\n",
       "    <tr>\n",
       "      <th>0</th>\n",
       "      <td>sorghum</td>\n",
       "      <td>281</td>\n",
       "      <td>2018</td>\n",
       "      <td>greenhouse</td>\n",
       "      <td>yes</td>\n",
       "      <td>446.944</td>\n",
       "      <td>0.021140</td>\n",
       "      <td>0.801818</td>\n",
       "      <td>191.380472</td>\n",
       "      <td>2.84</td>\n",
       "      <td>...</td>\n",
       "      <td>0.057221</td>\n",
       "      <td>0.057268</td>\n",
       "      <td>0.057137</td>\n",
       "      <td>0.056709</td>\n",
       "      <td>0.056457</td>\n",
       "      <td>0.056115</td>\n",
       "      <td>0.055923</td>\n",
       "      <td>0.055987</td>\n",
       "      <td>0.055888</td>\n",
       "      <td>0.055737</td>\n",
       "    </tr>\n",
       "    <tr>\n",
       "      <th>1</th>\n",
       "      <td>sorghum</td>\n",
       "      <td>282</td>\n",
       "      <td>2018</td>\n",
       "      <td>greenhouse</td>\n",
       "      <td>yes</td>\n",
       "      <td>713.800</td>\n",
       "      <td>0.013651</td>\n",
       "      <td>0.718788</td>\n",
       "      <td>187.244828</td>\n",
       "      <td>3.44</td>\n",
       "      <td>...</td>\n",
       "      <td>0.065625</td>\n",
       "      <td>0.065636</td>\n",
       "      <td>0.065593</td>\n",
       "      <td>0.065518</td>\n",
       "      <td>0.065329</td>\n",
       "      <td>0.065109</td>\n",
       "      <td>0.064884</td>\n",
       "      <td>0.064390</td>\n",
       "      <td>0.064180</td>\n",
       "      <td>0.064182</td>\n",
       "    </tr>\n",
       "    <tr>\n",
       "      <th>2</th>\n",
       "      <td>sorghum</td>\n",
       "      <td>283</td>\n",
       "      <td>2018</td>\n",
       "      <td>greenhouse</td>\n",
       "      <td>yes</td>\n",
       "      <td>724.911</td>\n",
       "      <td>0.013870</td>\n",
       "      <td>0.715429</td>\n",
       "      <td>181.260442</td>\n",
       "      <td>3.52</td>\n",
       "      <td>...</td>\n",
       "      <td>0.061687</td>\n",
       "      <td>0.061462</td>\n",
       "      <td>0.061244</td>\n",
       "      <td>0.061186</td>\n",
       "      <td>0.060975</td>\n",
       "      <td>0.060398</td>\n",
       "      <td>0.060287</td>\n",
       "      <td>0.060618</td>\n",
       "      <td>0.060535</td>\n",
       "      <td>0.060500</td>\n",
       "    </tr>\n",
       "    <tr>\n",
       "      <th>3</th>\n",
       "      <td>sorghum</td>\n",
       "      <td>284</td>\n",
       "      <td>2018</td>\n",
       "      <td>greenhouse</td>\n",
       "      <td>yes</td>\n",
       "      <td>738.400</td>\n",
       "      <td>0.016723</td>\n",
       "      <td>0.753034</td>\n",
       "      <td>182.327753</td>\n",
       "      <td>4.13</td>\n",
       "      <td>...</td>\n",
       "      <td>0.055341</td>\n",
       "      <td>0.055124</td>\n",
       "      <td>0.054997</td>\n",
       "      <td>0.055162</td>\n",
       "      <td>0.055078</td>\n",
       "      <td>0.054760</td>\n",
       "      <td>0.054617</td>\n",
       "      <td>0.054473</td>\n",
       "      <td>0.054353</td>\n",
       "      <td>0.054351</td>\n",
       "    </tr>\n",
       "    <tr>\n",
       "      <th>4</th>\n",
       "      <td>sorghum</td>\n",
       "      <td>285</td>\n",
       "      <td>2018</td>\n",
       "      <td>greenhouse</td>\n",
       "      <td>yes</td>\n",
       "      <td>700.344</td>\n",
       "      <td>0.023406</td>\n",
       "      <td>0.798125</td>\n",
       "      <td>168.909288</td>\n",
       "      <td>3.85</td>\n",
       "      <td>...</td>\n",
       "      <td>0.056971</td>\n",
       "      <td>0.057206</td>\n",
       "      <td>0.057154</td>\n",
       "      <td>0.056835</td>\n",
       "      <td>0.056743</td>\n",
       "      <td>0.056700</td>\n",
       "      <td>0.056552</td>\n",
       "      <td>0.056538</td>\n",
       "      <td>0.056412</td>\n",
       "      <td>0.056039</td>\n",
       "    </tr>\n",
       "  </tbody>\n",
       "</table>\n",
       "<p>5 rows × 2171 columns</p>\n",
       "</div>"
      ],
      "text/plain": [
       "      crop PlotID  year         trt pheno      CHL       EWT       LWC  \\\n",
       "0  sorghum    281  2018  greenhouse   yes  446.944  0.021140  0.801818   \n",
       "1  sorghum    282  2018  greenhouse   yes  713.800  0.013651  0.718788   \n",
       "2  sorghum    283  2018  greenhouse   yes  724.911  0.013870  0.715429   \n",
       "3  sorghum    284  2018  greenhouse   yes  738.400  0.016723  0.753034   \n",
       "4  sorghum    285  2018  greenhouse   yes  700.344  0.023406  0.798125   \n",
       "\n",
       "          SLA     N  ...     X2491     X2492     X2493     X2494     X2495  \\\n",
       "0  191.380472  2.84  ...  0.057221  0.057268  0.057137  0.056709  0.056457   \n",
       "1  187.244828  3.44  ...  0.065625  0.065636  0.065593  0.065518  0.065329   \n",
       "2  181.260442  3.52  ...  0.061687  0.061462  0.061244  0.061186  0.060975   \n",
       "3  182.327753  4.13  ...  0.055341  0.055124  0.054997  0.055162  0.055078   \n",
       "4  168.909288  3.85  ...  0.056971  0.057206  0.057154  0.056835  0.056743   \n",
       "\n",
       "      X2496     X2497     X2498     X2499     X2500  \n",
       "0  0.056115  0.055923  0.055987  0.055888  0.055737  \n",
       "1  0.065109  0.064884  0.064390  0.064180  0.064182  \n",
       "2  0.060398  0.060287  0.060618  0.060535  0.060500  \n",
       "3  0.054760  0.054617  0.054473  0.054353  0.054351  \n",
       "4  0.056700  0.056552  0.056538  0.056412  0.056039  \n",
       "\n",
       "[5 rows x 2171 columns]"
      ]
     },
     "execution_count": 485,
     "metadata": {},
     "output_type": "execute_result"
    }
   ],
   "source": [
    "data.head()"
   ]
  },
  {
   "cell_type": "code",
   "execution_count": 486,
   "metadata": {},
   "outputs": [
    {
     "data": {
      "text/plain": [
       "2020    1470\n",
       "2018     321\n",
       "Name: year, dtype: int64"
      ]
     },
     "execution_count": 486,
     "metadata": {},
     "output_type": "execute_result"
    }
   ],
   "source": [
    "data.year.value_counts(dropna= False)"
   ]
  },
  {
   "cell_type": "code",
   "execution_count": 487,
   "metadata": {},
   "outputs": [
    {
     "data": {
      "text/plain": [
       "(1791, 2171)"
      ]
     },
     "execution_count": 487,
     "metadata": {},
     "output_type": "execute_result"
    }
   ],
   "source": [
    "data.shape"
   ]
  },
  {
   "cell_type": "code",
   "execution_count": 488,
   "metadata": {},
   "outputs": [
    {
     "data": {
      "text/plain": [
       "Index(['PlotID', 'year', 'trt', 'pheno', 'CHL', 'EWT', 'LWC', 'SLA', 'N', 'P',\n",
       "       'K', 'Mg', 'Ca', 'S', 'Fe', 'Mn', 'B', 'Cu', 'Zn', 'X350', 'X351',\n",
       "       'X352', 'X353', 'X354', 'X355', 'X356', 'X357', 'X358', 'X359', 'X360',\n",
       "       'X361', 'X362', 'X363', 'X364', 'X365', 'X366', 'X367', 'X368', 'X369',\n",
       "       'X370', 'X371', 'X372', 'X373', 'X374', 'X375', 'X376', 'X377', 'X378',\n",
       "       'X379'],\n",
       "      dtype='object')"
      ]
     },
     "execution_count": 488,
     "metadata": {},
     "output_type": "execute_result"
    }
   ],
   "source": [
    "data.columns[1:50]"
   ]
  },
  {
   "cell_type": "code",
   "execution_count": 489,
   "metadata": {},
   "outputs": [
    {
     "data": {
      "text/plain": [
       "HN            738\n",
       "LN            732\n",
       "greenhouse    321\n",
       "Name: trt, dtype: int64"
      ]
     },
     "execution_count": 489,
     "metadata": {},
     "output_type": "execute_result"
    }
   ],
   "source": [
    "data.loc[: , 'trt'].value_counts(dropna = False)"
   ]
  },
  {
   "cell_type": "code",
   "execution_count": 490,
   "metadata": {},
   "outputs": [],
   "source": [
    "#define the trait for analysis\n",
    "trait = 'SLA'\n"
   ]
  },
  {
   "cell_type": "code",
   "execution_count": 491,
   "metadata": {},
   "outputs": [
    {
     "data": {
      "text/plain": [
       "(587, 2171)"
      ]
     },
     "execution_count": 491,
     "metadata": {},
     "output_type": "execute_result"
    }
   ],
   "source": [
    "#Drop NAs \n",
    "data = data.loc[data[trait].notnull(), :]\n",
    "data.shape"
   ]
  },
  {
   "cell_type": "code",
   "execution_count": 492,
   "metadata": {},
   "outputs": [],
   "source": [
    "##Choose the year\n",
    "##data= data.loc[data['year'] ==  2020 , :]"
   ]
  },
  {
   "cell_type": "code",
   "execution_count": 493,
   "metadata": {},
   "outputs": [
    {
     "data": {
      "text/plain": [
       "<AxesSubplot:xlabel='year', ylabel='SLA'>"
      ]
     },
     "execution_count": 493,
     "metadata": {},
     "output_type": "execute_result"
    },
    {
     "data": {
      "image/png": "[encoded data removed]",
      "text/plain": [
       "<Figure size 432x288 with 1 Axes>"
      ]
     },
     "metadata": {},
     "output_type": "display_data"
    }
   ],
   "source": [
    "sns.boxplot(y= trait, x='year', data=data)"
   ]
  },
  {
   "cell_type": "code",
   "execution_count": 494,
   "metadata": {},
   "outputs": [],
   "source": [
    "#defining a function to remove the outliers\n",
    "def outlier_treatment(datacolumn):\n",
    " sorted(datacolumn)\n",
    " Q1=datacolumn.quantile(0.25)\n",
    " Q3=datacolumn.quantile(0.75)\n",
    " #Q1,Q3 = np.percentile(datacolumn , [25,75])\n",
    " IQR = Q3 - Q1\n",
    " lower_range = Q1 - (1.5 * IQR)\n",
    " upper_range = Q3 + (1.5 * IQR)\n",
    " return lower_range,upper_range"
   ]
  },
  {
   "cell_type": "code",
   "execution_count": 495,
   "metadata": {},
   "outputs": [
    {
     "data": {
      "text/plain": [
       "(-67.16692164689113, 329.2306520302035)"
      ]
     },
     "execution_count": 495,
     "metadata": {},
     "output_type": "execute_result"
    }
   ],
   "source": [
    "outlier_treatment(data[trait])\n"
   ]
  },
  {
   "cell_type": "code",
   "execution_count": 496,
   "metadata": {},
   "outputs": [],
   "source": [
    "lowerbound,upperbound = outlier_treatment(data[trait])"
   ]
  },
  {
   "cell_type": "code",
   "execution_count": 497,
   "metadata": {},
   "outputs": [
    {
     "data": {
      "text/plain": [
       "Int64Index([], dtype='int64')"
      ]
     },
     "execution_count": 497,
     "metadata": {},
     "output_type": "execute_result"
    }
   ],
   "source": [
    "rm_index =data[(data[trait] < lowerbound) | (data[trait] > upperbound)].index\n",
    "rm_index"
   ]
  },
  {
   "cell_type": "code",
   "execution_count": 498,
   "metadata": {},
   "outputs": [],
   "source": [
    "data.drop(rm_index, axis=0 ,inplace=True)"
   ]
  },
  {
   "cell_type": "code",
   "execution_count": 499,
   "metadata": {},
   "outputs": [],
   "source": [
    "# choose the years for grouping in the plots\n",
    "year = data.loc[: , 'year']"
   ]
  },
  {
   "cell_type": "code",
   "execution_count": 500,
   "metadata": {},
   "outputs": [
    {
     "data": {
      "text/plain": [
       "(587, 2171)"
      ]
     },
     "execution_count": 500,
     "metadata": {},
     "output_type": "execute_result"
    }
   ],
   "source": [
    "data.shape\n"
   ]
  },
  {
   "cell_type": "code",
   "execution_count": 501,
   "metadata": {},
   "outputs": [],
   "source": [
    "# define trait data\n",
    "y = data.loc[: , trait]\n"
   ]
  },
  {
   "cell_type": "code",
   "execution_count": 502,
   "metadata": {},
   "outputs": [],
   "source": [
    "#select the columns of HR data\n",
    "spec_columns = [col for col in data if col.startswith('X')]\n"
   ]
  },
  {
   "cell_type": "code",
   "execution_count": 503,
   "metadata": {},
   "outputs": [],
   "source": [
    "# Define the X by choosing only the predictors\n",
    "X = data[spec_columns]\n"
   ]
  },
  {
   "cell_type": "code",
   "execution_count": 504,
   "metadata": {},
   "outputs": [],
   "source": [
    "# Apply Savitzky Golay Filter\n",
    "X = savgol_filter(X, window_length=5 , polyorder = 2)\n",
    "X = pd.DataFrame(X, columns= spec_columns)"
   ]
  },
  {
   "cell_type": "code",
   "execution_count": 505,
   "metadata": {},
   "outputs": [],
   "source": [
    "# Remove first 100 wawelengths\n",
    "X = X.drop(X.columns[0:100], axis=1)"
   ]
  },
  {
   "cell_type": "code",
   "execution_count": 506,
   "metadata": {},
   "outputs": [],
   "source": [
    "# Create a np array for downsampling for every 5 nm\n",
    "column_filter = np.arange(0, 2050, 5)"
   ]
  },
  {
   "cell_type": "code",
   "execution_count": 507,
   "metadata": {},
   "outputs": [],
   "source": [
    "# Choose from the X based on filtering array\n",
    "X = X.iloc[: , column_filter]\n"
   ]
  },
  {
   "cell_type": "code",
   "execution_count": 508,
   "metadata": {
    "scrolled": true
   },
   "outputs": [
    {
     "data": {
      "text/html": [
       "<div>\n",
       "<style scoped>\n",
       "    .dataframe tbody tr th:only-of-type {\n",
       "        vertical-align: middle;\n",
       "    }\n",
       "\n",
       "    .dataframe tbody tr th {\n",
       "        vertical-align: top;\n",
       "    }\n",
       "\n",
       "    .dataframe thead th {\n",
       "        text-align: right;\n",
       "    }\n",
       "</style>\n",
       "<table border=\"1\" class=\"dataframe\">\n",
       "  <thead>\n",
       "    <tr style=\"text-align: right;\">\n",
       "      <th></th>\n",
       "      <th>X450</th>\n",
       "      <th>X455</th>\n",
       "      <th>X460</th>\n",
       "      <th>X465</th>\n",
       "      <th>X470</th>\n",
       "      <th>X475</th>\n",
       "      <th>X480</th>\n",
       "      <th>X485</th>\n",
       "      <th>X490</th>\n",
       "      <th>X495</th>\n",
       "      <th>...</th>\n",
       "      <th>X2450</th>\n",
       "      <th>X2455</th>\n",
       "      <th>X2460</th>\n",
       "      <th>X2465</th>\n",
       "      <th>X2470</th>\n",
       "      <th>X2475</th>\n",
       "      <th>X2480</th>\n",
       "      <th>X2485</th>\n",
       "      <th>X2490</th>\n",
       "      <th>X2495</th>\n",
       "    </tr>\n",
       "  </thead>\n",
       "  <tbody>\n",
       "    <tr>\n",
       "      <th>0</th>\n",
       "      <td>0.072084</td>\n",
       "      <td>0.072281</td>\n",
       "      <td>0.074527</td>\n",
       "      <td>0.073938</td>\n",
       "      <td>0.073444</td>\n",
       "      <td>0.073933</td>\n",
       "      <td>0.074270</td>\n",
       "      <td>0.074302</td>\n",
       "      <td>0.074556</td>\n",
       "      <td>0.077044</td>\n",
       "      <td>...</td>\n",
       "      <td>0.067297</td>\n",
       "      <td>0.065572</td>\n",
       "      <td>0.064134</td>\n",
       "      <td>0.062460</td>\n",
       "      <td>0.061316</td>\n",
       "      <td>0.059724</td>\n",
       "      <td>0.058408</td>\n",
       "      <td>0.057898</td>\n",
       "      <td>0.057136</td>\n",
       "      <td>0.056414</td>\n",
       "    </tr>\n",
       "    <tr>\n",
       "      <th>1</th>\n",
       "      <td>0.071562</td>\n",
       "      <td>0.070789</td>\n",
       "      <td>0.072950</td>\n",
       "      <td>0.072189</td>\n",
       "      <td>0.071799</td>\n",
       "      <td>0.072144</td>\n",
       "      <td>0.072596</td>\n",
       "      <td>0.072355</td>\n",
       "      <td>0.072260</td>\n",
       "      <td>0.073828</td>\n",
       "      <td>...</td>\n",
       "      <td>0.078345</td>\n",
       "      <td>0.076368</td>\n",
       "      <td>0.074371</td>\n",
       "      <td>0.072508</td>\n",
       "      <td>0.071027</td>\n",
       "      <td>0.069200</td>\n",
       "      <td>0.068060</td>\n",
       "      <td>0.066575</td>\n",
       "      <td>0.065758</td>\n",
       "      <td>0.065334</td>\n",
       "    </tr>\n",
       "    <tr>\n",
       "      <th>2</th>\n",
       "      <td>0.067849</td>\n",
       "      <td>0.067549</td>\n",
       "      <td>0.069338</td>\n",
       "      <td>0.068589</td>\n",
       "      <td>0.068386</td>\n",
       "      <td>0.068461</td>\n",
       "      <td>0.068986</td>\n",
       "      <td>0.068710</td>\n",
       "      <td>0.068470</td>\n",
       "      <td>0.070524</td>\n",
       "      <td>...</td>\n",
       "      <td>0.075083</td>\n",
       "      <td>0.073046</td>\n",
       "      <td>0.070950</td>\n",
       "      <td>0.068873</td>\n",
       "      <td>0.067303</td>\n",
       "      <td>0.065461</td>\n",
       "      <td>0.063934</td>\n",
       "      <td>0.062901</td>\n",
       "      <td>0.061841</td>\n",
       "      <td>0.060885</td>\n",
       "    </tr>\n",
       "    <tr>\n",
       "      <th>3</th>\n",
       "      <td>0.064959</td>\n",
       "      <td>0.064509</td>\n",
       "      <td>0.066153</td>\n",
       "      <td>0.065387</td>\n",
       "      <td>0.065025</td>\n",
       "      <td>0.065148</td>\n",
       "      <td>0.065500</td>\n",
       "      <td>0.065179</td>\n",
       "      <td>0.065041</td>\n",
       "      <td>0.066772</td>\n",
       "      <td>...</td>\n",
       "      <td>0.064992</td>\n",
       "      <td>0.063572</td>\n",
       "      <td>0.061879</td>\n",
       "      <td>0.060338</td>\n",
       "      <td>0.059434</td>\n",
       "      <td>0.058130</td>\n",
       "      <td>0.057164</td>\n",
       "      <td>0.056357</td>\n",
       "      <td>0.055493</td>\n",
       "      <td>0.055044</td>\n",
       "    </tr>\n",
       "    <tr>\n",
       "      <th>4</th>\n",
       "      <td>0.066446</td>\n",
       "      <td>0.065801</td>\n",
       "      <td>0.067720</td>\n",
       "      <td>0.066706</td>\n",
       "      <td>0.066269</td>\n",
       "      <td>0.066451</td>\n",
       "      <td>0.066779</td>\n",
       "      <td>0.066488</td>\n",
       "      <td>0.066297</td>\n",
       "      <td>0.068251</td>\n",
       "      <td>...</td>\n",
       "      <td>0.067579</td>\n",
       "      <td>0.065932</td>\n",
       "      <td>0.064275</td>\n",
       "      <td>0.062884</td>\n",
       "      <td>0.061588</td>\n",
       "      <td>0.060099</td>\n",
       "      <td>0.059214</td>\n",
       "      <td>0.058285</td>\n",
       "      <td>0.057006</td>\n",
       "      <td>0.056741</td>\n",
       "    </tr>\n",
       "  </tbody>\n",
       "</table>\n",
       "<p>5 rows × 410 columns</p>\n",
       "</div>"
      ],
      "text/plain": [
       "       X450      X455      X460      X465      X470      X475      X480  \\\n",
       "0  0.072084  0.072281  0.074527  0.073938  0.073444  0.073933  0.074270   \n",
       "1  0.071562  0.070789  0.072950  0.072189  0.071799  0.072144  0.072596   \n",
       "2  0.067849  0.067549  0.069338  0.068589  0.068386  0.068461  0.068986   \n",
       "3  0.064959  0.064509  0.066153  0.065387  0.065025  0.065148  0.065500   \n",
       "4  0.066446  0.065801  0.067720  0.066706  0.066269  0.066451  0.066779   \n",
       "\n",
       "       X485      X490      X495  ...     X2450     X2455     X2460     X2465  \\\n",
       "0  0.074302  0.074556  0.077044  ...  0.067297  0.065572  0.064134  0.062460   \n",
       "1  0.072355  0.072260  0.073828  ...  0.078345  0.076368  0.074371  0.072508   \n",
       "2  0.068710  0.068470  0.070524  ...  0.075083  0.073046  0.070950  0.068873   \n",
       "3  0.065179  0.065041  0.066772  ...  0.064992  0.063572  0.061879  0.060338   \n",
       "4  0.066488  0.066297  0.068251  ...  0.067579  0.065932  0.064275  0.062884   \n",
       "\n",
       "      X2470     X2475     X2480     X2485     X2490     X2495  \n",
       "0  0.061316  0.059724  0.058408  0.057898  0.057136  0.056414  \n",
       "1  0.071027  0.069200  0.068060  0.066575  0.065758  0.065334  \n",
       "2  0.067303  0.065461  0.063934  0.062901  0.061841  0.060885  \n",
       "3  0.059434  0.058130  0.057164  0.056357  0.055493  0.055044  \n",
       "4  0.061588  0.060099  0.059214  0.058285  0.057006  0.056741  \n",
       "\n",
       "[5 rows x 410 columns]"
      ]
     },
     "execution_count": 508,
     "metadata": {},
     "output_type": "execute_result"
    }
   ],
   "source": [
    "X.head()"
   ]
  },
  {
   "cell_type": "code",
   "execution_count": 509,
   "metadata": {},
   "outputs": [],
   "source": [
    "Index = pd.Series(most_important_index_SLA.iloc[: , 1])"
   ]
  },
  {
   "cell_type": "code",
   "execution_count": 510,
   "metadata": {},
   "outputs": [],
   "source": [
    "X_reduced = X.loc[:, Index]"
   ]
  },
  {
   "cell_type": "code",
   "execution_count": 511,
   "metadata": {},
   "outputs": [],
   "source": [
    "#define the cv\n",
    "cv = RepeatedKFold(n_splits=10)\n",
    "mse = []"
   ]
  },
  {
   "cell_type": "code",
   "execution_count": 512,
   "metadata": {},
   "outputs": [],
   "source": [
    "#Calculate MSE using cross-validation, adding one component at a time\n",
    "for i in np.arange(1, 40):\n",
    "    pls = PLSRegression(n_components=i)\n",
    "    score = -1*model_selection.cross_val_score(pls, X_reduced, y, cv=cv,\n",
    "               scoring='neg_mean_squared_error').mean()\n",
    "    mse.append(np.sqrt(score))"
   ]
  },
  {
   "cell_type": "code",
   "execution_count": 513,
   "metadata": {},
   "outputs": [],
   "source": [
    "n_comp = mse.index(min(mse)) +1 "
   ]
  },
  {
   "cell_type": "code",
   "execution_count": 514,
   "metadata": {},
   "outputs": [],
   "source": [
    "# split the dataset into training (60%) and testing (40%) sets\n",
    "X_train,X_test,y_train,y_test = train_test_split(X, y ,test_size=0.4) "
   ]
  },
  {
   "cell_type": "code",
   "execution_count": 515,
   "metadata": {},
   "outputs": [
    {
     "data": {
      "text/plain": [
       "(587, 410)"
      ]
     },
     "execution_count": 515,
     "metadata": {},
     "output_type": "execute_result"
    }
   ],
   "source": [
    "X.shape"
   ]
  },
  {
   "cell_type": "code",
   "execution_count": 516,
   "metadata": {},
   "outputs": [
    {
     "data": {
      "text/plain": [
       "PLSRegression(n_components=24)"
      ]
     },
     "execution_count": 516,
     "metadata": {},
     "output_type": "execute_result"
    }
   ],
   "source": [
    "# Train the model\n",
    "pls = PLSRegression(n_components= n_comp)\n",
    "pls.fit(X_train, y_train)"
   ]
  },
  {
   "cell_type": "code",
   "execution_count": 517,
   "metadata": {},
   "outputs": [
    {
     "data": {
      "text/plain": [
       "15.800205024348896"
      ]
     },
     "execution_count": 517,
     "metadata": {},
     "output_type": "execute_result"
    }
   ],
   "source": [
    "# Calculate the RMSE\n",
    "np.sqrt(mean_squared_error(y_test, pls.predict(X_test)))"
   ]
  },
  {
   "cell_type": "code",
   "execution_count": 518,
   "metadata": {},
   "outputs": [],
   "source": [
    "y_pred = pls.predict(X_test)"
   ]
  },
  {
   "cell_type": "code",
   "execution_count": 519,
   "metadata": {},
   "outputs": [],
   "source": [
    "y_pred = pd.DataFrame(y_pred)"
   ]
  },
  {
   "cell_type": "code",
   "execution_count": 520,
   "metadata": {},
   "outputs": [],
   "source": [
    "# Combine the 'year' and y_test for plotting and reset the index for combining with y_pred\n",
    "y_test =pd.merge(y_test, year , left_index=True , right_index=True,  how='left').reset_index(drop=True)"
   ]
  },
  {
   "cell_type": "code",
   "execution_count": 521,
   "metadata": {},
   "outputs": [
    {
     "data": {
      "text/html": [
       "<div>\n",
       "<style scoped>\n",
       "    .dataframe tbody tr th:only-of-type {\n",
       "        vertical-align: middle;\n",
       "    }\n",
       "\n",
       "    .dataframe tbody tr th {\n",
       "        vertical-align: top;\n",
       "    }\n",
       "\n",
       "    .dataframe thead th {\n",
       "        text-align: right;\n",
       "    }\n",
       "</style>\n",
       "<table border=\"1\" class=\"dataframe\">\n",
       "  <thead>\n",
       "    <tr style=\"text-align: right;\">\n",
       "      <th></th>\n",
       "      <th>SLA</th>\n",
       "      <th>year</th>\n",
       "    </tr>\n",
       "  </thead>\n",
       "  <tbody>\n",
       "    <tr>\n",
       "      <th>0</th>\n",
       "      <td>182.587644</td>\n",
       "      <td>2018</td>\n",
       "    </tr>\n",
       "    <tr>\n",
       "      <th>1</th>\n",
       "      <td>166.349655</td>\n",
       "      <td>2018</td>\n",
       "    </tr>\n",
       "    <tr>\n",
       "      <th>2</th>\n",
       "      <td>92.189928</td>\n",
       "      <td>2020</td>\n",
       "    </tr>\n",
       "    <tr>\n",
       "      <th>3</th>\n",
       "      <td>191.265337</td>\n",
       "      <td>2018</td>\n",
       "    </tr>\n",
       "    <tr>\n",
       "      <th>4</th>\n",
       "      <td>69.474708</td>\n",
       "      <td>2020</td>\n",
       "    </tr>\n",
       "  </tbody>\n",
       "</table>\n",
       "</div>"
      ],
      "text/plain": [
       "          SLA  year\n",
       "0  182.587644  2018\n",
       "1  166.349655  2018\n",
       "2   92.189928  2020\n",
       "3  191.265337  2018\n",
       "4   69.474708  2020"
      ]
     },
     "execution_count": 521,
     "metadata": {},
     "output_type": "execute_result"
    }
   ],
   "source": [
    "y_test.head()"
   ]
  },
  {
   "cell_type": "code",
   "execution_count": 522,
   "metadata": {},
   "outputs": [
    {
     "data": {
      "text/plain": [
       "pandas.core.frame.DataFrame"
      ]
     },
     "execution_count": 522,
     "metadata": {},
     "output_type": "execute_result"
    }
   ],
   "source": [
    "type(y_pred)"
   ]
  },
  {
   "cell_type": "code",
   "execution_count": 523,
   "metadata": {},
   "outputs": [],
   "source": [
    "#Combine y_test and y_pred and get one data frame for seaborn scatter plot\n",
    "data_plot = pd.concat([y_test, y_pred], axis = 1)"
   ]
  },
  {
   "cell_type": "code",
   "execution_count": 524,
   "metadata": {},
   "outputs": [],
   "source": [
    "data_plot =data_plot.rename({0 : 'predicted'} ,axis =1)"
   ]
  },
  {
   "cell_type": "code",
   "execution_count": 525,
   "metadata": {},
   "outputs": [
    {
     "data": {
      "text/html": [
       "<div>\n",
       "<style scoped>\n",
       "    .dataframe tbody tr th:only-of-type {\n",
       "        vertical-align: middle;\n",
       "    }\n",
       "\n",
       "    .dataframe tbody tr th {\n",
       "        vertical-align: top;\n",
       "    }\n",
       "\n",
       "    .dataframe thead th {\n",
       "        text-align: right;\n",
       "    }\n",
       "</style>\n",
       "<table border=\"1\" class=\"dataframe\">\n",
       "  <thead>\n",
       "    <tr style=\"text-align: right;\">\n",
       "      <th></th>\n",
       "      <th>SLA</th>\n",
       "      <th>year</th>\n",
       "      <th>predicted</th>\n",
       "    </tr>\n",
       "  </thead>\n",
       "  <tbody>\n",
       "    <tr>\n",
       "      <th>0</th>\n",
       "      <td>182.587644</td>\n",
       "      <td>2018</td>\n",
       "      <td>193.346706</td>\n",
       "    </tr>\n",
       "    <tr>\n",
       "      <th>1</th>\n",
       "      <td>166.349655</td>\n",
       "      <td>2018</td>\n",
       "      <td>169.385777</td>\n",
       "    </tr>\n",
       "    <tr>\n",
       "      <th>2</th>\n",
       "      <td>92.189928</td>\n",
       "      <td>2020</td>\n",
       "      <td>82.392828</td>\n",
       "    </tr>\n",
       "    <tr>\n",
       "      <th>3</th>\n",
       "      <td>191.265337</td>\n",
       "      <td>2018</td>\n",
       "      <td>197.146389</td>\n",
       "    </tr>\n",
       "    <tr>\n",
       "      <th>4</th>\n",
       "      <td>69.474708</td>\n",
       "      <td>2020</td>\n",
       "      <td>71.749718</td>\n",
       "    </tr>\n",
       "  </tbody>\n",
       "</table>\n",
       "</div>"
      ],
      "text/plain": [
       "          SLA  year   predicted\n",
       "0  182.587644  2018  193.346706\n",
       "1  166.349655  2018  169.385777\n",
       "2   92.189928  2020   82.392828\n",
       "3  191.265337  2018  197.146389\n",
       "4   69.474708  2020   71.749718"
      ]
     },
     "execution_count": 525,
     "metadata": {},
     "output_type": "execute_result"
    }
   ],
   "source": [
    "data_plot.head()"
   ]
  },
  {
   "cell_type": "code",
   "execution_count": 526,
   "metadata": {},
   "outputs": [],
   "source": [
    "# Calculate the spearman correlation , r2 and p value and pass them into the 'text'\n",
    "\n",
    "from scipy.stats import pearsonr, spearmanr\n",
    "#y_pred2 = [x[0] for x in data_plot.predicted]\n",
    "r, p = spearmanr(data_plot[trait], data_plot.predicted)\n",
    "r2 = r**2\n",
    "text =r2, p\n",
    "text = [np.round(r2, 2) for r2 in text]\n"
   ]
  },
  {
   "cell_type": "code",
   "execution_count": 527,
   "metadata": {},
   "outputs": [
    {
     "data": {
      "text/plain": [
       "Text(0.5, 1.0, 'SLA PLSR')"
      ]
     },
     "execution_count": 527,
     "metadata": {},
     "output_type": "execute_result"
    },
    {
     "data": {
      "image/png": "[encoded data removed]",
      "text/plain": [
       "<Figure size 432x288 with 1 Axes>"
      ]
     },
     "metadata": {},
     "output_type": "display_data"
    }
   ],
   "source": [
    "#plot the results\n",
    "text1 = 'r2=%s, p=%s' % (text[0], text[1])\n",
    "#sns.lmplot(x=trait, y='predicted',data=data_plot)\n",
    "sns.regplot(x=trait, y='predicted' , scatter_kws={'s' : 15},data=data_plot)\n",
    "xmin , xmax , ymin, ymax = plt.axis()\n",
    "sns.scatterplot(x=trait, y='predicted', hue= 'year', data=data_plot).text((xmax)/2, ymax*0.96, text1, fontsize=12)\n",
    "plt.xlabel('Ground Truth' + ' ' + trait)\n",
    "plt.ylabel('Predicted' + ' ' + trait + ' ' + 'Values')\n",
    "plt.title(trait + ' ' + 'PLSR')\n",
    "\n"
   ]
  },
  {
   "cell_type": "code",
   "execution_count": 528,
   "metadata": {},
   "outputs": [],
   "source": [
    "data_2022 = pd.read_csv('sorghum_2022_whole.csv')"
   ]
  },
  {
   "cell_type": "code",
   "execution_count": 529,
   "metadata": {},
   "outputs": [],
   "source": [
    "data_2022 =data_2022.loc[data_2022['355'].notnull(), :]"
   ]
  },
  {
   "cell_type": "code",
   "execution_count": 530,
   "metadata": {},
   "outputs": [],
   "source": [
    "data_2022['CHL'] = data_2022[['CHLp1', 'CHLp2', 'CHLp3']].mean(axis=1)"
   ]
  },
  {
   "cell_type": "code",
   "execution_count": 531,
   "metadata": {},
   "outputs": [],
   "source": [
    "data_2022['LWC'] = data_2022['LWC']/100"
   ]
  },
  {
   "cell_type": "code",
   "execution_count": 532,
   "metadata": {},
   "outputs": [],
   "source": [
    "data_2022 = data_2022.loc[data_2022['Leaf_num'] != 2 , :]"
   ]
  },
  {
   "cell_type": "code",
   "execution_count": 533,
   "metadata": {},
   "outputs": [],
   "source": [
    "#data_2022 = data_2022.loc[data_2022['Leaf_pos'] == 3 , :]"
   ]
  },
  {
   "cell_type": "code",
   "execution_count": 534,
   "metadata": {},
   "outputs": [],
   "source": [
    "#data_2022 = data_2022.loc[data_2022['CHL']< 700 , :]"
   ]
  },
  {
   "cell_type": "code",
   "execution_count": 535,
   "metadata": {},
   "outputs": [
    {
     "data": {
      "text/plain": [
       "<AxesSubplot:ylabel='SLA'>"
      ]
     },
     "execution_count": 535,
     "metadata": {},
     "output_type": "execute_result"
    },
    {
     "data": {
      "image/png": "[encoded data removed]",
      "text/plain": [
       "<Figure size 432x288 with 1 Axes>"
      ]
     },
     "metadata": {},
     "output_type": "display_data"
    }
   ],
   "source": [
    "sns.boxplot(y= trait, data=data_2022)"
   ]
  },
  {
   "cell_type": "code",
   "execution_count": 536,
   "metadata": {},
   "outputs": [
    {
     "data": {
      "text/html": [
       "<div>\n",
       "<style scoped>\n",
       "    .dataframe tbody tr th:only-of-type {\n",
       "        vertical-align: middle;\n",
       "    }\n",
       "\n",
       "    .dataframe tbody tr th {\n",
       "        vertical-align: top;\n",
       "    }\n",
       "\n",
       "    .dataframe thead th {\n",
       "        text-align: right;\n",
       "    }\n",
       "</style>\n",
       "<table border=\"1\" class=\"dataframe\">\n",
       "  <thead>\n",
       "    <tr style=\"text-align: right;\">\n",
       "      <th></th>\n",
       "      <th></th>\n",
       "      <th>Leaf_num</th>\n",
       "      <th>CHLp1</th>\n",
       "      <th>CHLp2</th>\n",
       "      <th>CHLp3</th>\n",
       "      <th>FW</th>\n",
       "      <th>LA</th>\n",
       "      <th>DW</th>\n",
       "      <th>SLA</th>\n",
       "      <th>THCK</th>\n",
       "      <th>LWC</th>\n",
       "      <th>...</th>\n",
       "      <th>2492</th>\n",
       "      <th>2493</th>\n",
       "      <th>2494</th>\n",
       "      <th>2495</th>\n",
       "      <th>2496</th>\n",
       "      <th>2497</th>\n",
       "      <th>2498</th>\n",
       "      <th>2499</th>\n",
       "      <th>2500</th>\n",
       "      <th>CHL</th>\n",
       "    </tr>\n",
       "    <tr>\n",
       "      <th>Genotype</th>\n",
       "      <th>Rep</th>\n",
       "      <th></th>\n",
       "      <th></th>\n",
       "      <th></th>\n",
       "      <th></th>\n",
       "      <th></th>\n",
       "      <th></th>\n",
       "      <th></th>\n",
       "      <th></th>\n",
       "      <th></th>\n",
       "      <th></th>\n",
       "      <th></th>\n",
       "      <th></th>\n",
       "      <th></th>\n",
       "      <th></th>\n",
       "      <th></th>\n",
       "      <th></th>\n",
       "      <th></th>\n",
       "      <th></th>\n",
       "      <th></th>\n",
       "      <th></th>\n",
       "      <th></th>\n",
       "    </tr>\n",
       "  </thead>\n",
       "  <tbody>\n",
       "    <tr>\n",
       "      <th rowspan=\"2\" valign=\"top\">1</th>\n",
       "      <th>1</th>\n",
       "      <td>2.0</td>\n",
       "      <td>403.30</td>\n",
       "      <td>417.60</td>\n",
       "      <td>373.70</td>\n",
       "      <td>3.050</td>\n",
       "      <td>203.315</td>\n",
       "      <td>0.795</td>\n",
       "      <td>257.092342</td>\n",
       "      <td>69.530235</td>\n",
       "      <td>0.729826</td>\n",
       "      <td>...</td>\n",
       "      <td>0.075083</td>\n",
       "      <td>0.074767</td>\n",
       "      <td>0.074717</td>\n",
       "      <td>0.074495</td>\n",
       "      <td>0.074277</td>\n",
       "      <td>0.073817</td>\n",
       "      <td>0.072667</td>\n",
       "      <td>0.072467</td>\n",
       "      <td>0.073033</td>\n",
       "      <td>398.200000</td>\n",
       "    </tr>\n",
       "    <tr>\n",
       "      <th>2</th>\n",
       "      <td>2.0</td>\n",
       "      <td>390.05</td>\n",
       "      <td>244.10</td>\n",
       "      <td>220.00</td>\n",
       "      <td>3.075</td>\n",
       "      <td>190.365</td>\n",
       "      <td>0.775</td>\n",
       "      <td>251.344436</td>\n",
       "      <td>66.547158</td>\n",
       "      <td>0.736781</td>\n",
       "      <td>...</td>\n",
       "      <td>0.075576</td>\n",
       "      <td>0.075305</td>\n",
       "      <td>0.075219</td>\n",
       "      <td>0.075162</td>\n",
       "      <td>0.075687</td>\n",
       "      <td>0.075395</td>\n",
       "      <td>0.074362</td>\n",
       "      <td>0.073932</td>\n",
       "      <td>0.073131</td>\n",
       "      <td>284.716667</td>\n",
       "    </tr>\n",
       "    <tr>\n",
       "      <th rowspan=\"2\" valign=\"top\">2</th>\n",
       "      <th>1</th>\n",
       "      <td>1.0</td>\n",
       "      <td>765.90</td>\n",
       "      <td>749.80</td>\n",
       "      <td>761.50</td>\n",
       "      <td>15.300</td>\n",
       "      <td>588.120</td>\n",
       "      <td>4.090</td>\n",
       "      <td>143.794621</td>\n",
       "      <td>38.439216</td>\n",
       "      <td>0.732680</td>\n",
       "      <td>...</td>\n",
       "      <td>0.045286</td>\n",
       "      <td>0.044667</td>\n",
       "      <td>0.043567</td>\n",
       "      <td>0.043349</td>\n",
       "      <td>0.043433</td>\n",
       "      <td>0.043200</td>\n",
       "      <td>0.043786</td>\n",
       "      <td>0.043700</td>\n",
       "      <td>0.042268</td>\n",
       "      <td>759.066667</td>\n",
       "    </tr>\n",
       "    <tr>\n",
       "      <th>2</th>\n",
       "      <td>2.0</td>\n",
       "      <td>552.60</td>\n",
       "      <td>405.25</td>\n",
       "      <td>148.25</td>\n",
       "      <td>15.500</td>\n",
       "      <td>608.395</td>\n",
       "      <td>4.470</td>\n",
       "      <td>136.754379</td>\n",
       "      <td>39.219249</td>\n",
       "      <td>0.712232</td>\n",
       "      <td>...</td>\n",
       "      <td>0.044450</td>\n",
       "      <td>0.044295</td>\n",
       "      <td>0.044209</td>\n",
       "      <td>0.044067</td>\n",
       "      <td>0.043633</td>\n",
       "      <td>0.043225</td>\n",
       "      <td>0.042703</td>\n",
       "      <td>0.042633</td>\n",
       "      <td>0.042550</td>\n",
       "      <td>368.700000</td>\n",
       "    </tr>\n",
       "    <tr>\n",
       "      <th>4</th>\n",
       "      <th>1</th>\n",
       "      <td>2.0</td>\n",
       "      <td>495.75</td>\n",
       "      <td>518.35</td>\n",
       "      <td>526.30</td>\n",
       "      <td>13.700</td>\n",
       "      <td>598.030</td>\n",
       "      <td>4.315</td>\n",
       "      <td>138.274266</td>\n",
       "      <td>43.526700</td>\n",
       "      <td>0.685258</td>\n",
       "      <td>...</td>\n",
       "      <td>0.063600</td>\n",
       "      <td>0.063374</td>\n",
       "      <td>0.062941</td>\n",
       "      <td>0.062683</td>\n",
       "      <td>0.062683</td>\n",
       "      <td>0.062624</td>\n",
       "      <td>0.062445</td>\n",
       "      <td>0.062400</td>\n",
       "      <td>0.062583</td>\n",
       "      <td>513.466667</td>\n",
       "    </tr>\n",
       "  </tbody>\n",
       "</table>\n",
       "<p>5 rows × 2163 columns</p>\n",
       "</div>"
      ],
      "text/plain": [
       "              Leaf_num   CHLp1   CHLp2   CHLp3      FW       LA     DW  \\\n",
       "Genotype Rep                                                             \n",
       "1        1         2.0  403.30  417.60  373.70   3.050  203.315  0.795   \n",
       "         2         2.0  390.05  244.10  220.00   3.075  190.365  0.775   \n",
       "2        1         1.0  765.90  749.80  761.50  15.300  588.120  4.090   \n",
       "         2         2.0  552.60  405.25  148.25  15.500  608.395  4.470   \n",
       "4        1         2.0  495.75  518.35  526.30  13.700  598.030  4.315   \n",
       "\n",
       "                     SLA       THCK       LWC  ...      2492      2493  \\\n",
       "Genotype Rep                                   ...                       \n",
       "1        1    257.092342  69.530235  0.729826  ...  0.075083  0.074767   \n",
       "         2    251.344436  66.547158  0.736781  ...  0.075576  0.075305   \n",
       "2        1    143.794621  38.439216  0.732680  ...  0.045286  0.044667   \n",
       "         2    136.754379  39.219249  0.712232  ...  0.044450  0.044295   \n",
       "4        1    138.274266  43.526700  0.685258  ...  0.063600  0.063374   \n",
       "\n",
       "                  2494      2495      2496      2497      2498      2499  \\\n",
       "Genotype Rep                                                               \n",
       "1        1    0.074717  0.074495  0.074277  0.073817  0.072667  0.072467   \n",
       "         2    0.075219  0.075162  0.075687  0.075395  0.074362  0.073932   \n",
       "2        1    0.043567  0.043349  0.043433  0.043200  0.043786  0.043700   \n",
       "         2    0.044209  0.044067  0.043633  0.043225  0.042703  0.042633   \n",
       "4        1    0.062941  0.062683  0.062683  0.062624  0.062445  0.062400   \n",
       "\n",
       "                  2500         CHL  \n",
       "Genotype Rep                        \n",
       "1        1    0.073033  398.200000  \n",
       "         2    0.073131  284.716667  \n",
       "2        1    0.042268  759.066667  \n",
       "         2    0.042550  368.700000  \n",
       "4        1    0.062583  513.466667  \n",
       "\n",
       "[5 rows x 2163 columns]"
      ]
     },
     "execution_count": 536,
     "metadata": {},
     "output_type": "execute_result"
    }
   ],
   "source": [
    "import copy\n",
    "data_test = copy.deepcopy(data_2022)\n",
    "\n",
    "data = pd.read_csv\n",
    "my_group = data_test.groupby(['Genotype', 'Rep']).mean()\n",
    "\n",
    "my_group.head()"
   ]
  },
  {
   "cell_type": "code",
   "execution_count": 537,
   "metadata": {},
   "outputs": [],
   "source": [
    "my_group = my_group.reset_index(level=['Genotype', 'Rep'])"
   ]
  },
  {
   "cell_type": "code",
   "execution_count": 538,
   "metadata": {},
   "outputs": [
    {
     "data": {
      "text/plain": [
       "(84.33015039342492, 257.0362606548748)"
      ]
     },
     "execution_count": 538,
     "metadata": {},
     "output_type": "execute_result"
    }
   ],
   "source": [
    "outlier_treatment(my_group[trait])"
   ]
  },
  {
   "cell_type": "code",
   "execution_count": 539,
   "metadata": {},
   "outputs": [],
   "source": [
    "lowerbound,upperbound = outlier_treatment(my_group[trait])"
   ]
  },
  {
   "cell_type": "code",
   "execution_count": 540,
   "metadata": {},
   "outputs": [
    {
     "data": {
      "text/plain": [
       "Int64Index([0, 40, 41], dtype='int64')"
      ]
     },
     "execution_count": 540,
     "metadata": {},
     "output_type": "execute_result"
    }
   ],
   "source": [
    "rm_index =my_group[(my_group[trait] < lowerbound) | (my_group[trait] > upperbound)].index\n",
    "rm_index"
   ]
  },
  {
   "cell_type": "code",
   "execution_count": 541,
   "metadata": {},
   "outputs": [],
   "source": [
    "my_group.drop(rm_index, axis=0 ,inplace=True)"
   ]
  },
  {
   "cell_type": "code",
   "execution_count": 542,
   "metadata": {},
   "outputs": [],
   "source": [
    "y_test = my_group.loc[:, trait]"
   ]
  },
  {
   "cell_type": "code",
   "execution_count": 543,
   "metadata": {},
   "outputs": [
    {
     "data": {
      "text/plain": [
       "(117,)"
      ]
     },
     "execution_count": 543,
     "metadata": {},
     "output_type": "execute_result"
    }
   ],
   "source": [
    "y_test.shape"
   ]
  },
  {
   "cell_type": "code",
   "execution_count": 544,
   "metadata": {},
   "outputs": [],
   "source": [
    "X_total = my_group.iloc[:, 13:2164]"
   ]
  },
  {
   "cell_type": "code",
   "execution_count": 545,
   "metadata": {},
   "outputs": [],
   "source": [
    "X_total.drop(columns = X_total.columns[0:100], inplace = True) "
   ]
  },
  {
   "cell_type": "code",
   "execution_count": 546,
   "metadata": {},
   "outputs": [
    {
     "data": {
      "text/html": [
       "<div>\n",
       "<style scoped>\n",
       "    .dataframe tbody tr th:only-of-type {\n",
       "        vertical-align: middle;\n",
       "    }\n",
       "\n",
       "    .dataframe tbody tr th {\n",
       "        vertical-align: top;\n",
       "    }\n",
       "\n",
       "    .dataframe thead th {\n",
       "        text-align: right;\n",
       "    }\n",
       "</style>\n",
       "<table border=\"1\" class=\"dataframe\">\n",
       "  <thead>\n",
       "    <tr style=\"text-align: right;\">\n",
       "      <th></th>\n",
       "      <th>450</th>\n",
       "      <th>451</th>\n",
       "      <th>452</th>\n",
       "      <th>453</th>\n",
       "      <th>454</th>\n",
       "      <th>455</th>\n",
       "      <th>456</th>\n",
       "      <th>457</th>\n",
       "      <th>458</th>\n",
       "      <th>459</th>\n",
       "      <th>...</th>\n",
       "      <th>2491</th>\n",
       "      <th>2492</th>\n",
       "      <th>2493</th>\n",
       "      <th>2494</th>\n",
       "      <th>2495</th>\n",
       "      <th>2496</th>\n",
       "      <th>2497</th>\n",
       "      <th>2498</th>\n",
       "      <th>2499</th>\n",
       "      <th>2500</th>\n",
       "    </tr>\n",
       "  </thead>\n",
       "  <tbody>\n",
       "    <tr>\n",
       "      <th>1</th>\n",
       "      <td>0.089735</td>\n",
       "      <td>0.089894</td>\n",
       "      <td>0.089596</td>\n",
       "      <td>0.089757</td>\n",
       "      <td>0.090451</td>\n",
       "      <td>0.090961</td>\n",
       "      <td>0.091022</td>\n",
       "      <td>0.091035</td>\n",
       "      <td>0.091390</td>\n",
       "      <td>0.091730</td>\n",
       "      <td>...</td>\n",
       "      <td>0.076182</td>\n",
       "      <td>0.075576</td>\n",
       "      <td>0.075305</td>\n",
       "      <td>0.075219</td>\n",
       "      <td>0.075162</td>\n",
       "      <td>0.075687</td>\n",
       "      <td>0.075395</td>\n",
       "      <td>0.074362</td>\n",
       "      <td>0.073932</td>\n",
       "      <td>0.073131</td>\n",
       "    </tr>\n",
       "    <tr>\n",
       "      <th>2</th>\n",
       "      <td>0.049967</td>\n",
       "      <td>0.050133</td>\n",
       "      <td>0.049900</td>\n",
       "      <td>0.049733</td>\n",
       "      <td>0.049900</td>\n",
       "      <td>0.050400</td>\n",
       "      <td>0.051033</td>\n",
       "      <td>0.051267</td>\n",
       "      <td>0.050967</td>\n",
       "      <td>0.051233</td>\n",
       "      <td>...</td>\n",
       "      <td>0.045781</td>\n",
       "      <td>0.045286</td>\n",
       "      <td>0.044667</td>\n",
       "      <td>0.043567</td>\n",
       "      <td>0.043349</td>\n",
       "      <td>0.043433</td>\n",
       "      <td>0.043200</td>\n",
       "      <td>0.043786</td>\n",
       "      <td>0.043700</td>\n",
       "      <td>0.042268</td>\n",
       "    </tr>\n",
       "    <tr>\n",
       "      <th>3</th>\n",
       "      <td>0.048267</td>\n",
       "      <td>0.048250</td>\n",
       "      <td>0.048000</td>\n",
       "      <td>0.048017</td>\n",
       "      <td>0.048467</td>\n",
       "      <td>0.048660</td>\n",
       "      <td>0.048919</td>\n",
       "      <td>0.049087</td>\n",
       "      <td>0.049033</td>\n",
       "      <td>0.049333</td>\n",
       "      <td>...</td>\n",
       "      <td>0.044300</td>\n",
       "      <td>0.044450</td>\n",
       "      <td>0.044295</td>\n",
       "      <td>0.044209</td>\n",
       "      <td>0.044067</td>\n",
       "      <td>0.043633</td>\n",
       "      <td>0.043225</td>\n",
       "      <td>0.042703</td>\n",
       "      <td>0.042633</td>\n",
       "      <td>0.042550</td>\n",
       "    </tr>\n",
       "    <tr>\n",
       "      <th>4</th>\n",
       "      <td>0.067517</td>\n",
       "      <td>0.067321</td>\n",
       "      <td>0.067967</td>\n",
       "      <td>0.068417</td>\n",
       "      <td>0.068267</td>\n",
       "      <td>0.068000</td>\n",
       "      <td>0.067867</td>\n",
       "      <td>0.068286</td>\n",
       "      <td>0.069100</td>\n",
       "      <td>0.068917</td>\n",
       "      <td>...</td>\n",
       "      <td>0.064010</td>\n",
       "      <td>0.063600</td>\n",
       "      <td>0.063374</td>\n",
       "      <td>0.062941</td>\n",
       "      <td>0.062683</td>\n",
       "      <td>0.062683</td>\n",
       "      <td>0.062624</td>\n",
       "      <td>0.062445</td>\n",
       "      <td>0.062400</td>\n",
       "      <td>0.062583</td>\n",
       "    </tr>\n",
       "    <tr>\n",
       "      <th>5</th>\n",
       "      <td>0.063735</td>\n",
       "      <td>0.063083</td>\n",
       "      <td>0.063350</td>\n",
       "      <td>0.063783</td>\n",
       "      <td>0.063867</td>\n",
       "      <td>0.063392</td>\n",
       "      <td>0.063017</td>\n",
       "      <td>0.063304</td>\n",
       "      <td>0.064133</td>\n",
       "      <td>0.064033</td>\n",
       "      <td>...</td>\n",
       "      <td>0.059400</td>\n",
       "      <td>0.058808</td>\n",
       "      <td>0.058487</td>\n",
       "      <td>0.058267</td>\n",
       "      <td>0.058083</td>\n",
       "      <td>0.058216</td>\n",
       "      <td>0.058133</td>\n",
       "      <td>0.057967</td>\n",
       "      <td>0.057863</td>\n",
       "      <td>0.057836</td>\n",
       "    </tr>\n",
       "    <tr>\n",
       "      <th>...</th>\n",
       "      <td>...</td>\n",
       "      <td>...</td>\n",
       "      <td>...</td>\n",
       "      <td>...</td>\n",
       "      <td>...</td>\n",
       "      <td>...</td>\n",
       "      <td>...</td>\n",
       "      <td>...</td>\n",
       "      <td>...</td>\n",
       "      <td>...</td>\n",
       "      <td>...</td>\n",
       "      <td>...</td>\n",
       "      <td>...</td>\n",
       "      <td>...</td>\n",
       "      <td>...</td>\n",
       "      <td>...</td>\n",
       "      <td>...</td>\n",
       "      <td>...</td>\n",
       "      <td>...</td>\n",
       "      <td>...</td>\n",
       "      <td>...</td>\n",
       "    </tr>\n",
       "    <tr>\n",
       "      <th>115</th>\n",
       "      <td>0.091942</td>\n",
       "      <td>0.092791</td>\n",
       "      <td>0.093003</td>\n",
       "      <td>0.093339</td>\n",
       "      <td>0.093955</td>\n",
       "      <td>0.094083</td>\n",
       "      <td>0.094451</td>\n",
       "      <td>0.094993</td>\n",
       "      <td>0.095507</td>\n",
       "      <td>0.095401</td>\n",
       "      <td>...</td>\n",
       "      <td>0.090411</td>\n",
       "      <td>0.090124</td>\n",
       "      <td>0.089853</td>\n",
       "      <td>0.089571</td>\n",
       "      <td>0.088992</td>\n",
       "      <td>0.088277</td>\n",
       "      <td>0.087723</td>\n",
       "      <td>0.086604</td>\n",
       "      <td>0.086253</td>\n",
       "      <td>0.086805</td>\n",
       "    </tr>\n",
       "    <tr>\n",
       "      <th>116</th>\n",
       "      <td>0.073563</td>\n",
       "      <td>0.074333</td>\n",
       "      <td>0.074651</td>\n",
       "      <td>0.074866</td>\n",
       "      <td>0.075229</td>\n",
       "      <td>0.075790</td>\n",
       "      <td>0.076105</td>\n",
       "      <td>0.076172</td>\n",
       "      <td>0.076220</td>\n",
       "      <td>0.076790</td>\n",
       "      <td>...</td>\n",
       "      <td>0.064000</td>\n",
       "      <td>0.063292</td>\n",
       "      <td>0.063044</td>\n",
       "      <td>0.062767</td>\n",
       "      <td>0.062450</td>\n",
       "      <td>0.062633</td>\n",
       "      <td>0.062533</td>\n",
       "      <td>0.062028</td>\n",
       "      <td>0.061886</td>\n",
       "      <td>0.062250</td>\n",
       "    </tr>\n",
       "    <tr>\n",
       "      <th>117</th>\n",
       "      <td>0.083447</td>\n",
       "      <td>0.083765</td>\n",
       "      <td>0.084466</td>\n",
       "      <td>0.084728</td>\n",
       "      <td>0.084711</td>\n",
       "      <td>0.085620</td>\n",
       "      <td>0.085737</td>\n",
       "      <td>0.085617</td>\n",
       "      <td>0.085999</td>\n",
       "      <td>0.086403</td>\n",
       "      <td>...</td>\n",
       "      <td>0.072619</td>\n",
       "      <td>0.072563</td>\n",
       "      <td>0.072436</td>\n",
       "      <td>0.073017</td>\n",
       "      <td>0.072750</td>\n",
       "      <td>0.071733</td>\n",
       "      <td>0.071446</td>\n",
       "      <td>0.071167</td>\n",
       "      <td>0.070800</td>\n",
       "      <td>0.071067</td>\n",
       "    </tr>\n",
       "    <tr>\n",
       "      <th>118</th>\n",
       "      <td>0.054250</td>\n",
       "      <td>0.054150</td>\n",
       "      <td>0.054483</td>\n",
       "      <td>0.055017</td>\n",
       "      <td>0.055515</td>\n",
       "      <td>0.055820</td>\n",
       "      <td>0.056068</td>\n",
       "      <td>0.056067</td>\n",
       "      <td>0.055802</td>\n",
       "      <td>0.056333</td>\n",
       "      <td>...</td>\n",
       "      <td>0.071167</td>\n",
       "      <td>0.070477</td>\n",
       "      <td>0.070030</td>\n",
       "      <td>0.070067</td>\n",
       "      <td>0.069821</td>\n",
       "      <td>0.069652</td>\n",
       "      <td>0.069317</td>\n",
       "      <td>0.068733</td>\n",
       "      <td>0.068336</td>\n",
       "      <td>0.067793</td>\n",
       "    </tr>\n",
       "    <tr>\n",
       "      <th>119</th>\n",
       "      <td>0.048423</td>\n",
       "      <td>0.048300</td>\n",
       "      <td>0.048582</td>\n",
       "      <td>0.048956</td>\n",
       "      <td>0.049242</td>\n",
       "      <td>0.049483</td>\n",
       "      <td>0.049883</td>\n",
       "      <td>0.050000</td>\n",
       "      <td>0.049707</td>\n",
       "      <td>0.050087</td>\n",
       "      <td>...</td>\n",
       "      <td>0.059133</td>\n",
       "      <td>0.059350</td>\n",
       "      <td>0.059032</td>\n",
       "      <td>0.058300</td>\n",
       "      <td>0.058067</td>\n",
       "      <td>0.057633</td>\n",
       "      <td>0.057300</td>\n",
       "      <td>0.057708</td>\n",
       "      <td>0.057460</td>\n",
       "      <td>0.056350</td>\n",
       "    </tr>\n",
       "  </tbody>\n",
       "</table>\n",
       "<p>117 rows × 2051 columns</p>\n",
       "</div>"
      ],
      "text/plain": [
       "          450       451       452       453       454       455       456  \\\n",
       "1    0.089735  0.089894  0.089596  0.089757  0.090451  0.090961  0.091022   \n",
       "2    0.049967  0.050133  0.049900  0.049733  0.049900  0.050400  0.051033   \n",
       "3    0.048267  0.048250  0.048000  0.048017  0.048467  0.048660  0.048919   \n",
       "4    0.067517  0.067321  0.067967  0.068417  0.068267  0.068000  0.067867   \n",
       "5    0.063735  0.063083  0.063350  0.063783  0.063867  0.063392  0.063017   \n",
       "..        ...       ...       ...       ...       ...       ...       ...   \n",
       "115  0.091942  0.092791  0.093003  0.093339  0.093955  0.094083  0.094451   \n",
       "116  0.073563  0.074333  0.074651  0.074866  0.075229  0.075790  0.076105   \n",
       "117  0.083447  0.083765  0.084466  0.084728  0.084711  0.085620  0.085737   \n",
       "118  0.054250  0.054150  0.054483  0.055017  0.055515  0.055820  0.056068   \n",
       "119  0.048423  0.048300  0.048582  0.048956  0.049242  0.049483  0.049883   \n",
       "\n",
       "          457       458       459  ...      2491      2492      2493  \\\n",
       "1    0.091035  0.091390  0.091730  ...  0.076182  0.075576  0.075305   \n",
       "2    0.051267  0.050967  0.051233  ...  0.045781  0.045286  0.044667   \n",
       "3    0.049087  0.049033  0.049333  ...  0.044300  0.044450  0.044295   \n",
       "4    0.068286  0.069100  0.068917  ...  0.064010  0.063600  0.063374   \n",
       "5    0.063304  0.064133  0.064033  ...  0.059400  0.058808  0.058487   \n",
       "..        ...       ...       ...  ...       ...       ...       ...   \n",
       "115  0.094993  0.095507  0.095401  ...  0.090411  0.090124  0.089853   \n",
       "116  0.076172  0.076220  0.076790  ...  0.064000  0.063292  0.063044   \n",
       "117  0.085617  0.085999  0.086403  ...  0.072619  0.072563  0.072436   \n",
       "118  0.056067  0.055802  0.056333  ...  0.071167  0.070477  0.070030   \n",
       "119  0.050000  0.049707  0.050087  ...  0.059133  0.059350  0.059032   \n",
       "\n",
       "         2494      2495      2496      2497      2498      2499      2500  \n",
       "1    0.075219  0.075162  0.075687  0.075395  0.074362  0.073932  0.073131  \n",
       "2    0.043567  0.043349  0.043433  0.043200  0.043786  0.043700  0.042268  \n",
       "3    0.044209  0.044067  0.043633  0.043225  0.042703  0.042633  0.042550  \n",
       "4    0.062941  0.062683  0.062683  0.062624  0.062445  0.062400  0.062583  \n",
       "5    0.058267  0.058083  0.058216  0.058133  0.057967  0.057863  0.057836  \n",
       "..        ...       ...       ...       ...       ...       ...       ...  \n",
       "115  0.089571  0.088992  0.088277  0.087723  0.086604  0.086253  0.086805  \n",
       "116  0.062767  0.062450  0.062633  0.062533  0.062028  0.061886  0.062250  \n",
       "117  0.073017  0.072750  0.071733  0.071446  0.071167  0.070800  0.071067  \n",
       "118  0.070067  0.069821  0.069652  0.069317  0.068733  0.068336  0.067793  \n",
       "119  0.058300  0.058067  0.057633  0.057300  0.057708  0.057460  0.056350  \n",
       "\n",
       "[117 rows x 2051 columns]"
      ]
     },
     "execution_count": 546,
     "metadata": {},
     "output_type": "execute_result"
    }
   ],
   "source": [
    "X_total"
   ]
  },
  {
   "cell_type": "code",
   "execution_count": 547,
   "metadata": {},
   "outputs": [],
   "source": [
    "#select the columns of HR data\n",
    "spec_columns2 = X_total.columns"
   ]
  },
  {
   "cell_type": "code",
   "execution_count": 548,
   "metadata": {},
   "outputs": [],
   "source": [
    "# Apply Savitzky Golay Filter\n",
    "X_total = savgol_filter(X_total, window_length=5 , polyorder = 2)\n",
    "X_total = pd.DataFrame(X_total, columns= spec_columns2)"
   ]
  },
  {
   "cell_type": "code",
   "execution_count": 549,
   "metadata": {},
   "outputs": [
    {
     "data": {
      "text/html": [
       "<div>\n",
       "<style scoped>\n",
       "    .dataframe tbody tr th:only-of-type {\n",
       "        vertical-align: middle;\n",
       "    }\n",
       "\n",
       "    .dataframe tbody tr th {\n",
       "        vertical-align: top;\n",
       "    }\n",
       "\n",
       "    .dataframe thead th {\n",
       "        text-align: right;\n",
       "    }\n",
       "</style>\n",
       "<table border=\"1\" class=\"dataframe\">\n",
       "  <thead>\n",
       "    <tr style=\"text-align: right;\">\n",
       "      <th></th>\n",
       "      <th>450</th>\n",
       "      <th>451</th>\n",
       "      <th>452</th>\n",
       "      <th>453</th>\n",
       "      <th>454</th>\n",
       "      <th>455</th>\n",
       "      <th>456</th>\n",
       "      <th>457</th>\n",
       "      <th>458</th>\n",
       "      <th>459</th>\n",
       "      <th>...</th>\n",
       "      <th>2491</th>\n",
       "      <th>2492</th>\n",
       "      <th>2493</th>\n",
       "      <th>2494</th>\n",
       "      <th>2495</th>\n",
       "      <th>2496</th>\n",
       "      <th>2497</th>\n",
       "      <th>2498</th>\n",
       "      <th>2499</th>\n",
       "      <th>2500</th>\n",
       "    </tr>\n",
       "  </thead>\n",
       "  <tbody>\n",
       "    <tr>\n",
       "      <th>0</th>\n",
       "      <td>0.089846</td>\n",
       "      <td>0.089648</td>\n",
       "      <td>0.089668</td>\n",
       "      <td>0.089825</td>\n",
       "      <td>0.090412</td>\n",
       "      <td>0.090904</td>\n",
       "      <td>0.091023</td>\n",
       "      <td>0.091099</td>\n",
       "      <td>0.091373</td>\n",
       "      <td>0.091713</td>\n",
       "      <td>...</td>\n",
       "      <td>0.076116</td>\n",
       "      <td>0.075635</td>\n",
       "      <td>0.075306</td>\n",
       "      <td>0.075159</td>\n",
       "      <td>0.075329</td>\n",
       "      <td>0.075560</td>\n",
       "      <td>0.075286</td>\n",
       "      <td>0.074560</td>\n",
       "      <td>0.073873</td>\n",
       "      <td>0.073128</td>\n",
       "    </tr>\n",
       "    <tr>\n",
       "      <th>1</th>\n",
       "      <td>0.050043</td>\n",
       "      <td>0.049975</td>\n",
       "      <td>0.049917</td>\n",
       "      <td>0.049756</td>\n",
       "      <td>0.049917</td>\n",
       "      <td>0.050429</td>\n",
       "      <td>0.050999</td>\n",
       "      <td>0.051161</td>\n",
       "      <td>0.051124</td>\n",
       "      <td>0.051182</td>\n",
       "      <td>...</td>\n",
       "      <td>0.045737</td>\n",
       "      <td>0.045338</td>\n",
       "      <td>0.044519</td>\n",
       "      <td>0.043733</td>\n",
       "      <td>0.043352</td>\n",
       "      <td>0.043283</td>\n",
       "      <td>0.043425</td>\n",
       "      <td>0.043716</td>\n",
       "      <td>0.043314</td>\n",
       "      <td>0.042473</td>\n",
       "    </tr>\n",
       "    <tr>\n",
       "      <th>2</th>\n",
       "      <td>0.048338</td>\n",
       "      <td>0.048098</td>\n",
       "      <td>0.048029</td>\n",
       "      <td>0.048090</td>\n",
       "      <td>0.048380</td>\n",
       "      <td>0.048701</td>\n",
       "      <td>0.048917</td>\n",
       "      <td>0.049027</td>\n",
       "      <td>0.049113</td>\n",
       "      <td>0.049329</td>\n",
       "      <td>...</td>\n",
       "      <td>0.044342</td>\n",
       "      <td>0.044367</td>\n",
       "      <td>0.044338</td>\n",
       "      <td>0.044218</td>\n",
       "      <td>0.044019</td>\n",
       "      <td>0.043672</td>\n",
       "      <td>0.043164</td>\n",
       "      <td>0.042791</td>\n",
       "      <td>0.042594</td>\n",
       "      <td>0.042555</td>\n",
       "    </tr>\n",
       "    <tr>\n",
       "      <th>3</th>\n",
       "      <td>0.067364</td>\n",
       "      <td>0.067646</td>\n",
       "      <td>0.067913</td>\n",
       "      <td>0.068341</td>\n",
       "      <td>0.068287</td>\n",
       "      <td>0.067986</td>\n",
       "      <td>0.067916</td>\n",
       "      <td>0.068392</td>\n",
       "      <td>0.068904</td>\n",
       "      <td>0.068971</td>\n",
       "      <td>...</td>\n",
       "      <td>0.063989</td>\n",
       "      <td>0.063677</td>\n",
       "      <td>0.063308</td>\n",
       "      <td>0.062967</td>\n",
       "      <td>0.062718</td>\n",
       "      <td>0.062661</td>\n",
       "      <td>0.062597</td>\n",
       "      <td>0.062458</td>\n",
       "      <td>0.062460</td>\n",
       "      <td>0.062551</td>\n",
       "    </tr>\n",
       "    <tr>\n",
       "      <th>4</th>\n",
       "      <td>0.063605</td>\n",
       "      <td>0.063350</td>\n",
       "      <td>0.063330</td>\n",
       "      <td>0.063757</td>\n",
       "      <td>0.063793</td>\n",
       "      <td>0.063400</td>\n",
       "      <td>0.063076</td>\n",
       "      <td>0.063420</td>\n",
       "      <td>0.063957</td>\n",
       "      <td>0.064038</td>\n",
       "      <td>...</td>\n",
       "      <td>0.059325</td>\n",
       "      <td>0.058874</td>\n",
       "      <td>0.058478</td>\n",
       "      <td>0.058237</td>\n",
       "      <td>0.058153</td>\n",
       "      <td>0.058159</td>\n",
       "      <td>0.058132</td>\n",
       "      <td>0.057978</td>\n",
       "      <td>0.057888</td>\n",
       "      <td>0.057822</td>\n",
       "    </tr>\n",
       "  </tbody>\n",
       "</table>\n",
       "<p>5 rows × 2051 columns</p>\n",
       "</div>"
      ],
      "text/plain": [
       "        450       451       452       453       454       455       456  \\\n",
       "0  0.089846  0.089648  0.089668  0.089825  0.090412  0.090904  0.091023   \n",
       "1  0.050043  0.049975  0.049917  0.049756  0.049917  0.050429  0.050999   \n",
       "2  0.048338  0.048098  0.048029  0.048090  0.048380  0.048701  0.048917   \n",
       "3  0.067364  0.067646  0.067913  0.068341  0.068287  0.067986  0.067916   \n",
       "4  0.063605  0.063350  0.063330  0.063757  0.063793  0.063400  0.063076   \n",
       "\n",
       "        457       458       459  ...      2491      2492      2493      2494  \\\n",
       "0  0.091099  0.091373  0.091713  ...  0.076116  0.075635  0.075306  0.075159   \n",
       "1  0.051161  0.051124  0.051182  ...  0.045737  0.045338  0.044519  0.043733   \n",
       "2  0.049027  0.049113  0.049329  ...  0.044342  0.044367  0.044338  0.044218   \n",
       "3  0.068392  0.068904  0.068971  ...  0.063989  0.063677  0.063308  0.062967   \n",
       "4  0.063420  0.063957  0.064038  ...  0.059325  0.058874  0.058478  0.058237   \n",
       "\n",
       "       2495      2496      2497      2498      2499      2500  \n",
       "0  0.075329  0.075560  0.075286  0.074560  0.073873  0.073128  \n",
       "1  0.043352  0.043283  0.043425  0.043716  0.043314  0.042473  \n",
       "2  0.044019  0.043672  0.043164  0.042791  0.042594  0.042555  \n",
       "3  0.062718  0.062661  0.062597  0.062458  0.062460  0.062551  \n",
       "4  0.058153  0.058159  0.058132  0.057978  0.057888  0.057822  \n",
       "\n",
       "[5 rows x 2051 columns]"
      ]
     },
     "execution_count": 549,
     "metadata": {},
     "output_type": "execute_result"
    }
   ],
   "source": [
    "X_total.head()"
   ]
  },
  {
   "cell_type": "code",
   "execution_count": 550,
   "metadata": {},
   "outputs": [],
   "source": [
    "column_filter = np.arange(0,2050,5)  ## creating an index for column filtering\n",
    "X_test= X_total.iloc[:, column_filter] # selecting the filtered columns "
   ]
  },
  {
   "cell_type": "code",
   "execution_count": 551,
   "metadata": {},
   "outputs": [],
   "source": [
    "X_test.columns = X.columns"
   ]
  },
  {
   "cell_type": "code",
   "execution_count": 552,
   "metadata": {},
   "outputs": [],
   "source": [
    "X_test= X_test.loc[:,Index]"
   ]
  },
  {
   "cell_type": "code",
   "execution_count": 553,
   "metadata": {},
   "outputs": [
    {
     "data": {
      "text/plain": [
       "(117, 300)"
      ]
     },
     "execution_count": 553,
     "metadata": {},
     "output_type": "execute_result"
    }
   ],
   "source": [
    "X_test.shape"
   ]
  },
  {
   "cell_type": "code",
   "execution_count": 554,
   "metadata": {},
   "outputs": [],
   "source": [
    "#define the cv\n",
    "cv = RepeatedKFold(n_splits=10)\n",
    "mse = []"
   ]
  },
  {
   "cell_type": "code",
   "execution_count": 555,
   "metadata": {},
   "outputs": [],
   "source": [
    "#Calculate MSE using cross-validation, adding one component at a time\n",
    "#for i in np.arange(1, 40):\n",
    " #   pls = PLSRegression(n_components=i)\n",
    "  #  score = -1*model_selection.cross_val_score(pls, X, y, cv=cv,\n",
    "   #            scoring='neg_mean_squared_error').mean()\n",
    "    #mse.append(np.sqrt(score))"
   ]
  },
  {
   "cell_type": "code",
   "execution_count": 556,
   "metadata": {},
   "outputs": [],
   "source": [
    "#n_comp = mse.index(min(mse)) +1 "
   ]
  },
  {
   "cell_type": "code",
   "execution_count": 557,
   "metadata": {},
   "outputs": [],
   "source": [
    "rsqu = [] \n",
    "for i in np.arange(1, 50):\n",
    "    pls = PLSRegression(n_components= i)\n",
    "    pls.fit(X_reduced, y)\n",
    "    y_pred = pls.predict(X_test)\n",
    "    r , p = spearmanr(y_test , y_pred)\n",
    "    rsqu.append(r**2)\n",
    "    n_comb = rsqu.index(max(rsqu)) +1"
   ]
  },
  {
   "cell_type": "code",
   "execution_count": 558,
   "metadata": {},
   "outputs": [
    {
     "data": {
      "text/plain": [
       "PLSRegression(n_components=13)"
      ]
     },
     "execution_count": 558,
     "metadata": {},
     "output_type": "execute_result"
    }
   ],
   "source": [
    "# Train the model\n",
    "pls = PLSRegression(n_components=n_comb)\n",
    "pls.fit(X_reduced, y)"
   ]
  },
  {
   "cell_type": "code",
   "execution_count": 559,
   "metadata": {},
   "outputs": [
    {
     "data": {
      "text/plain": [
       "43.30559731082121"
      ]
     },
     "execution_count": 559,
     "metadata": {},
     "output_type": "execute_result"
    }
   ],
   "source": [
    "np.sqrt(mean_squared_error(y_test, pls.predict(X_test)))"
   ]
  },
  {
   "cell_type": "code",
   "execution_count": 560,
   "metadata": {},
   "outputs": [],
   "source": [
    "y_pred = pls.predict(X_test)"
   ]
  },
  {
   "cell_type": "code",
   "execution_count": 561,
   "metadata": {},
   "outputs": [
    {
     "data": {
      "text/plain": [
       "<AxesSubplot:xlabel='SLA', ylabel='Predicted SLA values'>"
      ]
     },
     "execution_count": 561,
     "metadata": {},
     "output_type": "execute_result"
    },
    {
     "data": {
      "image/png": "[encoded data removed]",
      "text/plain": [
       "<Figure size 432x288 with 1 Axes>"
      ]
     },
     "metadata": {},
     "output_type": "display_data"
    }
   ],
   "source": [
    "plt.scatter(y_test, y_pred)\n",
    "plt.ylabel('Predicted' + ' ' + trait +  ' ' 'values')\n",
    "plt.xlabel('Ground truth LWC measurements')\n",
    "sns.regplot(x = y_test , y = y_pred)\n"
   ]
  },
  {
   "cell_type": "code",
   "execution_count": 562,
   "metadata": {},
   "outputs": [
    {
     "name": "stdout",
     "output_type": "stream",
     "text": [
      "0.5272228008510553 1.991277445047835e-20\n"
     ]
    }
   ],
   "source": [
    "from scipy.stats import pearsonr, spearmanr\n",
    "y_pred2 = [x[0] for x in y_pred]\n",
    "\n",
    "r, p = spearmanr(y_test, y_pred2)\n",
    "r2 = r**2\n",
    "print(r2, p)"
   ]
  },
  {
   "cell_type": "code",
   "execution_count": 563,
   "metadata": {},
   "outputs": [
    {
     "data": {
      "text/plain": [
       "[0.10543586790858933,\n",
       " 0.27366590990290146,\n",
       " 0.2443303462528103,\n",
       " 0.22646182403546555,\n",
       " 0.25957611713926854,\n",
       " 0.4165431601630508,\n",
       " 0.3787258917969469,\n",
       " 0.4596278751116121,\n",
       " 0.5106522304603429,\n",
       " 0.5102132567686581,\n",
       " 0.5169469711422482,\n",
       " 0.5218178165219233,\n",
       " 0.5272228008510553,\n",
       " 0.5201844579616041,\n",
       " 0.49587522962033725,\n",
       " 0.4411735486790245,\n",
       " 0.4425781545942715,\n",
       " 0.42563554473635884,\n",
       " 0.4179952204159505,\n",
       " 0.3784400487670538,\n",
       " 0.325189980603311,\n",
       " 0.2898924141543356,\n",
       " 0.29441223276719114,\n",
       " 0.2985410771935748,\n",
       " 0.3344849583689873,\n",
       " 0.35990289734585285,\n",
       " 0.40392159380747467,\n",
       " 0.3435067648537719,\n",
       " 0.2853915467112251,\n",
       " 0.28738044373504695,\n",
       " 0.1877855705724391,\n",
       " 0.15813402219003908,\n",
       " 0.14170182992376026,\n",
       " 0.14037362882096913,\n",
       " 0.19325384666564113,\n",
       " 0.24303574594341074,\n",
       " 0.22197712095087324,\n",
       " 0.2409494694730354,\n",
       " 0.20350538093441092,\n",
       " 0.1903333326737423,\n",
       " 0.18044257294742996,\n",
       " 0.20877157694403273,\n",
       " 0.2594997712228757,\n",
       " 0.25815792105576707,\n",
       " 0.26802720381902617,\n",
       " 0.2703286234523532,\n",
       " 0.2951526516678042,\n",
       " 0.3064617701295667,\n",
       " 0.28187985464539705]"
      ]
     },
     "execution_count": 563,
     "metadata": {},
     "output_type": "execute_result"
    }
   ],
   "source": [
    "rsqu"
   ]
  }
 ],
 "metadata": {
  "kernelspec": {
   "display_name": "Python 3",
   "language": "python",
   "name": "python3"
  },
  "language_info": {
   "codemirror_mode": {
    "name": "ipython",
    "version": 3
   },
   "file_extension": ".py",
   "mimetype": "text/x-python",
   "name": "python",
   "nbconvert_exporter": "python",
   "pygments_lexer": "ipython3",
   "version": "3.6.9"
  }
 },
 "nbformat": 4,
 "nbformat_minor": 5
}
