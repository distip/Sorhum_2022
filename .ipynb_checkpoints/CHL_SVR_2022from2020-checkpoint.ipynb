{
 "cells": [
  {
   "cell_type": "code",
   "execution_count": 612,
   "id": "f65995fb",
   "metadata": {},
   "outputs": [],
   "source": [
    "import pandas as pd\n",
    "import numpy as np\n",
    "import matplotlib.pyplot as plt\n",
    "import seaborn as sns\n",
    "from sklearn.preprocessing import scale \n",
    "from sklearn.preprocessing import StandardScaler\n",
    "from sklearn import model_selection\n",
    "from sklearn.model_selection import RepeatedKFold\n",
    "from sklearn.model_selection import train_test_split\n",
    "from sklearn.cross_decomposition import PLSRegression\n",
    "from sklearn.metrics import mean_squared_error\n",
    "from sklearn.metrics import r2_score\n",
    "from scipy.signal import savgol_filter\n",
    "from sklearn.svm import SVR"
   ]
  },
  {
   "cell_type": "code",
   "execution_count": 613,
   "id": "50868acd",
   "metadata": {
    "scrolled": true
   },
   "outputs": [
    {
     "name": "stderr",
     "output_type": "stream",
     "text": [
      "/home/schnable/anaconda3/lib/python3.9/site-packages/IPython/core/interactiveshell.py:3444: DtypeWarning: Columns (1) have mixed types.Specify dtype option on import or set low_memory=False.\n",
      "  exec(code_obj, self.user_global_ns, self.user_ns)\n"
     ]
    }
   ],
   "source": [
    "data = pd.read_csv('Sorghum_Hyperspectral_Data_1820.csv')"
   ]
  },
  {
   "cell_type": "code",
   "execution_count": 614,
   "id": "3f2e8b63",
   "metadata": {},
   "outputs": [
    {
     "data": {
      "text/html": [
       "<div>\n",
       "<style scoped>\n",
       "    .dataframe tbody tr th:only-of-type {\n",
       "        vertical-align: middle;\n",
       "    }\n",
       "\n",
       "    .dataframe tbody tr th {\n",
       "        vertical-align: top;\n",
       "    }\n",
       "\n",
       "    .dataframe thead th {\n",
       "        text-align: right;\n",
       "    }\n",
       "</style>\n",
       "<table border=\"1\" class=\"dataframe\">\n",
       "  <thead>\n",
       "    <tr style=\"text-align: right;\">\n",
       "      <th></th>\n",
       "      <th>crop</th>\n",
       "      <th>PlotID</th>\n",
       "      <th>year</th>\n",
       "      <th>trt</th>\n",
       "      <th>pheno</th>\n",
       "      <th>CHL</th>\n",
       "      <th>EWT</th>\n",
       "      <th>LWC</th>\n",
       "      <th>SLA</th>\n",
       "      <th>N</th>\n",
       "      <th>...</th>\n",
       "      <th>X2491</th>\n",
       "      <th>X2492</th>\n",
       "      <th>X2493</th>\n",
       "      <th>X2494</th>\n",
       "      <th>X2495</th>\n",
       "      <th>X2496</th>\n",
       "      <th>X2497</th>\n",
       "      <th>X2498</th>\n",
       "      <th>X2499</th>\n",
       "      <th>X2500</th>\n",
       "    </tr>\n",
       "  </thead>\n",
       "  <tbody>\n",
       "    <tr>\n",
       "      <th>0</th>\n",
       "      <td>sorghum</td>\n",
       "      <td>281</td>\n",
       "      <td>2018</td>\n",
       "      <td>greenhouse</td>\n",
       "      <td>yes</td>\n",
       "      <td>446.944</td>\n",
       "      <td>0.021140</td>\n",
       "      <td>0.801818</td>\n",
       "      <td>191.380472</td>\n",
       "      <td>2.84</td>\n",
       "      <td>...</td>\n",
       "      <td>0.057221</td>\n",
       "      <td>0.057268</td>\n",
       "      <td>0.057137</td>\n",
       "      <td>0.056709</td>\n",
       "      <td>0.056457</td>\n",
       "      <td>0.056115</td>\n",
       "      <td>0.055923</td>\n",
       "      <td>0.055987</td>\n",
       "      <td>0.055888</td>\n",
       "      <td>0.055737</td>\n",
       "    </tr>\n",
       "    <tr>\n",
       "      <th>1</th>\n",
       "      <td>sorghum</td>\n",
       "      <td>282</td>\n",
       "      <td>2018</td>\n",
       "      <td>greenhouse</td>\n",
       "      <td>yes</td>\n",
       "      <td>713.800</td>\n",
       "      <td>0.013651</td>\n",
       "      <td>0.718788</td>\n",
       "      <td>187.244828</td>\n",
       "      <td>3.44</td>\n",
       "      <td>...</td>\n",
       "      <td>0.065625</td>\n",
       "      <td>0.065636</td>\n",
       "      <td>0.065593</td>\n",
       "      <td>0.065518</td>\n",
       "      <td>0.065329</td>\n",
       "      <td>0.065109</td>\n",
       "      <td>0.064884</td>\n",
       "      <td>0.064390</td>\n",
       "      <td>0.064180</td>\n",
       "      <td>0.064182</td>\n",
       "    </tr>\n",
       "    <tr>\n",
       "      <th>2</th>\n",
       "      <td>sorghum</td>\n",
       "      <td>283</td>\n",
       "      <td>2018</td>\n",
       "      <td>greenhouse</td>\n",
       "      <td>yes</td>\n",
       "      <td>724.911</td>\n",
       "      <td>0.013870</td>\n",
       "      <td>0.715429</td>\n",
       "      <td>181.260442</td>\n",
       "      <td>3.52</td>\n",
       "      <td>...</td>\n",
       "      <td>0.061687</td>\n",
       "      <td>0.061462</td>\n",
       "      <td>0.061244</td>\n",
       "      <td>0.061186</td>\n",
       "      <td>0.060975</td>\n",
       "      <td>0.060398</td>\n",
       "      <td>0.060287</td>\n",
       "      <td>0.060618</td>\n",
       "      <td>0.060535</td>\n",
       "      <td>0.060500</td>\n",
       "    </tr>\n",
       "    <tr>\n",
       "      <th>3</th>\n",
       "      <td>sorghum</td>\n",
       "      <td>284</td>\n",
       "      <td>2018</td>\n",
       "      <td>greenhouse</td>\n",
       "      <td>yes</td>\n",
       "      <td>738.400</td>\n",
       "      <td>0.016723</td>\n",
       "      <td>0.753034</td>\n",
       "      <td>182.327753</td>\n",
       "      <td>4.13</td>\n",
       "      <td>...</td>\n",
       "      <td>0.055341</td>\n",
       "      <td>0.055124</td>\n",
       "      <td>0.054997</td>\n",
       "      <td>0.055162</td>\n",
       "      <td>0.055078</td>\n",
       "      <td>0.054760</td>\n",
       "      <td>0.054617</td>\n",
       "      <td>0.054473</td>\n",
       "      <td>0.054353</td>\n",
       "      <td>0.054351</td>\n",
       "    </tr>\n",
       "    <tr>\n",
       "      <th>4</th>\n",
       "      <td>sorghum</td>\n",
       "      <td>285</td>\n",
       "      <td>2018</td>\n",
       "      <td>greenhouse</td>\n",
       "      <td>yes</td>\n",
       "      <td>700.344</td>\n",
       "      <td>0.023406</td>\n",
       "      <td>0.798125</td>\n",
       "      <td>168.909288</td>\n",
       "      <td>3.85</td>\n",
       "      <td>...</td>\n",
       "      <td>0.056971</td>\n",
       "      <td>0.057206</td>\n",
       "      <td>0.057154</td>\n",
       "      <td>0.056835</td>\n",
       "      <td>0.056743</td>\n",
       "      <td>0.056700</td>\n",
       "      <td>0.056552</td>\n",
       "      <td>0.056538</td>\n",
       "      <td>0.056412</td>\n",
       "      <td>0.056039</td>\n",
       "    </tr>\n",
       "  </tbody>\n",
       "</table>\n",
       "<p>5 rows × 2171 columns</p>\n",
       "</div>"
      ],
      "text/plain": [
       "      crop PlotID  year         trt pheno      CHL       EWT       LWC  \\\n",
       "0  sorghum    281  2018  greenhouse   yes  446.944  0.021140  0.801818   \n",
       "1  sorghum    282  2018  greenhouse   yes  713.800  0.013651  0.718788   \n",
       "2  sorghum    283  2018  greenhouse   yes  724.911  0.013870  0.715429   \n",
       "3  sorghum    284  2018  greenhouse   yes  738.400  0.016723  0.753034   \n",
       "4  sorghum    285  2018  greenhouse   yes  700.344  0.023406  0.798125   \n",
       "\n",
       "          SLA     N  ...     X2491     X2492     X2493     X2494     X2495  \\\n",
       "0  191.380472  2.84  ...  0.057221  0.057268  0.057137  0.056709  0.056457   \n",
       "1  187.244828  3.44  ...  0.065625  0.065636  0.065593  0.065518  0.065329   \n",
       "2  181.260442  3.52  ...  0.061687  0.061462  0.061244  0.061186  0.060975   \n",
       "3  182.327753  4.13  ...  0.055341  0.055124  0.054997  0.055162  0.055078   \n",
       "4  168.909288  3.85  ...  0.056971  0.057206  0.057154  0.056835  0.056743   \n",
       "\n",
       "      X2496     X2497     X2498     X2499     X2500  \n",
       "0  0.056115  0.055923  0.055987  0.055888  0.055737  \n",
       "1  0.065109  0.064884  0.064390  0.064180  0.064182  \n",
       "2  0.060398  0.060287  0.060618  0.060535  0.060500  \n",
       "3  0.054760  0.054617  0.054473  0.054353  0.054351  \n",
       "4  0.056700  0.056552  0.056538  0.056412  0.056039  \n",
       "\n",
       "[5 rows x 2171 columns]"
      ]
     },
     "execution_count": 614,
     "metadata": {},
     "output_type": "execute_result"
    }
   ],
   "source": [
    "data.head()"
   ]
  },
  {
   "cell_type": "code",
   "execution_count": 615,
   "id": "308f8bf1",
   "metadata": {},
   "outputs": [
    {
     "data": {
      "text/plain": [
       "2020    1470\n",
       "2018     321\n",
       "Name: year, dtype: int64"
      ]
     },
     "execution_count": 615,
     "metadata": {},
     "output_type": "execute_result"
    }
   ],
   "source": [
    "data.year.value_counts(dropna= False)"
   ]
  },
  {
   "cell_type": "code",
   "execution_count": 616,
   "id": "99be837f",
   "metadata": {},
   "outputs": [
    {
     "data": {
      "text/plain": [
       "(1791, 2171)"
      ]
     },
     "execution_count": 616,
     "metadata": {},
     "output_type": "execute_result"
    }
   ],
   "source": [
    "data.shape"
   ]
  },
  {
   "cell_type": "code",
   "execution_count": 617,
   "id": "cfd93fbf",
   "metadata": {},
   "outputs": [
    {
     "data": {
      "text/plain": [
       "Index(['PlotID', 'year', 'trt', 'pheno', 'CHL', 'EWT', 'LWC', 'SLA', 'N', 'P',\n",
       "       'K', 'Mg', 'Ca', 'S', 'Fe', 'Mn', 'B', 'Cu', 'Zn', 'X350', 'X351',\n",
       "       'X352', 'X353', 'X354', 'X355', 'X356', 'X357', 'X358', 'X359', 'X360',\n",
       "       'X361', 'X362', 'X363', 'X364', 'X365', 'X366', 'X367', 'X368', 'X369',\n",
       "       'X370', 'X371', 'X372', 'X373', 'X374', 'X375', 'X376', 'X377', 'X378',\n",
       "       'X379'],\n",
       "      dtype='object')"
      ]
     },
     "execution_count": 617,
     "metadata": {},
     "output_type": "execute_result"
    }
   ],
   "source": [
    "data.columns[1:50]"
   ]
  },
  {
   "cell_type": "code",
   "execution_count": 618,
   "id": "ef85d906",
   "metadata": {},
   "outputs": [
    {
     "data": {
      "text/plain": [
       "greenhouse    321\n",
       "Name: trt, dtype: int64"
      ]
     },
     "execution_count": 618,
     "metadata": {},
     "output_type": "execute_result"
    }
   ],
   "source": [
    "data.loc[data.year == 2018 , 'trt'].value_counts(dropna = False)"
   ]
  },
  {
   "cell_type": "code",
   "execution_count": 619,
   "id": "2190b2d1",
   "metadata": {},
   "outputs": [],
   "source": [
    "#define the trait for analysis\n",
    "trait = 'SLA'\n"
   ]
  },
  {
   "cell_type": "code",
   "execution_count": 620,
   "id": "0cc3bab0",
   "metadata": {},
   "outputs": [
    {
     "data": {
      "text/plain": [
       "(587, 2171)"
      ]
     },
     "execution_count": 620,
     "metadata": {},
     "output_type": "execute_result"
    }
   ],
   "source": [
    "#Drop NAs \n",
    "data = data.loc[data[trait].notnull(), :]\n",
    "data.shape"
   ]
  },
  {
   "cell_type": "code",
   "execution_count": 621,
   "id": "c8018b5d",
   "metadata": {},
   "outputs": [],
   "source": [
    "##Choose the year\n",
    "#data= data.loc[data['year'] ==  2020 , :]"
   ]
  },
  {
   "cell_type": "code",
   "execution_count": 622,
   "id": "07e15eaa",
   "metadata": {},
   "outputs": [
    {
     "data": {
      "text/plain": [
       "<AxesSubplot:xlabel='year', ylabel='SLA'>"
      ]
     },
     "execution_count": 622,
     "metadata": {},
     "output_type": "execute_result"
    },
    {
     "data": {
      "image/png": "[encoded data removed]",
      "text/plain": [
       "<Figure size 432x288 with 1 Axes>"
      ]
     },
     "metadata": {
      "needs_background": "light"
     },
     "output_type": "display_data"
    }
   ],
   "source": [
    "sns.boxplot(y= trait, x='year', data=data)"
   ]
  },
  {
   "cell_type": "code",
   "execution_count": 623,
   "id": "c0523b1c",
   "metadata": {},
   "outputs": [],
   "source": [
    "#defining a function to remove the outliers\n",
    "def outlier_treatment(datacolumn):\n",
    " sorted(datacolumn)\n",
    " Q1=datacolumn.quantile(0.25)\n",
    " Q3=datacolumn.quantile(0.75)\n",
    " #Q1,Q3 = np.percentile(datacolumn , [25,75])\n",
    " IQR = Q3 - Q1\n",
    " lower_range = Q1 - (1.5 * IQR)\n",
    " upper_range = Q3 + (1.5 * IQR)\n",
    " return lower_range,upper_range"
   ]
  },
  {
   "cell_type": "code",
   "execution_count": 624,
   "id": "2932f31f",
   "metadata": {},
   "outputs": [
    {
     "data": {
      "text/plain": [
       "(-67.16692164689115, 329.2306520302035)"
      ]
     },
     "execution_count": 624,
     "metadata": {},
     "output_type": "execute_result"
    }
   ],
   "source": [
    "outlier_treatment(data[trait])\n"
   ]
  },
  {
   "cell_type": "code",
   "execution_count": 625,
   "id": "388bdecc",
   "metadata": {},
   "outputs": [],
   "source": [
    "lowerbound,upperbound = outlier_treatment(data[trait])"
   ]
  },
  {
   "cell_type": "code",
   "execution_count": 626,
   "id": "025dca41",
   "metadata": {},
   "outputs": [
    {
     "data": {
      "text/plain": [
       "Int64Index([], dtype='int64')"
      ]
     },
     "execution_count": 626,
     "metadata": {},
     "output_type": "execute_result"
    }
   ],
   "source": [
    "rm_index =data[(data[trait] < lowerbound) | (data[trait] > upperbound)].index\n",
    "rm_index"
   ]
  },
  {
   "cell_type": "code",
   "execution_count": 627,
   "id": "d9be9f7b",
   "metadata": {},
   "outputs": [],
   "source": [
    "data.drop(rm_index, axis=0 ,inplace=True)"
   ]
  },
  {
   "cell_type": "code",
   "execution_count": 628,
   "id": "64c57ea4",
   "metadata": {},
   "outputs": [],
   "source": [
    "# choose the years for grouping in the plots\n",
    "year = data.loc[: , 'year']"
   ]
  },
  {
   "cell_type": "code",
   "execution_count": 629,
   "id": "1400200a",
   "metadata": {},
   "outputs": [
    {
     "data": {
      "text/plain": [
       "(587, 2171)"
      ]
     },
     "execution_count": 629,
     "metadata": {},
     "output_type": "execute_result"
    }
   ],
   "source": [
    "data.shape\n"
   ]
  },
  {
   "cell_type": "code",
   "execution_count": 630,
   "id": "06b01b4d",
   "metadata": {},
   "outputs": [],
   "source": [
    "# define trait data\n",
    "y = data.loc[: , trait]\n"
   ]
  },
  {
   "cell_type": "code",
   "execution_count": 631,
   "id": "0a57e23c",
   "metadata": {},
   "outputs": [],
   "source": [
    "#select the columns of HR data\n",
    "spec_columns = [col for col in data if col.startswith('X')]\n"
   ]
  },
  {
   "cell_type": "code",
   "execution_count": 632,
   "id": "4f2acedf",
   "metadata": {},
   "outputs": [],
   "source": [
    "# Define the X by choosing only the predictors\n",
    "X = data[spec_columns]\n"
   ]
  },
  {
   "cell_type": "code",
   "execution_count": 633,
   "id": "d454b8e7",
   "metadata": {},
   "outputs": [],
   "source": [
    "# Apply Savitzky Golay Filter\n",
    "X = savgol_filter(X, window_length=5 , polyorder = 2)\n",
    "X = pd.DataFrame(X, columns= spec_columns)"
   ]
  },
  {
   "cell_type": "code",
   "execution_count": 634,
   "id": "cb9065e5",
   "metadata": {},
   "outputs": [],
   "source": [
    "# Remove first 100 wawelengths\n",
    "X = X.drop(X.columns[0:100], axis=1)"
   ]
  },
  {
   "cell_type": "code",
   "execution_count": 635,
   "id": "5c96884a",
   "metadata": {},
   "outputs": [],
   "source": [
    "# Create a np array for downsampling for every 5 nm\n",
    "column_filter = np.arange(0, 2050, 5)"
   ]
  },
  {
   "cell_type": "code",
   "execution_count": 636,
   "id": "15acb331",
   "metadata": {},
   "outputs": [],
   "source": [
    "# Choose from the X based on filtering array\n",
    "X = X.iloc[: , column_filter]\n"
   ]
  },
  {
   "cell_type": "code",
   "execution_count": 637,
   "id": "6ddc7f4b",
   "metadata": {},
   "outputs": [
    {
     "data": {
      "text/html": [
       "<div>\n",
       "<style scoped>\n",
       "    .dataframe tbody tr th:only-of-type {\n",
       "        vertical-align: middle;\n",
       "    }\n",
       "\n",
       "    .dataframe tbody tr th {\n",
       "        vertical-align: top;\n",
       "    }\n",
       "\n",
       "    .dataframe thead th {\n",
       "        text-align: right;\n",
       "    }\n",
       "</style>\n",
       "<table border=\"1\" class=\"dataframe\">\n",
       "  <thead>\n",
       "    <tr style=\"text-align: right;\">\n",
       "      <th></th>\n",
       "      <th>X450</th>\n",
       "      <th>X455</th>\n",
       "      <th>X460</th>\n",
       "      <th>X465</th>\n",
       "      <th>X470</th>\n",
       "      <th>X475</th>\n",
       "      <th>X480</th>\n",
       "      <th>X485</th>\n",
       "      <th>X490</th>\n",
       "      <th>X495</th>\n",
       "      <th>...</th>\n",
       "      <th>X2450</th>\n",
       "      <th>X2455</th>\n",
       "      <th>X2460</th>\n",
       "      <th>X2465</th>\n",
       "      <th>X2470</th>\n",
       "      <th>X2475</th>\n",
       "      <th>X2480</th>\n",
       "      <th>X2485</th>\n",
       "      <th>X2490</th>\n",
       "      <th>X2495</th>\n",
       "    </tr>\n",
       "  </thead>\n",
       "  <tbody>\n",
       "    <tr>\n",
       "      <th>0</th>\n",
       "      <td>0.072084</td>\n",
       "      <td>0.072281</td>\n",
       "      <td>0.074527</td>\n",
       "      <td>0.073938</td>\n",
       "      <td>0.073444</td>\n",
       "      <td>0.073933</td>\n",
       "      <td>0.074270</td>\n",
       "      <td>0.074302</td>\n",
       "      <td>0.074556</td>\n",
       "      <td>0.077044</td>\n",
       "      <td>...</td>\n",
       "      <td>0.067297</td>\n",
       "      <td>0.065572</td>\n",
       "      <td>0.064134</td>\n",
       "      <td>0.062460</td>\n",
       "      <td>0.061316</td>\n",
       "      <td>0.059724</td>\n",
       "      <td>0.058408</td>\n",
       "      <td>0.057898</td>\n",
       "      <td>0.057136</td>\n",
       "      <td>0.056414</td>\n",
       "    </tr>\n",
       "    <tr>\n",
       "      <th>1</th>\n",
       "      <td>0.071562</td>\n",
       "      <td>0.070789</td>\n",
       "      <td>0.072950</td>\n",
       "      <td>0.072189</td>\n",
       "      <td>0.071799</td>\n",
       "      <td>0.072144</td>\n",
       "      <td>0.072596</td>\n",
       "      <td>0.072355</td>\n",
       "      <td>0.072260</td>\n",
       "      <td>0.073828</td>\n",
       "      <td>...</td>\n",
       "      <td>0.078345</td>\n",
       "      <td>0.076368</td>\n",
       "      <td>0.074371</td>\n",
       "      <td>0.072508</td>\n",
       "      <td>0.071027</td>\n",
       "      <td>0.069200</td>\n",
       "      <td>0.068060</td>\n",
       "      <td>0.066575</td>\n",
       "      <td>0.065758</td>\n",
       "      <td>0.065334</td>\n",
       "    </tr>\n",
       "    <tr>\n",
       "      <th>2</th>\n",
       "      <td>0.067849</td>\n",
       "      <td>0.067549</td>\n",
       "      <td>0.069338</td>\n",
       "      <td>0.068589</td>\n",
       "      <td>0.068386</td>\n",
       "      <td>0.068461</td>\n",
       "      <td>0.068986</td>\n",
       "      <td>0.068710</td>\n",
       "      <td>0.068470</td>\n",
       "      <td>0.070524</td>\n",
       "      <td>...</td>\n",
       "      <td>0.075083</td>\n",
       "      <td>0.073046</td>\n",
       "      <td>0.070950</td>\n",
       "      <td>0.068873</td>\n",
       "      <td>0.067303</td>\n",
       "      <td>0.065461</td>\n",
       "      <td>0.063934</td>\n",
       "      <td>0.062901</td>\n",
       "      <td>0.061841</td>\n",
       "      <td>0.060885</td>\n",
       "    </tr>\n",
       "    <tr>\n",
       "      <th>3</th>\n",
       "      <td>0.064959</td>\n",
       "      <td>0.064509</td>\n",
       "      <td>0.066153</td>\n",
       "      <td>0.065387</td>\n",
       "      <td>0.065025</td>\n",
       "      <td>0.065148</td>\n",
       "      <td>0.065500</td>\n",
       "      <td>0.065179</td>\n",
       "      <td>0.065041</td>\n",
       "      <td>0.066772</td>\n",
       "      <td>...</td>\n",
       "      <td>0.064992</td>\n",
       "      <td>0.063572</td>\n",
       "      <td>0.061879</td>\n",
       "      <td>0.060338</td>\n",
       "      <td>0.059434</td>\n",
       "      <td>0.058130</td>\n",
       "      <td>0.057164</td>\n",
       "      <td>0.056357</td>\n",
       "      <td>0.055493</td>\n",
       "      <td>0.055044</td>\n",
       "    </tr>\n",
       "    <tr>\n",
       "      <th>4</th>\n",
       "      <td>0.066446</td>\n",
       "      <td>0.065801</td>\n",
       "      <td>0.067720</td>\n",
       "      <td>0.066706</td>\n",
       "      <td>0.066269</td>\n",
       "      <td>0.066451</td>\n",
       "      <td>0.066779</td>\n",
       "      <td>0.066488</td>\n",
       "      <td>0.066297</td>\n",
       "      <td>0.068251</td>\n",
       "      <td>...</td>\n",
       "      <td>0.067579</td>\n",
       "      <td>0.065932</td>\n",
       "      <td>0.064275</td>\n",
       "      <td>0.062884</td>\n",
       "      <td>0.061588</td>\n",
       "      <td>0.060099</td>\n",
       "      <td>0.059214</td>\n",
       "      <td>0.058285</td>\n",
       "      <td>0.057006</td>\n",
       "      <td>0.056741</td>\n",
       "    </tr>\n",
       "  </tbody>\n",
       "</table>\n",
       "<p>5 rows × 410 columns</p>\n",
       "</div>"
      ],
      "text/plain": [
       "       X450      X455      X460      X465      X470      X475      X480  \\\n",
       "0  0.072084  0.072281  0.074527  0.073938  0.073444  0.073933  0.074270   \n",
       "1  0.071562  0.070789  0.072950  0.072189  0.071799  0.072144  0.072596   \n",
       "2  0.067849  0.067549  0.069338  0.068589  0.068386  0.068461  0.068986   \n",
       "3  0.064959  0.064509  0.066153  0.065387  0.065025  0.065148  0.065500   \n",
       "4  0.066446  0.065801  0.067720  0.066706  0.066269  0.066451  0.066779   \n",
       "\n",
       "       X485      X490      X495  ...     X2450     X2455     X2460     X2465  \\\n",
       "0  0.074302  0.074556  0.077044  ...  0.067297  0.065572  0.064134  0.062460   \n",
       "1  0.072355  0.072260  0.073828  ...  0.078345  0.076368  0.074371  0.072508   \n",
       "2  0.068710  0.068470  0.070524  ...  0.075083  0.073046  0.070950  0.068873   \n",
       "3  0.065179  0.065041  0.066772  ...  0.064992  0.063572  0.061879  0.060338   \n",
       "4  0.066488  0.066297  0.068251  ...  0.067579  0.065932  0.064275  0.062884   \n",
       "\n",
       "      X2470     X2475     X2480     X2485     X2490     X2495  \n",
       "0  0.061316  0.059724  0.058408  0.057898  0.057136  0.056414  \n",
       "1  0.071027  0.069200  0.068060  0.066575  0.065758  0.065334  \n",
       "2  0.067303  0.065461  0.063934  0.062901  0.061841  0.060885  \n",
       "3  0.059434  0.058130  0.057164  0.056357  0.055493  0.055044  \n",
       "4  0.061588  0.060099  0.059214  0.058285  0.057006  0.056741  \n",
       "\n",
       "[5 rows x 410 columns]"
      ]
     },
     "execution_count": 637,
     "metadata": {},
     "output_type": "execute_result"
    }
   ],
   "source": [
    "X.head()"
   ]
  },
  {
   "cell_type": "code",
   "execution_count": 638,
   "id": "dfe0d41e",
   "metadata": {},
   "outputs": [],
   "source": [
    "# split the dataset into training (60%) and testing (40%) sets\n",
    "X_train,X_test,y_train,y_test = train_test_split(X, y ,test_size=0.4) "
   ]
  },
  {
   "cell_type": "code",
   "execution_count": 639,
   "id": "b4ce6524",
   "metadata": {},
   "outputs": [
    {
     "data": {
      "text/plain": [
       "(587, 410)"
      ]
     },
     "execution_count": 639,
     "metadata": {},
     "output_type": "execute_result"
    }
   ],
   "source": [
    "X.shape"
   ]
  },
  {
   "cell_type": "code",
   "execution_count": 640,
   "id": "52424ce6",
   "metadata": {},
   "outputs": [
    {
     "data": {
      "text/plain": [
       "SVR(C=10000, kernel='linear')"
      ]
     },
     "execution_count": 640,
     "metadata": {},
     "output_type": "execute_result"
    }
   ],
   "source": [
    "# Train the model\n",
    "regressor = SVR(kernel = 'linear', C=10000)\n",
    "regressor.fit(X_train, y_train)"
   ]
  },
  {
   "cell_type": "code",
   "execution_count": 641,
   "id": "d7044ff9",
   "metadata": {},
   "outputs": [
    {
     "data": {
      "text/plain": [
       "14.000729129556232"
      ]
     },
     "execution_count": 641,
     "metadata": {},
     "output_type": "execute_result"
    }
   ],
   "source": [
    "# Calculate the RMSE\n",
    "np.sqrt(mean_squared_error(y_test, regressor.predict(X_test)))"
   ]
  },
  {
   "cell_type": "code",
   "execution_count": 642,
   "id": "0312a19c",
   "metadata": {},
   "outputs": [],
   "source": [
    "y_pred = regressor.predict(X_test)"
   ]
  },
  {
   "cell_type": "code",
   "execution_count": 643,
   "id": "61ed0563",
   "metadata": {},
   "outputs": [],
   "source": [
    "y_pred = pd.DataFrame(y_pred)"
   ]
  },
  {
   "cell_type": "code",
   "execution_count": 644,
   "id": "f3bafc62",
   "metadata": {},
   "outputs": [],
   "source": [
    "# Combine the 'year' and y_test for plotting and reset the index for combining with y_pred\n",
    "y_test =pd.merge(y_test, year , left_index=True , right_index=True,  how='left').reset_index(drop=True)"
   ]
  },
  {
   "cell_type": "code",
   "execution_count": 645,
   "id": "2e84543a",
   "metadata": {},
   "outputs": [
    {
     "data": {
      "text/html": [
       "<div>\n",
       "<style scoped>\n",
       "    .dataframe tbody tr th:only-of-type {\n",
       "        vertical-align: middle;\n",
       "    }\n",
       "\n",
       "    .dataframe tbody tr th {\n",
       "        vertical-align: top;\n",
       "    }\n",
       "\n",
       "    .dataframe thead th {\n",
       "        text-align: right;\n",
       "    }\n",
       "</style>\n",
       "<table border=\"1\" class=\"dataframe\">\n",
       "  <thead>\n",
       "    <tr style=\"text-align: right;\">\n",
       "      <th></th>\n",
       "      <th>SLA</th>\n",
       "      <th>year</th>\n",
       "    </tr>\n",
       "  </thead>\n",
       "  <tbody>\n",
       "    <tr>\n",
       "      <th>0</th>\n",
       "      <td>79.348872</td>\n",
       "      <td>2020</td>\n",
       "    </tr>\n",
       "    <tr>\n",
       "      <th>1</th>\n",
       "      <td>155.212165</td>\n",
       "      <td>2018</td>\n",
       "    </tr>\n",
       "    <tr>\n",
       "      <th>2</th>\n",
       "      <td>170.538498</td>\n",
       "      <td>2018</td>\n",
       "    </tr>\n",
       "    <tr>\n",
       "      <th>3</th>\n",
       "      <td>82.217465</td>\n",
       "      <td>2020</td>\n",
       "    </tr>\n",
       "    <tr>\n",
       "      <th>4</th>\n",
       "      <td>71.419057</td>\n",
       "      <td>2020</td>\n",
       "    </tr>\n",
       "  </tbody>\n",
       "</table>\n",
       "</div>"
      ],
      "text/plain": [
       "          SLA  year\n",
       "0   79.348872  2020\n",
       "1  155.212165  2018\n",
       "2  170.538498  2018\n",
       "3   82.217465  2020\n",
       "4   71.419057  2020"
      ]
     },
     "execution_count": 645,
     "metadata": {},
     "output_type": "execute_result"
    }
   ],
   "source": [
    "y_test.head()"
   ]
  },
  {
   "cell_type": "code",
   "execution_count": 646,
   "id": "bfeddd6a",
   "metadata": {},
   "outputs": [
    {
     "data": {
      "text/plain": [
       "pandas.core.frame.DataFrame"
      ]
     },
     "execution_count": 646,
     "metadata": {},
     "output_type": "execute_result"
    }
   ],
   "source": [
    "type(y_pred)"
   ]
  },
  {
   "cell_type": "code",
   "execution_count": 647,
   "id": "840c1dbb",
   "metadata": {},
   "outputs": [],
   "source": [
    "#Combine y_test and y_pred and get one data frame for seaborn scatter plot\n",
    "data_plot = pd.concat([y_test, y_pred], axis = 1)"
   ]
  },
  {
   "cell_type": "code",
   "execution_count": 648,
   "id": "7bd3e659",
   "metadata": {},
   "outputs": [],
   "source": [
    "data_plot =data_plot.rename({0 : 'predicted'} ,axis =1)"
   ]
  },
  {
   "cell_type": "code",
   "execution_count": 649,
   "id": "06cc6607",
   "metadata": {},
   "outputs": [
    {
     "data": {
      "text/html": [
       "<div>\n",
       "<style scoped>\n",
       "    .dataframe tbody tr th:only-of-type {\n",
       "        vertical-align: middle;\n",
       "    }\n",
       "\n",
       "    .dataframe tbody tr th {\n",
       "        vertical-align: top;\n",
       "    }\n",
       "\n",
       "    .dataframe thead th {\n",
       "        text-align: right;\n",
       "    }\n",
       "</style>\n",
       "<table border=\"1\" class=\"dataframe\">\n",
       "  <thead>\n",
       "    <tr style=\"text-align: right;\">\n",
       "      <th></th>\n",
       "      <th>SLA</th>\n",
       "      <th>year</th>\n",
       "      <th>predicted</th>\n",
       "    </tr>\n",
       "  </thead>\n",
       "  <tbody>\n",
       "    <tr>\n",
       "      <th>0</th>\n",
       "      <td>79.348872</td>\n",
       "      <td>2020</td>\n",
       "      <td>76.697933</td>\n",
       "    </tr>\n",
       "    <tr>\n",
       "      <th>1</th>\n",
       "      <td>155.212165</td>\n",
       "      <td>2018</td>\n",
       "      <td>155.424771</td>\n",
       "    </tr>\n",
       "    <tr>\n",
       "      <th>2</th>\n",
       "      <td>170.538498</td>\n",
       "      <td>2018</td>\n",
       "      <td>183.327881</td>\n",
       "    </tr>\n",
       "    <tr>\n",
       "      <th>3</th>\n",
       "      <td>82.217465</td>\n",
       "      <td>2020</td>\n",
       "      <td>98.242507</td>\n",
       "    </tr>\n",
       "    <tr>\n",
       "      <th>4</th>\n",
       "      <td>71.419057</td>\n",
       "      <td>2020</td>\n",
       "      <td>78.295958</td>\n",
       "    </tr>\n",
       "  </tbody>\n",
       "</table>\n",
       "</div>"
      ],
      "text/plain": [
       "          SLA  year   predicted\n",
       "0   79.348872  2020   76.697933\n",
       "1  155.212165  2018  155.424771\n",
       "2  170.538498  2018  183.327881\n",
       "3   82.217465  2020   98.242507\n",
       "4   71.419057  2020   78.295958"
      ]
     },
     "execution_count": 649,
     "metadata": {},
     "output_type": "execute_result"
    }
   ],
   "source": [
    "data_plot.head()"
   ]
  },
  {
   "cell_type": "code",
   "execution_count": 650,
   "id": "61f67239",
   "metadata": {},
   "outputs": [],
   "source": [
    "# Calculate the spearman correlation , r2 and p value and pass them into the 'text'\n",
    "\n",
    "from scipy.stats import pearsonr, spearmanr\n",
    "#y_pred2 = [x[0] for x in data_plot.predicted]\n",
    "r, p = spearmanr(data_plot[trait], data_plot.predicted)\n",
    "r2 = r**2\n",
    "text =r2, p\n",
    "text = [np.round(r2, 2) for r2 in text]\n"
   ]
  },
  {
   "cell_type": "code",
   "execution_count": 651,
   "id": "0a7a6fc5",
   "metadata": {},
   "outputs": [
    {
     "data": {
      "text/plain": [
       "Text(0.5, 1.0, 'SLA SVR')"
      ]
     },
     "execution_count": 651,
     "metadata": {},
     "output_type": "execute_result"
    },
    {
     "data": {
      "image/png": "[encoded data removed]",
      "text/plain": [
       "<Figure size 432x288 with 1 Axes>"
      ]
     },
     "metadata": {
      "needs_background": "light"
     },
     "output_type": "display_data"
    }
   ],
   "source": [
    "#plot the results\n",
    "text1 = 'r2=%s, p=%s' % (text[0], text[1])\n",
    "#sns.lmplot(x=trait, y='predicted',data=data_plot)\n",
    "sns.regplot(x=trait, y='predicted' , scatter_kws={'s' : 15},data=data_plot)\n",
    "xmin , xmax , ymin, ymax = plt.axis()\n",
    "sns.scatterplot(x=trait, y='predicted', hue= 'year', data=data_plot).text((xmax)/2, ymax*0.96, text1, fontsize=12)\n",
    "plt.xlabel('Ground Truth' + ' ' + trait)\n",
    "plt.ylabel('Predicted' + ' ' + trait + ' ' + 'Values')\n",
    "plt.title(trait + ' ' + 'SVR')\n",
    "\n"
   ]
  },
  {
   "cell_type": "code",
   "execution_count": 652,
   "id": "8bf04cce",
   "metadata": {},
   "outputs": [],
   "source": [
    "data_2022 = pd.read_csv('sorghum_2022_whole.csv')"
   ]
  },
  {
   "cell_type": "code",
   "execution_count": 653,
   "id": "7bacb705",
   "metadata": {},
   "outputs": [],
   "source": [
    "data_2022 =data_2022.loc[data_2022['355'].notnull(), :]"
   ]
  },
  {
   "cell_type": "code",
   "execution_count": 654,
   "id": "a9e8506c",
   "metadata": {},
   "outputs": [],
   "source": [
    "data_2022['CHL'] = data_2022[['CHLp1', 'CHLp2']].mean(axis=1)"
   ]
  },
  {
   "cell_type": "code",
   "execution_count": 655,
   "id": "c0cbbce5",
   "metadata": {},
   "outputs": [],
   "source": [
    "data_2022['LWC'] = data_2022['LWC']/100"
   ]
  },
  {
   "cell_type": "code",
   "execution_count": 656,
   "id": "d2c36eaf",
   "metadata": {},
   "outputs": [],
   "source": [
    "data_2022 = data_2022.loc[data_2022['Leaf_num'] ==3 , :]"
   ]
  },
  {
   "cell_type": "code",
   "execution_count": 657,
   "id": "0a955400",
   "metadata": {},
   "outputs": [],
   "source": [
    "#data_2022 = data_2022.loc[data_2022['Leaf_pos'] == 1 , :]"
   ]
  },
  {
   "cell_type": "code",
   "execution_count": 658,
   "id": "201ffebb",
   "metadata": {},
   "outputs": [],
   "source": [
    "#data_2022 = data_2022.loc[data_2022['CHL']< 700 , :]"
   ]
  },
  {
   "cell_type": "code",
   "execution_count": 659,
   "id": "462c8d2b",
   "metadata": {},
   "outputs": [
    {
     "data": {
      "text/plain": [
       "<AxesSubplot:ylabel='SLA'>"
      ]
     },
     "execution_count": 659,
     "metadata": {},
     "output_type": "execute_result"
    },
    {
     "data": {
      "image/png": "[encoded data removed]",
      "text/plain": [
       "<Figure size 432x288 with 1 Axes>"
      ]
     },
     "metadata": {
      "needs_background": "light"
     },
     "output_type": "display_data"
    }
   ],
   "source": [
    "sns.boxplot(y= trait, data=data_2022)"
   ]
  },
  {
   "cell_type": "code",
   "execution_count": 660,
   "id": "2f1a1d63",
   "metadata": {},
   "outputs": [
    {
     "data": {
      "text/html": [
       "<div>\n",
       "<style scoped>\n",
       "    .dataframe tbody tr th:only-of-type {\n",
       "        vertical-align: middle;\n",
       "    }\n",
       "\n",
       "    .dataframe tbody tr th {\n",
       "        vertical-align: top;\n",
       "    }\n",
       "\n",
       "    .dataframe thead th {\n",
       "        text-align: right;\n",
       "    }\n",
       "</style>\n",
       "<table border=\"1\" class=\"dataframe\">\n",
       "  <thead>\n",
       "    <tr style=\"text-align: right;\">\n",
       "      <th></th>\n",
       "      <th></th>\n",
       "      <th>Leaf_num</th>\n",
       "      <th>CHLp1</th>\n",
       "      <th>CHLp2</th>\n",
       "      <th>CHLp3</th>\n",
       "      <th>FW</th>\n",
       "      <th>LA</th>\n",
       "      <th>DW</th>\n",
       "      <th>SLA</th>\n",
       "      <th>THCK</th>\n",
       "      <th>LWC</th>\n",
       "      <th>...</th>\n",
       "      <th>2492</th>\n",
       "      <th>2493</th>\n",
       "      <th>2494</th>\n",
       "      <th>2495</th>\n",
       "      <th>2496</th>\n",
       "      <th>2497</th>\n",
       "      <th>2498</th>\n",
       "      <th>2499</th>\n",
       "      <th>2500</th>\n",
       "      <th>CHL</th>\n",
       "    </tr>\n",
       "    <tr>\n",
       "      <th>Genotype</th>\n",
       "      <th>Rep</th>\n",
       "      <th></th>\n",
       "      <th></th>\n",
       "      <th></th>\n",
       "      <th></th>\n",
       "      <th></th>\n",
       "      <th></th>\n",
       "      <th></th>\n",
       "      <th></th>\n",
       "      <th></th>\n",
       "      <th></th>\n",
       "      <th></th>\n",
       "      <th></th>\n",
       "      <th></th>\n",
       "      <th></th>\n",
       "      <th></th>\n",
       "      <th></th>\n",
       "      <th></th>\n",
       "      <th></th>\n",
       "      <th></th>\n",
       "      <th></th>\n",
       "      <th></th>\n",
       "    </tr>\n",
       "  </thead>\n",
       "  <tbody>\n",
       "    <tr>\n",
       "      <th rowspan=\"2\" valign=\"top\">1</th>\n",
       "      <th>1</th>\n",
       "      <td>3.0</td>\n",
       "      <td>439.2</td>\n",
       "      <td>362.3</td>\n",
       "      <td>347.7</td>\n",
       "      <td>1.65</td>\n",
       "      <td>125.04</td>\n",
       "      <td>0.48</td>\n",
       "      <td>260.500000</td>\n",
       "      <td>75.781818</td>\n",
       "      <td>0.709091</td>\n",
       "      <td>...</td>\n",
       "      <td>0.081300</td>\n",
       "      <td>0.081133</td>\n",
       "      <td>0.081500</td>\n",
       "      <td>0.081195</td>\n",
       "      <td>0.080567</td>\n",
       "      <td>0.080167</td>\n",
       "      <td>0.078967</td>\n",
       "      <td>0.078567</td>\n",
       "      <td>0.079233</td>\n",
       "      <td>400.75</td>\n",
       "    </tr>\n",
       "    <tr>\n",
       "      <th>2</th>\n",
       "      <td>3.0</td>\n",
       "      <td>333.0</td>\n",
       "      <td>346.3</td>\n",
       "      <td>279.1</td>\n",
       "      <td>1.70</td>\n",
       "      <td>130.77</td>\n",
       "      <td>0.49</td>\n",
       "      <td>266.877551</td>\n",
       "      <td>76.923529</td>\n",
       "      <td>0.711765</td>\n",
       "      <td>...</td>\n",
       "      <td>0.054395</td>\n",
       "      <td>0.054100</td>\n",
       "      <td>0.053933</td>\n",
       "      <td>0.053882</td>\n",
       "      <td>0.054674</td>\n",
       "      <td>0.054400</td>\n",
       "      <td>0.053033</td>\n",
       "      <td>0.052592</td>\n",
       "      <td>0.051783</td>\n",
       "      <td>339.65</td>\n",
       "    </tr>\n",
       "    <tr>\n",
       "      <th>2</th>\n",
       "      <th>2</th>\n",
       "      <td>3.0</td>\n",
       "      <td>308.1</td>\n",
       "      <td>507.0</td>\n",
       "      <td>115.0</td>\n",
       "      <td>15.05</td>\n",
       "      <td>573.64</td>\n",
       "      <td>4.01</td>\n",
       "      <td>143.052369</td>\n",
       "      <td>38.115615</td>\n",
       "      <td>0.733555</td>\n",
       "      <td>...</td>\n",
       "      <td>0.047500</td>\n",
       "      <td>0.047367</td>\n",
       "      <td>0.046976</td>\n",
       "      <td>0.046700</td>\n",
       "      <td>0.046233</td>\n",
       "      <td>0.045717</td>\n",
       "      <td>0.045000</td>\n",
       "      <td>0.044900</td>\n",
       "      <td>0.044967</td>\n",
       "      <td>407.55</td>\n",
       "    </tr>\n",
       "    <tr>\n",
       "      <th rowspan=\"2\" valign=\"top\">4</th>\n",
       "      <th>1</th>\n",
       "      <td>3.0</td>\n",
       "      <td>533.0</td>\n",
       "      <td>582.8</td>\n",
       "      <td>600.9</td>\n",
       "      <td>15.15</td>\n",
       "      <td>677.34</td>\n",
       "      <td>4.80</td>\n",
       "      <td>141.112500</td>\n",
       "      <td>44.708911</td>\n",
       "      <td>0.683168</td>\n",
       "      <td>...</td>\n",
       "      <td>0.064833</td>\n",
       "      <td>0.064681</td>\n",
       "      <td>0.064215</td>\n",
       "      <td>0.063767</td>\n",
       "      <td>0.063533</td>\n",
       "      <td>0.063514</td>\n",
       "      <td>0.063333</td>\n",
       "      <td>0.063200</td>\n",
       "      <td>0.063600</td>\n",
       "      <td>557.90</td>\n",
       "    </tr>\n",
       "    <tr>\n",
       "      <th>2</th>\n",
       "      <td>3.0</td>\n",
       "      <td>746.7</td>\n",
       "      <td>760.0</td>\n",
       "      <td>626.8</td>\n",
       "      <td>15.10</td>\n",
       "      <td>662.70</td>\n",
       "      <td>4.29</td>\n",
       "      <td>154.475524</td>\n",
       "      <td>43.887417</td>\n",
       "      <td>0.715894</td>\n",
       "      <td>...</td>\n",
       "      <td>0.055200</td>\n",
       "      <td>0.054800</td>\n",
       "      <td>0.054700</td>\n",
       "      <td>0.054633</td>\n",
       "      <td>0.055133</td>\n",
       "      <td>0.055100</td>\n",
       "      <td>0.054800</td>\n",
       "      <td>0.054626</td>\n",
       "      <td>0.054300</td>\n",
       "      <td>753.35</td>\n",
       "    </tr>\n",
       "  </tbody>\n",
       "</table>\n",
       "<p>5 rows × 2163 columns</p>\n",
       "</div>"
      ],
      "text/plain": [
       "              Leaf_num  CHLp1  CHLp2  CHLp3     FW      LA    DW         SLA  \\\n",
       "Genotype Rep                                                                   \n",
       "1        1         3.0  439.2  362.3  347.7   1.65  125.04  0.48  260.500000   \n",
       "         2         3.0  333.0  346.3  279.1   1.70  130.77  0.49  266.877551   \n",
       "2        2         3.0  308.1  507.0  115.0  15.05  573.64  4.01  143.052369   \n",
       "4        1         3.0  533.0  582.8  600.9  15.15  677.34  4.80  141.112500   \n",
       "         2         3.0  746.7  760.0  626.8  15.10  662.70  4.29  154.475524   \n",
       "\n",
       "                   THCK       LWC  ...      2492      2493      2494  \\\n",
       "Genotype Rep                       ...                                 \n",
       "1        1    75.781818  0.709091  ...  0.081300  0.081133  0.081500   \n",
       "         2    76.923529  0.711765  ...  0.054395  0.054100  0.053933   \n",
       "2        2    38.115615  0.733555  ...  0.047500  0.047367  0.046976   \n",
       "4        1    44.708911  0.683168  ...  0.064833  0.064681  0.064215   \n",
       "         2    43.887417  0.715894  ...  0.055200  0.054800  0.054700   \n",
       "\n",
       "                  2495      2496      2497      2498      2499      2500  \\\n",
       "Genotype Rep                                                               \n",
       "1        1    0.081195  0.080567  0.080167  0.078967  0.078567  0.079233   \n",
       "         2    0.053882  0.054674  0.054400  0.053033  0.052592  0.051783   \n",
       "2        2    0.046700  0.046233  0.045717  0.045000  0.044900  0.044967   \n",
       "4        1    0.063767  0.063533  0.063514  0.063333  0.063200  0.063600   \n",
       "         2    0.054633  0.055133  0.055100  0.054800  0.054626  0.054300   \n",
       "\n",
       "                 CHL  \n",
       "Genotype Rep          \n",
       "1        1    400.75  \n",
       "         2    339.65  \n",
       "2        2    407.55  \n",
       "4        1    557.90  \n",
       "         2    753.35  \n",
       "\n",
       "[5 rows x 2163 columns]"
      ]
     },
     "execution_count": 660,
     "metadata": {},
     "output_type": "execute_result"
    }
   ],
   "source": [
    "import copy\n",
    "data_test = copy.deepcopy(data_2022)\n",
    "\n",
    "\n",
    "my_group = data_test.groupby(['Genotype', 'Rep']).mean()\n",
    "\n",
    "my_group.head()"
   ]
  },
  {
   "cell_type": "code",
   "execution_count": 661,
   "id": "dc30bff0",
   "metadata": {},
   "outputs": [],
   "source": [
    "my_group = my_group.reset_index(level=['Genotype', 'Rep'])"
   ]
  },
  {
   "cell_type": "code",
   "execution_count": 662,
   "id": "53deb1d7",
   "metadata": {},
   "outputs": [
    {
     "data": {
      "text/plain": [
       "(86.0402847400682, 268.0623170520003)"
      ]
     },
     "execution_count": 662,
     "metadata": {},
     "output_type": "execute_result"
    }
   ],
   "source": [
    "outlier_treatment(my_group[trait])"
   ]
  },
  {
   "cell_type": "code",
   "execution_count": 663,
   "id": "7a4c4b57",
   "metadata": {},
   "outputs": [],
   "source": [
    "lowerbound,upperbound = outlier_treatment(my_group[trait])"
   ]
  },
  {
   "cell_type": "code",
   "execution_count": 664,
   "id": "42ab6d16",
   "metadata": {},
   "outputs": [
    {
     "data": {
      "text/plain": [
       "Int64Index([36, 37], dtype='int64')"
      ]
     },
     "execution_count": 664,
     "metadata": {},
     "output_type": "execute_result"
    }
   ],
   "source": [
    "rm_index =my_group[(my_group[trait] < lowerbound) | (my_group[trait] > upperbound)].index\n",
    "rm_index"
   ]
  },
  {
   "cell_type": "code",
   "execution_count": 665,
   "id": "63ab72df",
   "metadata": {},
   "outputs": [],
   "source": [
    "my_group.drop(rm_index, axis=0 ,inplace=True)"
   ]
  },
  {
   "cell_type": "code",
   "execution_count": 666,
   "id": "f274ecc4",
   "metadata": {},
   "outputs": [],
   "source": [
    "y_test = my_group.loc[:, trait]"
   ]
  },
  {
   "cell_type": "code",
   "execution_count": 667,
   "id": "5573a7ec",
   "metadata": {},
   "outputs": [
    {
     "data": {
      "text/plain": [
       "(112,)"
      ]
     },
     "execution_count": 667,
     "metadata": {},
     "output_type": "execute_result"
    }
   ],
   "source": [
    "y_test.shape"
   ]
  },
  {
   "cell_type": "code",
   "execution_count": 668,
   "id": "8d45744f",
   "metadata": {},
   "outputs": [],
   "source": [
    "X_total = my_group.iloc[:, 13:2164]"
   ]
  },
  {
   "cell_type": "code",
   "execution_count": 669,
   "id": "9d3f2fc0",
   "metadata": {},
   "outputs": [],
   "source": [
    "X_total.drop(columns = X_total.columns[0:100], inplace = True) "
   ]
  },
  {
   "cell_type": "code",
   "execution_count": 670,
   "id": "4a390fd5",
   "metadata": {},
   "outputs": [
    {
     "data": {
      "text/html": [
       "<div>\n",
       "<style scoped>\n",
       "    .dataframe tbody tr th:only-of-type {\n",
       "        vertical-align: middle;\n",
       "    }\n",
       "\n",
       "    .dataframe tbody tr th {\n",
       "        vertical-align: top;\n",
       "    }\n",
       "\n",
       "    .dataframe thead th {\n",
       "        text-align: right;\n",
       "    }\n",
       "</style>\n",
       "<table border=\"1\" class=\"dataframe\">\n",
       "  <thead>\n",
       "    <tr style=\"text-align: right;\">\n",
       "      <th></th>\n",
       "      <th>450</th>\n",
       "      <th>451</th>\n",
       "      <th>452</th>\n",
       "      <th>453</th>\n",
       "      <th>454</th>\n",
       "      <th>455</th>\n",
       "      <th>456</th>\n",
       "      <th>457</th>\n",
       "      <th>458</th>\n",
       "      <th>459</th>\n",
       "      <th>...</th>\n",
       "      <th>2491</th>\n",
       "      <th>2492</th>\n",
       "      <th>2493</th>\n",
       "      <th>2494</th>\n",
       "      <th>2495</th>\n",
       "      <th>2496</th>\n",
       "      <th>2497</th>\n",
       "      <th>2498</th>\n",
       "      <th>2499</th>\n",
       "      <th>2500</th>\n",
       "    </tr>\n",
       "  </thead>\n",
       "  <tbody>\n",
       "    <tr>\n",
       "      <th>0</th>\n",
       "      <td>0.080033</td>\n",
       "      <td>0.080467</td>\n",
       "      <td>0.080700</td>\n",
       "      <td>0.081233</td>\n",
       "      <td>0.081900</td>\n",
       "      <td>0.081867</td>\n",
       "      <td>0.081900</td>\n",
       "      <td>0.082167</td>\n",
       "      <td>0.082433</td>\n",
       "      <td>0.082200</td>\n",
       "      <td>...</td>\n",
       "      <td>0.081767</td>\n",
       "      <td>0.081300</td>\n",
       "      <td>0.081133</td>\n",
       "      <td>0.081500</td>\n",
       "      <td>0.081195</td>\n",
       "      <td>0.080567</td>\n",
       "      <td>0.080167</td>\n",
       "      <td>0.078967</td>\n",
       "      <td>0.078567</td>\n",
       "      <td>0.079233</td>\n",
       "    </tr>\n",
       "    <tr>\n",
       "      <th>1</th>\n",
       "      <td>0.058967</td>\n",
       "      <td>0.059600</td>\n",
       "      <td>0.058867</td>\n",
       "      <td>0.058604</td>\n",
       "      <td>0.059300</td>\n",
       "      <td>0.060133</td>\n",
       "      <td>0.060333</td>\n",
       "      <td>0.060333</td>\n",
       "      <td>0.060733</td>\n",
       "      <td>0.061200</td>\n",
       "      <td>...</td>\n",
       "      <td>0.055233</td>\n",
       "      <td>0.054395</td>\n",
       "      <td>0.054100</td>\n",
       "      <td>0.053933</td>\n",
       "      <td>0.053882</td>\n",
       "      <td>0.054674</td>\n",
       "      <td>0.054400</td>\n",
       "      <td>0.053033</td>\n",
       "      <td>0.052592</td>\n",
       "      <td>0.051783</td>\n",
       "    </tr>\n",
       "    <tr>\n",
       "      <th>2</th>\n",
       "      <td>0.051167</td>\n",
       "      <td>0.051067</td>\n",
       "      <td>0.051300</td>\n",
       "      <td>0.051667</td>\n",
       "      <td>0.052100</td>\n",
       "      <td>0.052433</td>\n",
       "      <td>0.052337</td>\n",
       "      <td>0.052300</td>\n",
       "      <td>0.052533</td>\n",
       "      <td>0.052833</td>\n",
       "      <td>...</td>\n",
       "      <td>0.047400</td>\n",
       "      <td>0.047500</td>\n",
       "      <td>0.047367</td>\n",
       "      <td>0.046976</td>\n",
       "      <td>0.046700</td>\n",
       "      <td>0.046233</td>\n",
       "      <td>0.045717</td>\n",
       "      <td>0.045000</td>\n",
       "      <td>0.044900</td>\n",
       "      <td>0.044967</td>\n",
       "    </tr>\n",
       "    <tr>\n",
       "      <th>3</th>\n",
       "      <td>0.069000</td>\n",
       "      <td>0.069110</td>\n",
       "      <td>0.069967</td>\n",
       "      <td>0.070367</td>\n",
       "      <td>0.070033</td>\n",
       "      <td>0.069700</td>\n",
       "      <td>0.069433</td>\n",
       "      <td>0.069772</td>\n",
       "      <td>0.070733</td>\n",
       "      <td>0.071000</td>\n",
       "      <td>...</td>\n",
       "      <td>0.065220</td>\n",
       "      <td>0.064833</td>\n",
       "      <td>0.064681</td>\n",
       "      <td>0.064215</td>\n",
       "      <td>0.063767</td>\n",
       "      <td>0.063533</td>\n",
       "      <td>0.063514</td>\n",
       "      <td>0.063333</td>\n",
       "      <td>0.063200</td>\n",
       "      <td>0.063600</td>\n",
       "    </tr>\n",
       "    <tr>\n",
       "      <th>4</th>\n",
       "      <td>0.061100</td>\n",
       "      <td>0.060333</td>\n",
       "      <td>0.060667</td>\n",
       "      <td>0.061100</td>\n",
       "      <td>0.061133</td>\n",
       "      <td>0.060700</td>\n",
       "      <td>0.060167</td>\n",
       "      <td>0.060342</td>\n",
       "      <td>0.061300</td>\n",
       "      <td>0.061367</td>\n",
       "      <td>...</td>\n",
       "      <td>0.056033</td>\n",
       "      <td>0.055200</td>\n",
       "      <td>0.054800</td>\n",
       "      <td>0.054700</td>\n",
       "      <td>0.054633</td>\n",
       "      <td>0.055133</td>\n",
       "      <td>0.055100</td>\n",
       "      <td>0.054800</td>\n",
       "      <td>0.054626</td>\n",
       "      <td>0.054300</td>\n",
       "    </tr>\n",
       "    <tr>\n",
       "      <th>...</th>\n",
       "      <td>...</td>\n",
       "      <td>...</td>\n",
       "      <td>...</td>\n",
       "      <td>...</td>\n",
       "      <td>...</td>\n",
       "      <td>...</td>\n",
       "      <td>...</td>\n",
       "      <td>...</td>\n",
       "      <td>...</td>\n",
       "      <td>...</td>\n",
       "      <td>...</td>\n",
       "      <td>...</td>\n",
       "      <td>...</td>\n",
       "      <td>...</td>\n",
       "      <td>...</td>\n",
       "      <td>...</td>\n",
       "      <td>...</td>\n",
       "      <td>...</td>\n",
       "      <td>...</td>\n",
       "      <td>...</td>\n",
       "      <td>...</td>\n",
       "    </tr>\n",
       "    <tr>\n",
       "      <th>109</th>\n",
       "      <td>0.078524</td>\n",
       "      <td>0.079136</td>\n",
       "      <td>0.079644</td>\n",
       "      <td>0.080169</td>\n",
       "      <td>0.080613</td>\n",
       "      <td>0.080619</td>\n",
       "      <td>0.080815</td>\n",
       "      <td>0.080976</td>\n",
       "      <td>0.081000</td>\n",
       "      <td>0.081087</td>\n",
       "      <td>...</td>\n",
       "      <td>0.083659</td>\n",
       "      <td>0.082732</td>\n",
       "      <td>0.082387</td>\n",
       "      <td>0.082468</td>\n",
       "      <td>0.081946</td>\n",
       "      <td>0.081406</td>\n",
       "      <td>0.080990</td>\n",
       "      <td>0.079717</td>\n",
       "      <td>0.079481</td>\n",
       "      <td>0.080579</td>\n",
       "    </tr>\n",
       "    <tr>\n",
       "      <th>110</th>\n",
       "      <td>0.065367</td>\n",
       "      <td>0.066533</td>\n",
       "      <td>0.066800</td>\n",
       "      <td>0.066733</td>\n",
       "      <td>0.066833</td>\n",
       "      <td>0.067133</td>\n",
       "      <td>0.067263</td>\n",
       "      <td>0.067300</td>\n",
       "      <td>0.067533</td>\n",
       "      <td>0.068200</td>\n",
       "      <td>...</td>\n",
       "      <td>0.064400</td>\n",
       "      <td>0.063667</td>\n",
       "      <td>0.063388</td>\n",
       "      <td>0.062933</td>\n",
       "      <td>0.062567</td>\n",
       "      <td>0.062533</td>\n",
       "      <td>0.062700</td>\n",
       "      <td>0.063133</td>\n",
       "      <td>0.063175</td>\n",
       "      <td>0.063767</td>\n",
       "    </tr>\n",
       "    <tr>\n",
       "      <th>111</th>\n",
       "      <td>0.083850</td>\n",
       "      <td>0.084443</td>\n",
       "      <td>0.085133</td>\n",
       "      <td>0.085356</td>\n",
       "      <td>0.085423</td>\n",
       "      <td>0.086307</td>\n",
       "      <td>0.086440</td>\n",
       "      <td>0.086367</td>\n",
       "      <td>0.086831</td>\n",
       "      <td>0.087240</td>\n",
       "      <td>...</td>\n",
       "      <td>0.071939</td>\n",
       "      <td>0.071067</td>\n",
       "      <td>0.070867</td>\n",
       "      <td>0.072200</td>\n",
       "      <td>0.072067</td>\n",
       "      <td>0.071133</td>\n",
       "      <td>0.071133</td>\n",
       "      <td>0.071100</td>\n",
       "      <td>0.070700</td>\n",
       "      <td>0.071267</td>\n",
       "    </tr>\n",
       "    <tr>\n",
       "      <th>112</th>\n",
       "      <td>0.056133</td>\n",
       "      <td>0.055800</td>\n",
       "      <td>0.056133</td>\n",
       "      <td>0.056733</td>\n",
       "      <td>0.057233</td>\n",
       "      <td>0.057541</td>\n",
       "      <td>0.057767</td>\n",
       "      <td>0.057833</td>\n",
       "      <td>0.057703</td>\n",
       "      <td>0.058200</td>\n",
       "      <td>...</td>\n",
       "      <td>0.071500</td>\n",
       "      <td>0.070788</td>\n",
       "      <td>0.070300</td>\n",
       "      <td>0.070133</td>\n",
       "      <td>0.069778</td>\n",
       "      <td>0.069367</td>\n",
       "      <td>0.069033</td>\n",
       "      <td>0.068767</td>\n",
       "      <td>0.068372</td>\n",
       "      <td>0.067833</td>\n",
       "    </tr>\n",
       "    <tr>\n",
       "      <th>113</th>\n",
       "      <td>0.045700</td>\n",
       "      <td>0.045580</td>\n",
       "      <td>0.045667</td>\n",
       "      <td>0.045945</td>\n",
       "      <td>0.046333</td>\n",
       "      <td>0.046733</td>\n",
       "      <td>0.047133</td>\n",
       "      <td>0.047100</td>\n",
       "      <td>0.046626</td>\n",
       "      <td>0.047173</td>\n",
       "      <td>...</td>\n",
       "      <td>0.060800</td>\n",
       "      <td>0.061467</td>\n",
       "      <td>0.061230</td>\n",
       "      <td>0.060500</td>\n",
       "      <td>0.060300</td>\n",
       "      <td>0.059700</td>\n",
       "      <td>0.059267</td>\n",
       "      <td>0.059482</td>\n",
       "      <td>0.059292</td>\n",
       "      <td>0.058700</td>\n",
       "    </tr>\n",
       "  </tbody>\n",
       "</table>\n",
       "<p>112 rows × 2051 columns</p>\n",
       "</div>"
      ],
      "text/plain": [
       "          450       451       452       453       454       455       456  \\\n",
       "0    0.080033  0.080467  0.080700  0.081233  0.081900  0.081867  0.081900   \n",
       "1    0.058967  0.059600  0.058867  0.058604  0.059300  0.060133  0.060333   \n",
       "2    0.051167  0.051067  0.051300  0.051667  0.052100  0.052433  0.052337   \n",
       "3    0.069000  0.069110  0.069967  0.070367  0.070033  0.069700  0.069433   \n",
       "4    0.061100  0.060333  0.060667  0.061100  0.061133  0.060700  0.060167   \n",
       "..        ...       ...       ...       ...       ...       ...       ...   \n",
       "109  0.078524  0.079136  0.079644  0.080169  0.080613  0.080619  0.080815   \n",
       "110  0.065367  0.066533  0.066800  0.066733  0.066833  0.067133  0.067263   \n",
       "111  0.083850  0.084443  0.085133  0.085356  0.085423  0.086307  0.086440   \n",
       "112  0.056133  0.055800  0.056133  0.056733  0.057233  0.057541  0.057767   \n",
       "113  0.045700  0.045580  0.045667  0.045945  0.046333  0.046733  0.047133   \n",
       "\n",
       "          457       458       459  ...      2491      2492      2493  \\\n",
       "0    0.082167  0.082433  0.082200  ...  0.081767  0.081300  0.081133   \n",
       "1    0.060333  0.060733  0.061200  ...  0.055233  0.054395  0.054100   \n",
       "2    0.052300  0.052533  0.052833  ...  0.047400  0.047500  0.047367   \n",
       "3    0.069772  0.070733  0.071000  ...  0.065220  0.064833  0.064681   \n",
       "4    0.060342  0.061300  0.061367  ...  0.056033  0.055200  0.054800   \n",
       "..        ...       ...       ...  ...       ...       ...       ...   \n",
       "109  0.080976  0.081000  0.081087  ...  0.083659  0.082732  0.082387   \n",
       "110  0.067300  0.067533  0.068200  ...  0.064400  0.063667  0.063388   \n",
       "111  0.086367  0.086831  0.087240  ...  0.071939  0.071067  0.070867   \n",
       "112  0.057833  0.057703  0.058200  ...  0.071500  0.070788  0.070300   \n",
       "113  0.047100  0.046626  0.047173  ...  0.060800  0.061467  0.061230   \n",
       "\n",
       "         2494      2495      2496      2497      2498      2499      2500  \n",
       "0    0.081500  0.081195  0.080567  0.080167  0.078967  0.078567  0.079233  \n",
       "1    0.053933  0.053882  0.054674  0.054400  0.053033  0.052592  0.051783  \n",
       "2    0.046976  0.046700  0.046233  0.045717  0.045000  0.044900  0.044967  \n",
       "3    0.064215  0.063767  0.063533  0.063514  0.063333  0.063200  0.063600  \n",
       "4    0.054700  0.054633  0.055133  0.055100  0.054800  0.054626  0.054300  \n",
       "..        ...       ...       ...       ...       ...       ...       ...  \n",
       "109  0.082468  0.081946  0.081406  0.080990  0.079717  0.079481  0.080579  \n",
       "110  0.062933  0.062567  0.062533  0.062700  0.063133  0.063175  0.063767  \n",
       "111  0.072200  0.072067  0.071133  0.071133  0.071100  0.070700  0.071267  \n",
       "112  0.070133  0.069778  0.069367  0.069033  0.068767  0.068372  0.067833  \n",
       "113  0.060500  0.060300  0.059700  0.059267  0.059482  0.059292  0.058700  \n",
       "\n",
       "[112 rows x 2051 columns]"
      ]
     },
     "execution_count": 670,
     "metadata": {},
     "output_type": "execute_result"
    }
   ],
   "source": [
    "X_total"
   ]
  },
  {
   "cell_type": "code",
   "execution_count": 671,
   "id": "17cf1692",
   "metadata": {},
   "outputs": [],
   "source": [
    "#select the columns of HR data\n",
    "spec_columns2 = X_total.columns"
   ]
  },
  {
   "cell_type": "code",
   "execution_count": 672,
   "id": "be4314f5",
   "metadata": {},
   "outputs": [],
   "source": [
    "# Apply Savitzky Golay Filter\n",
    "X_total = savgol_filter(X_total, window_length=5 , polyorder = 2)\n",
    "X_total = pd.DataFrame(X_total, columns= spec_columns2)"
   ]
  },
  {
   "cell_type": "code",
   "execution_count": 673,
   "id": "98a91fd9",
   "metadata": {},
   "outputs": [
    {
     "data": {
      "text/html": [
       "<div>\n",
       "<style scoped>\n",
       "    .dataframe tbody tr th:only-of-type {\n",
       "        vertical-align: middle;\n",
       "    }\n",
       "\n",
       "    .dataframe tbody tr th {\n",
       "        vertical-align: top;\n",
       "    }\n",
       "\n",
       "    .dataframe thead th {\n",
       "        text-align: right;\n",
       "    }\n",
       "</style>\n",
       "<table border=\"1\" class=\"dataframe\">\n",
       "  <thead>\n",
       "    <tr style=\"text-align: right;\">\n",
       "      <th></th>\n",
       "      <th>450</th>\n",
       "      <th>451</th>\n",
       "      <th>452</th>\n",
       "      <th>453</th>\n",
       "      <th>454</th>\n",
       "      <th>455</th>\n",
       "      <th>456</th>\n",
       "      <th>457</th>\n",
       "      <th>458</th>\n",
       "      <th>459</th>\n",
       "      <th>...</th>\n",
       "      <th>2491</th>\n",
       "      <th>2492</th>\n",
       "      <th>2493</th>\n",
       "      <th>2494</th>\n",
       "      <th>2495</th>\n",
       "      <th>2496</th>\n",
       "      <th>2497</th>\n",
       "      <th>2498</th>\n",
       "      <th>2499</th>\n",
       "      <th>2500</th>\n",
       "    </tr>\n",
       "  </thead>\n",
       "  <tbody>\n",
       "    <tr>\n",
       "      <th>0</th>\n",
       "      <td>0.080076</td>\n",
       "      <td>0.080362</td>\n",
       "      <td>0.080757</td>\n",
       "      <td>0.081290</td>\n",
       "      <td>0.081763</td>\n",
       "      <td>0.081918</td>\n",
       "      <td>0.081934</td>\n",
       "      <td>0.082190</td>\n",
       "      <td>0.082316</td>\n",
       "      <td>0.082291</td>\n",
       "      <td>...</td>\n",
       "      <td>0.081715</td>\n",
       "      <td>0.081311</td>\n",
       "      <td>0.081257</td>\n",
       "      <td>0.081367</td>\n",
       "      <td>0.081178</td>\n",
       "      <td>0.080702</td>\n",
       "      <td>0.079941</td>\n",
       "      <td>0.079081</td>\n",
       "      <td>0.078864</td>\n",
       "      <td>0.079066</td>\n",
       "    </tr>\n",
       "    <tr>\n",
       "      <th>1</th>\n",
       "      <td>0.059218</td>\n",
       "      <td>0.059058</td>\n",
       "      <td>0.058982</td>\n",
       "      <td>0.058716</td>\n",
       "      <td>0.059296</td>\n",
       "      <td>0.060030</td>\n",
       "      <td>0.060319</td>\n",
       "      <td>0.060413</td>\n",
       "      <td>0.060755</td>\n",
       "      <td>0.061120</td>\n",
       "      <td>...</td>\n",
       "      <td>0.055129</td>\n",
       "      <td>0.054515</td>\n",
       "      <td>0.054065</td>\n",
       "      <td>0.053870</td>\n",
       "      <td>0.054108</td>\n",
       "      <td>0.054513</td>\n",
       "      <td>0.054225</td>\n",
       "      <td>0.053317</td>\n",
       "      <td>0.052548</td>\n",
       "      <td>0.051757</td>\n",
       "    </tr>\n",
       "    <tr>\n",
       "      <th>2</th>\n",
       "      <td>0.051138</td>\n",
       "      <td>0.051128</td>\n",
       "      <td>0.051289</td>\n",
       "      <td>0.051675</td>\n",
       "      <td>0.052114</td>\n",
       "      <td>0.052363</td>\n",
       "      <td>0.052361</td>\n",
       "      <td>0.052336</td>\n",
       "      <td>0.052522</td>\n",
       "      <td>0.052850</td>\n",
       "      <td>...</td>\n",
       "      <td>0.047443</td>\n",
       "      <td>0.047480</td>\n",
       "      <td>0.047333</td>\n",
       "      <td>0.047034</td>\n",
       "      <td>0.046662</td>\n",
       "      <td>0.046258</td>\n",
       "      <td>0.045634</td>\n",
       "      <td>0.045109</td>\n",
       "      <td>0.044901</td>\n",
       "      <td>0.044948</td>\n",
       "    </tr>\n",
       "    <tr>\n",
       "      <th>3</th>\n",
       "      <td>0.068839</td>\n",
       "      <td>0.069459</td>\n",
       "      <td>0.069887</td>\n",
       "      <td>0.070280</td>\n",
       "      <td>0.070090</td>\n",
       "      <td>0.069660</td>\n",
       "      <td>0.069478</td>\n",
       "      <td>0.069886</td>\n",
       "      <td>0.070624</td>\n",
       "      <td>0.070948</td>\n",
       "      <td>...</td>\n",
       "      <td>0.065226</td>\n",
       "      <td>0.064918</td>\n",
       "      <td>0.064606</td>\n",
       "      <td>0.064227</td>\n",
       "      <td>0.063784</td>\n",
       "      <td>0.063565</td>\n",
       "      <td>0.063464</td>\n",
       "      <td>0.063309</td>\n",
       "      <td>0.063355</td>\n",
       "      <td>0.063527</td>\n",
       "    </tr>\n",
       "    <tr>\n",
       "      <th>4</th>\n",
       "      <td>0.060943</td>\n",
       "      <td>0.060662</td>\n",
       "      <td>0.060624</td>\n",
       "      <td>0.061063</td>\n",
       "      <td>0.061096</td>\n",
       "      <td>0.060662</td>\n",
       "      <td>0.060230</td>\n",
       "      <td>0.060492</td>\n",
       "      <td>0.061143</td>\n",
       "      <td>0.061301</td>\n",
       "      <td>...</td>\n",
       "      <td>0.055911</td>\n",
       "      <td>0.055291</td>\n",
       "      <td>0.054811</td>\n",
       "      <td>0.054631</td>\n",
       "      <td>0.054773</td>\n",
       "      <td>0.055016</td>\n",
       "      <td>0.055089</td>\n",
       "      <td>0.054858</td>\n",
       "      <td>0.054611</td>\n",
       "      <td>0.054298</td>\n",
       "    </tr>\n",
       "  </tbody>\n",
       "</table>\n",
       "<p>5 rows × 2051 columns</p>\n",
       "</div>"
      ],
      "text/plain": [
       "        450       451       452       453       454       455       456  \\\n",
       "0  0.080076  0.080362  0.080757  0.081290  0.081763  0.081918  0.081934   \n",
       "1  0.059218  0.059058  0.058982  0.058716  0.059296  0.060030  0.060319   \n",
       "2  0.051138  0.051128  0.051289  0.051675  0.052114  0.052363  0.052361   \n",
       "3  0.068839  0.069459  0.069887  0.070280  0.070090  0.069660  0.069478   \n",
       "4  0.060943  0.060662  0.060624  0.061063  0.061096  0.060662  0.060230   \n",
       "\n",
       "        457       458       459  ...      2491      2492      2493      2494  \\\n",
       "0  0.082190  0.082316  0.082291  ...  0.081715  0.081311  0.081257  0.081367   \n",
       "1  0.060413  0.060755  0.061120  ...  0.055129  0.054515  0.054065  0.053870   \n",
       "2  0.052336  0.052522  0.052850  ...  0.047443  0.047480  0.047333  0.047034   \n",
       "3  0.069886  0.070624  0.070948  ...  0.065226  0.064918  0.064606  0.064227   \n",
       "4  0.060492  0.061143  0.061301  ...  0.055911  0.055291  0.054811  0.054631   \n",
       "\n",
       "       2495      2496      2497      2498      2499      2500  \n",
       "0  0.081178  0.080702  0.079941  0.079081  0.078864  0.079066  \n",
       "1  0.054108  0.054513  0.054225  0.053317  0.052548  0.051757  \n",
       "2  0.046662  0.046258  0.045634  0.045109  0.044901  0.044948  \n",
       "3  0.063784  0.063565  0.063464  0.063309  0.063355  0.063527  \n",
       "4  0.054773  0.055016  0.055089  0.054858  0.054611  0.054298  \n",
       "\n",
       "[5 rows x 2051 columns]"
      ]
     },
     "execution_count": 673,
     "metadata": {},
     "output_type": "execute_result"
    }
   ],
   "source": [
    "X_total.head()"
   ]
  },
  {
   "cell_type": "code",
   "execution_count": 674,
   "id": "c14e7f82",
   "metadata": {},
   "outputs": [],
   "source": [
    "column_filter = np.arange(0,2050,5)  ## creating an index for column filtering\n",
    "X_test= X_total.iloc[:, column_filter] # selecting the filtered columns "
   ]
  },
  {
   "cell_type": "code",
   "execution_count": 675,
   "id": "9fbb0579",
   "metadata": {},
   "outputs": [
    {
     "data": {
      "text/html": [
       "<div>\n",
       "<style scoped>\n",
       "    .dataframe tbody tr th:only-of-type {\n",
       "        vertical-align: middle;\n",
       "    }\n",
       "\n",
       "    .dataframe tbody tr th {\n",
       "        vertical-align: top;\n",
       "    }\n",
       "\n",
       "    .dataframe thead th {\n",
       "        text-align: right;\n",
       "    }\n",
       "</style>\n",
       "<table border=\"1\" class=\"dataframe\">\n",
       "  <thead>\n",
       "    <tr style=\"text-align: right;\">\n",
       "      <th></th>\n",
       "      <th>450</th>\n",
       "      <th>455</th>\n",
       "      <th>460</th>\n",
       "      <th>465</th>\n",
       "      <th>470</th>\n",
       "      <th>475</th>\n",
       "      <th>480</th>\n",
       "      <th>485</th>\n",
       "      <th>490</th>\n",
       "      <th>495</th>\n",
       "      <th>...</th>\n",
       "      <th>2450</th>\n",
       "      <th>2455</th>\n",
       "      <th>2460</th>\n",
       "      <th>2465</th>\n",
       "      <th>2470</th>\n",
       "      <th>2475</th>\n",
       "      <th>2480</th>\n",
       "      <th>2485</th>\n",
       "      <th>2490</th>\n",
       "      <th>2495</th>\n",
       "    </tr>\n",
       "  </thead>\n",
       "  <tbody>\n",
       "    <tr>\n",
       "      <th>0</th>\n",
       "      <td>0.080076</td>\n",
       "      <td>0.081918</td>\n",
       "      <td>0.082379</td>\n",
       "      <td>0.082851</td>\n",
       "      <td>0.083124</td>\n",
       "      <td>0.082702</td>\n",
       "      <td>0.083274</td>\n",
       "      <td>0.083733</td>\n",
       "      <td>0.084730</td>\n",
       "      <td>0.087371</td>\n",
       "      <td>...</td>\n",
       "      <td>0.102540</td>\n",
       "      <td>0.099873</td>\n",
       "      <td>0.096709</td>\n",
       "      <td>0.093817</td>\n",
       "      <td>0.091494</td>\n",
       "      <td>0.088314</td>\n",
       "      <td>0.086426</td>\n",
       "      <td>0.084113</td>\n",
       "      <td>0.082212</td>\n",
       "      <td>0.081178</td>\n",
       "    </tr>\n",
       "    <tr>\n",
       "      <th>1</th>\n",
       "      <td>0.059218</td>\n",
       "      <td>0.060030</td>\n",
       "      <td>0.061134</td>\n",
       "      <td>0.062126</td>\n",
       "      <td>0.061992</td>\n",
       "      <td>0.062000</td>\n",
       "      <td>0.062656</td>\n",
       "      <td>0.062901</td>\n",
       "      <td>0.064207</td>\n",
       "      <td>0.066800</td>\n",
       "      <td>...</td>\n",
       "      <td>0.073585</td>\n",
       "      <td>0.070962</td>\n",
       "      <td>0.068191</td>\n",
       "      <td>0.065195</td>\n",
       "      <td>0.063279</td>\n",
       "      <td>0.060857</td>\n",
       "      <td>0.059294</td>\n",
       "      <td>0.057237</td>\n",
       "      <td>0.055631</td>\n",
       "      <td>0.054108</td>\n",
       "    </tr>\n",
       "    <tr>\n",
       "      <th>2</th>\n",
       "      <td>0.051138</td>\n",
       "      <td>0.052363</td>\n",
       "      <td>0.053153</td>\n",
       "      <td>0.053420</td>\n",
       "      <td>0.053972</td>\n",
       "      <td>0.054346</td>\n",
       "      <td>0.055107</td>\n",
       "      <td>0.055117</td>\n",
       "      <td>0.056292</td>\n",
       "      <td>0.058317</td>\n",
       "      <td>...</td>\n",
       "      <td>0.060699</td>\n",
       "      <td>0.058073</td>\n",
       "      <td>0.056076</td>\n",
       "      <td>0.054397</td>\n",
       "      <td>0.052507</td>\n",
       "      <td>0.050932</td>\n",
       "      <td>0.049872</td>\n",
       "      <td>0.048769</td>\n",
       "      <td>0.047223</td>\n",
       "      <td>0.046662</td>\n",
       "    </tr>\n",
       "    <tr>\n",
       "      <th>3</th>\n",
       "      <td>0.068839</td>\n",
       "      <td>0.069660</td>\n",
       "      <td>0.070496</td>\n",
       "      <td>0.070263</td>\n",
       "      <td>0.069627</td>\n",
       "      <td>0.069966</td>\n",
       "      <td>0.069872</td>\n",
       "      <td>0.070745</td>\n",
       "      <td>0.070848</td>\n",
       "      <td>0.073231</td>\n",
       "      <td>...</td>\n",
       "      <td>0.080387</td>\n",
       "      <td>0.078082</td>\n",
       "      <td>0.075419</td>\n",
       "      <td>0.073367</td>\n",
       "      <td>0.071113</td>\n",
       "      <td>0.069211</td>\n",
       "      <td>0.067846</td>\n",
       "      <td>0.066606</td>\n",
       "      <td>0.065230</td>\n",
       "      <td>0.063784</td>\n",
       "    </tr>\n",
       "    <tr>\n",
       "      <th>4</th>\n",
       "      <td>0.060943</td>\n",
       "      <td>0.060662</td>\n",
       "      <td>0.060715</td>\n",
       "      <td>0.060413</td>\n",
       "      <td>0.059695</td>\n",
       "      <td>0.059531</td>\n",
       "      <td>0.059498</td>\n",
       "      <td>0.060125</td>\n",
       "      <td>0.059683</td>\n",
       "      <td>0.060850</td>\n",
       "      <td>...</td>\n",
       "      <td>0.068833</td>\n",
       "      <td>0.066594</td>\n",
       "      <td>0.064815</td>\n",
       "      <td>0.062440</td>\n",
       "      <td>0.060860</td>\n",
       "      <td>0.059357</td>\n",
       "      <td>0.058700</td>\n",
       "      <td>0.057202</td>\n",
       "      <td>0.056425</td>\n",
       "      <td>0.054773</td>\n",
       "    </tr>\n",
       "  </tbody>\n",
       "</table>\n",
       "<p>5 rows × 410 columns</p>\n",
       "</div>"
      ],
      "text/plain": [
       "        450       455       460       465       470       475       480  \\\n",
       "0  0.080076  0.081918  0.082379  0.082851  0.083124  0.082702  0.083274   \n",
       "1  0.059218  0.060030  0.061134  0.062126  0.061992  0.062000  0.062656   \n",
       "2  0.051138  0.052363  0.053153  0.053420  0.053972  0.054346  0.055107   \n",
       "3  0.068839  0.069660  0.070496  0.070263  0.069627  0.069966  0.069872   \n",
       "4  0.060943  0.060662  0.060715  0.060413  0.059695  0.059531  0.059498   \n",
       "\n",
       "        485       490       495  ...      2450      2455      2460      2465  \\\n",
       "0  0.083733  0.084730  0.087371  ...  0.102540  0.099873  0.096709  0.093817   \n",
       "1  0.062901  0.064207  0.066800  ...  0.073585  0.070962  0.068191  0.065195   \n",
       "2  0.055117  0.056292  0.058317  ...  0.060699  0.058073  0.056076  0.054397   \n",
       "3  0.070745  0.070848  0.073231  ...  0.080387  0.078082  0.075419  0.073367   \n",
       "4  0.060125  0.059683  0.060850  ...  0.068833  0.066594  0.064815  0.062440   \n",
       "\n",
       "       2470      2475      2480      2485      2490      2495  \n",
       "0  0.091494  0.088314  0.086426  0.084113  0.082212  0.081178  \n",
       "1  0.063279  0.060857  0.059294  0.057237  0.055631  0.054108  \n",
       "2  0.052507  0.050932  0.049872  0.048769  0.047223  0.046662  \n",
       "3  0.071113  0.069211  0.067846  0.066606  0.065230  0.063784  \n",
       "4  0.060860  0.059357  0.058700  0.057202  0.056425  0.054773  \n",
       "\n",
       "[5 rows x 410 columns]"
      ]
     },
     "execution_count": 675,
     "metadata": {},
     "output_type": "execute_result"
    }
   ],
   "source": [
    "X_test.head()"
   ]
  },
  {
   "cell_type": "code",
   "execution_count": 742,
   "id": "1ac6c01e",
   "metadata": {},
   "outputs": [
    {
     "data": {
      "text/plain": [
       "SVR(C=10000, kernel='linear')"
      ]
     },
     "execution_count": 742,
     "metadata": {},
     "output_type": "execute_result"
    }
   ],
   "source": [
    "# Train the model\n",
    "regressor = SVR(kernel = 'linear', C=10000)\n",
    "regressor.fit(X, y)"
   ]
  },
  {
   "cell_type": "code",
   "execution_count": 743,
   "id": "17f08874",
   "metadata": {},
   "outputs": [
    {
     "data": {
      "text/plain": [
       "47.912123113545675"
      ]
     },
     "execution_count": 743,
     "metadata": {},
     "output_type": "execute_result"
    }
   ],
   "source": [
    "np.sqrt(mean_squared_error(y_test, regressor.predict(X_test)))"
   ]
  },
  {
   "cell_type": "code",
   "execution_count": 744,
   "id": "b2218488",
   "metadata": {},
   "outputs": [],
   "source": [
    "y_pred = regressor.predict(X_test)"
   ]
  },
  {
   "cell_type": "code",
   "execution_count": 745,
   "id": "2c9b7be7",
   "metadata": {},
   "outputs": [
    {
     "data": {
      "text/plain": [
       "<AxesSubplot:xlabel='SLA', ylabel='Predicted SLA values'>"
      ]
     },
     "execution_count": 745,
     "metadata": {},
     "output_type": "execute_result"
    },
    {
     "data": {
      "image/png": "[encoded data removed]",
      "text/plain": [
       "<Figure size 432x288 with 1 Axes>"
      ]
     },
     "metadata": {
      "needs_background": "light"
     },
     "output_type": "display_data"
    }
   ],
   "source": [
    "plt.scatter(y_test, y_pred)\n",
    "plt.ylabel('Predicted' + ' ' + trait +  ' ' 'values')\n",
    "plt.xlabel('Ground truth LWC measurements')\n",
    "sns.regplot(x = y_test , y = y_pred)\n"
   ]
  },
  {
   "cell_type": "code",
   "execution_count": 746,
   "id": "1c9591b4",
   "metadata": {},
   "outputs": [
    {
     "data": {
      "text/plain": [
       "[0.52, 0.0]"
      ]
     },
     "execution_count": 746,
     "metadata": {},
     "output_type": "execute_result"
    }
   ],
   "source": [
    "from scipy.stats import pearsonr, spearmanr\n",
    "#y_pred2 = [x[0] for x in data_plot.predicted]\n",
    "r, p = spearmanr(y_test, y_pred)\n",
    "r2 = r**2\n",
    "text =r2, p\n",
    "text = [np.round(r2, 2) for r2 in text]\n",
    "text\n",
    "\n",
    "\n"
   ]
  }
 ],
 "metadata": {
  "kernelspec": {
   "display_name": "Python 3 (ipykernel)",
   "language": "python",
   "name": "python3"
  },
  "language_info": {
   "codemirror_mode": {
    "name": "ipython",
    "version": 3
   },
   "file_extension": ".py",
   "mimetype": "text/x-python",
   "name": "python",
   "nbconvert_exporter": "python",
   "pygments_lexer": "ipython3",
   "version": "3.9.7"
  }
 },
 "nbformat": 4,
 "nbformat_minor": 5
}
