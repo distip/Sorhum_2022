{
 "cells": [
  {
   "cell_type": "code",
   "execution_count": 1427,
   "metadata": {},
   "outputs": [],
   "source": [
    "import pandas as pd\n",
    "import numpy as np\n",
    "import matplotlib.pyplot as plt\n",
    "import seaborn as sns\n",
    "from sklearn.preprocessing import scale \n",
    "from sklearn.preprocessing import StandardScaler\n",
    "from sklearn import model_selection\n",
    "from sklearn.model_selection import RepeatedKFold\n",
    "from sklearn.model_selection import train_test_split\n",
    "from sklearn.cross_decomposition import PLSRegression\n",
    "from sklearn.metrics import mean_squared_error\n",
    "from sklearn.metrics import r2_score\n",
    "from scipy.signal import savgol_filter"
   ]
  },
  {
   "cell_type": "code",
   "execution_count": 1428,
   "metadata": {
    "scrolled": true
   },
   "outputs": [
    {
     "name": "stderr",
     "output_type": "stream",
     "text": [
      "/usr/lib/python3/dist-packages/IPython/core/interactiveshell.py:2718: DtypeWarning: Columns (1) have mixed types.Specify dtype option on import or set low_memory=False.\n",
      "  interactivity=interactivity, compiler=compiler, result=result)\n"
     ]
    }
   ],
   "source": [
    "data = pd.read_csv('Sorghum_Hyperspectral_Data_1820.csv')"
   ]
  },
  {
   "cell_type": "code",
   "execution_count": 1429,
   "metadata": {},
   "outputs": [
    {
     "data": {
      "text/html": [
       "<div>\n",
       "<style scoped>\n",
       "    .dataframe tbody tr th:only-of-type {\n",
       "        vertical-align: middle;\n",
       "    }\n",
       "\n",
       "    .dataframe tbody tr th {\n",
       "        vertical-align: top;\n",
       "    }\n",
       "\n",
       "    .dataframe thead th {\n",
       "        text-align: right;\n",
       "    }\n",
       "</style>\n",
       "<table border=\"1\" class=\"dataframe\">\n",
       "  <thead>\n",
       "    <tr style=\"text-align: right;\">\n",
       "      <th></th>\n",
       "      <th>crop</th>\n",
       "      <th>PlotID</th>\n",
       "      <th>year</th>\n",
       "      <th>trt</th>\n",
       "      <th>pheno</th>\n",
       "      <th>CHL</th>\n",
       "      <th>EWT</th>\n",
       "      <th>LWC</th>\n",
       "      <th>SLA</th>\n",
       "      <th>N</th>\n",
       "      <th>...</th>\n",
       "      <th>X2491</th>\n",
       "      <th>X2492</th>\n",
       "      <th>X2493</th>\n",
       "      <th>X2494</th>\n",
       "      <th>X2495</th>\n",
       "      <th>X2496</th>\n",
       "      <th>X2497</th>\n",
       "      <th>X2498</th>\n",
       "      <th>X2499</th>\n",
       "      <th>X2500</th>\n",
       "    </tr>\n",
       "  </thead>\n",
       "  <tbody>\n",
       "    <tr>\n",
       "      <th>0</th>\n",
       "      <td>sorghum</td>\n",
       "      <td>281</td>\n",
       "      <td>2018</td>\n",
       "      <td>greenhouse</td>\n",
       "      <td>yes</td>\n",
       "      <td>446.944</td>\n",
       "      <td>0.021140</td>\n",
       "      <td>0.801818</td>\n",
       "      <td>191.380472</td>\n",
       "      <td>2.84</td>\n",
       "      <td>...</td>\n",
       "      <td>0.057221</td>\n",
       "      <td>0.057268</td>\n",
       "      <td>0.057137</td>\n",
       "      <td>0.056709</td>\n",
       "      <td>0.056457</td>\n",
       "      <td>0.056115</td>\n",
       "      <td>0.055923</td>\n",
       "      <td>0.055987</td>\n",
       "      <td>0.055888</td>\n",
       "      <td>0.055737</td>\n",
       "    </tr>\n",
       "    <tr>\n",
       "      <th>1</th>\n",
       "      <td>sorghum</td>\n",
       "      <td>282</td>\n",
       "      <td>2018</td>\n",
       "      <td>greenhouse</td>\n",
       "      <td>yes</td>\n",
       "      <td>713.800</td>\n",
       "      <td>0.013651</td>\n",
       "      <td>0.718788</td>\n",
       "      <td>187.244828</td>\n",
       "      <td>3.44</td>\n",
       "      <td>...</td>\n",
       "      <td>0.065625</td>\n",
       "      <td>0.065636</td>\n",
       "      <td>0.065593</td>\n",
       "      <td>0.065518</td>\n",
       "      <td>0.065329</td>\n",
       "      <td>0.065109</td>\n",
       "      <td>0.064884</td>\n",
       "      <td>0.064390</td>\n",
       "      <td>0.064180</td>\n",
       "      <td>0.064182</td>\n",
       "    </tr>\n",
       "    <tr>\n",
       "      <th>2</th>\n",
       "      <td>sorghum</td>\n",
       "      <td>283</td>\n",
       "      <td>2018</td>\n",
       "      <td>greenhouse</td>\n",
       "      <td>yes</td>\n",
       "      <td>724.911</td>\n",
       "      <td>0.013870</td>\n",
       "      <td>0.715429</td>\n",
       "      <td>181.260442</td>\n",
       "      <td>3.52</td>\n",
       "      <td>...</td>\n",
       "      <td>0.061687</td>\n",
       "      <td>0.061462</td>\n",
       "      <td>0.061244</td>\n",
       "      <td>0.061186</td>\n",
       "      <td>0.060975</td>\n",
       "      <td>0.060398</td>\n",
       "      <td>0.060287</td>\n",
       "      <td>0.060618</td>\n",
       "      <td>0.060535</td>\n",
       "      <td>0.060500</td>\n",
       "    </tr>\n",
       "    <tr>\n",
       "      <th>3</th>\n",
       "      <td>sorghum</td>\n",
       "      <td>284</td>\n",
       "      <td>2018</td>\n",
       "      <td>greenhouse</td>\n",
       "      <td>yes</td>\n",
       "      <td>738.400</td>\n",
       "      <td>0.016723</td>\n",
       "      <td>0.753034</td>\n",
       "      <td>182.327753</td>\n",
       "      <td>4.13</td>\n",
       "      <td>...</td>\n",
       "      <td>0.055341</td>\n",
       "      <td>0.055124</td>\n",
       "      <td>0.054997</td>\n",
       "      <td>0.055162</td>\n",
       "      <td>0.055078</td>\n",
       "      <td>0.054760</td>\n",
       "      <td>0.054617</td>\n",
       "      <td>0.054473</td>\n",
       "      <td>0.054353</td>\n",
       "      <td>0.054351</td>\n",
       "    </tr>\n",
       "    <tr>\n",
       "      <th>4</th>\n",
       "      <td>sorghum</td>\n",
       "      <td>285</td>\n",
       "      <td>2018</td>\n",
       "      <td>greenhouse</td>\n",
       "      <td>yes</td>\n",
       "      <td>700.344</td>\n",
       "      <td>0.023406</td>\n",
       "      <td>0.798125</td>\n",
       "      <td>168.909288</td>\n",
       "      <td>3.85</td>\n",
       "      <td>...</td>\n",
       "      <td>0.056971</td>\n",
       "      <td>0.057206</td>\n",
       "      <td>0.057154</td>\n",
       "      <td>0.056835</td>\n",
       "      <td>0.056743</td>\n",
       "      <td>0.056700</td>\n",
       "      <td>0.056552</td>\n",
       "      <td>0.056538</td>\n",
       "      <td>0.056412</td>\n",
       "      <td>0.056039</td>\n",
       "    </tr>\n",
       "  </tbody>\n",
       "</table>\n",
       "<p>5 rows × 2171 columns</p>\n",
       "</div>"
      ],
      "text/plain": [
       "      crop PlotID  year         trt pheno      CHL       EWT       LWC  \\\n",
       "0  sorghum    281  2018  greenhouse   yes  446.944  0.021140  0.801818   \n",
       "1  sorghum    282  2018  greenhouse   yes  713.800  0.013651  0.718788   \n",
       "2  sorghum    283  2018  greenhouse   yes  724.911  0.013870  0.715429   \n",
       "3  sorghum    284  2018  greenhouse   yes  738.400  0.016723  0.753034   \n",
       "4  sorghum    285  2018  greenhouse   yes  700.344  0.023406  0.798125   \n",
       "\n",
       "          SLA     N  ...     X2491     X2492     X2493     X2494     X2495  \\\n",
       "0  191.380472  2.84  ...  0.057221  0.057268  0.057137  0.056709  0.056457   \n",
       "1  187.244828  3.44  ...  0.065625  0.065636  0.065593  0.065518  0.065329   \n",
       "2  181.260442  3.52  ...  0.061687  0.061462  0.061244  0.061186  0.060975   \n",
       "3  182.327753  4.13  ...  0.055341  0.055124  0.054997  0.055162  0.055078   \n",
       "4  168.909288  3.85  ...  0.056971  0.057206  0.057154  0.056835  0.056743   \n",
       "\n",
       "      X2496     X2497     X2498     X2499     X2500  \n",
       "0  0.056115  0.055923  0.055987  0.055888  0.055737  \n",
       "1  0.065109  0.064884  0.064390  0.064180  0.064182  \n",
       "2  0.060398  0.060287  0.060618  0.060535  0.060500  \n",
       "3  0.054760  0.054617  0.054473  0.054353  0.054351  \n",
       "4  0.056700  0.056552  0.056538  0.056412  0.056039  \n",
       "\n",
       "[5 rows x 2171 columns]"
      ]
     },
     "execution_count": 1429,
     "metadata": {},
     "output_type": "execute_result"
    }
   ],
   "source": [
    "data.head()"
   ]
  },
  {
   "cell_type": "code",
   "execution_count": 1430,
   "metadata": {},
   "outputs": [
    {
     "data": {
      "text/plain": [
       "2020    1470\n",
       "2018     321\n",
       "Name: year, dtype: int64"
      ]
     },
     "execution_count": 1430,
     "metadata": {},
     "output_type": "execute_result"
    }
   ],
   "source": [
    "data.year.value_counts(dropna= False)"
   ]
  },
  {
   "cell_type": "code",
   "execution_count": 1431,
   "metadata": {},
   "outputs": [
    {
     "data": {
      "text/plain": [
       "(1791, 2171)"
      ]
     },
     "execution_count": 1431,
     "metadata": {},
     "output_type": "execute_result"
    }
   ],
   "source": [
    "data.shape"
   ]
  },
  {
   "cell_type": "code",
   "execution_count": 1432,
   "metadata": {},
   "outputs": [
    {
     "data": {
      "text/plain": [
       "Index(['PlotID', 'year', 'trt', 'pheno', 'CHL', 'EWT', 'LWC', 'SLA', 'N', 'P',\n",
       "       'K', 'Mg', 'Ca', 'S', 'Fe', 'Mn', 'B', 'Cu', 'Zn', 'X350', 'X351',\n",
       "       'X352', 'X353', 'X354', 'X355', 'X356', 'X357', 'X358', 'X359', 'X360',\n",
       "       'X361', 'X362', 'X363', 'X364', 'X365', 'X366', 'X367', 'X368', 'X369',\n",
       "       'X370', 'X371', 'X372', 'X373', 'X374', 'X375', 'X376', 'X377', 'X378',\n",
       "       'X379'],\n",
       "      dtype='object')"
      ]
     },
     "execution_count": 1432,
     "metadata": {},
     "output_type": "execute_result"
    }
   ],
   "source": [
    "data.columns[1:50]"
   ]
  },
  {
   "cell_type": "code",
   "execution_count": 1433,
   "metadata": {},
   "outputs": [
    {
     "data": {
      "text/plain": [
       "HN            738\n",
       "LN            732\n",
       "greenhouse    321\n",
       "Name: trt, dtype: int64"
      ]
     },
     "execution_count": 1433,
     "metadata": {},
     "output_type": "execute_result"
    }
   ],
   "source": [
    "data.loc[: , 'trt'].value_counts(dropna = False)"
   ]
  },
  {
   "cell_type": "code",
   "execution_count": 1434,
   "metadata": {},
   "outputs": [],
   "source": [
    "#define the trait for analysis\n",
    "trait = 'B'\n"
   ]
  },
  {
   "cell_type": "code",
   "execution_count": 1435,
   "metadata": {},
   "outputs": [
    {
     "data": {
      "text/plain": [
       "(587, 2171)"
      ]
     },
     "execution_count": 1435,
     "metadata": {},
     "output_type": "execute_result"
    }
   ],
   "source": [
    "#Drop NAs \n",
    "data = data.loc[data[trait].notnull(), :]\n",
    "data.shape"
   ]
  },
  {
   "cell_type": "code",
   "execution_count": 1436,
   "metadata": {},
   "outputs": [],
   "source": [
    "##Choose the year\n",
    "##data= data.loc[data['year'] ==  2020 , :]"
   ]
  },
  {
   "cell_type": "code",
   "execution_count": 1437,
   "metadata": {},
   "outputs": [
    {
     "data": {
      "text/plain": [
       "<AxesSubplot:xlabel='year', ylabel='B'>"
      ]
     },
     "execution_count": 1437,
     "metadata": {},
     "output_type": "execute_result"
    },
    {
     "data": {
      "image/png": "[encoded data removed]",
      "text/plain": [
       "<Figure size 432x288 with 1 Axes>"
      ]
     },
     "metadata": {},
     "output_type": "display_data"
    }
   ],
   "source": [
    "sns.boxplot(y= trait, x='year', data=data)"
   ]
  },
  {
   "cell_type": "code",
   "execution_count": 1438,
   "metadata": {},
   "outputs": [],
   "source": [
    "#defining a function to remove the outliers\n",
    "def outlier_treatment(datacolumn):\n",
    " sorted(datacolumn)\n",
    " Q1=datacolumn.quantile(0.25)\n",
    " Q3=datacolumn.quantile(0.75)\n",
    " #Q1,Q3 = np.percentile(datacolumn , [25,75])\n",
    " IQR = Q3 - Q1\n",
    " lower_range = Q1 - (1.5 * IQR)\n",
    " upper_range = Q3 + (1.5 * IQR)\n",
    " return lower_range,upper_range"
   ]
  },
  {
   "cell_type": "code",
   "execution_count": 1439,
   "metadata": {},
   "outputs": [
    {
     "data": {
      "text/plain": [
       "(-18.5, 43.1)"
      ]
     },
     "execution_count": 1439,
     "metadata": {},
     "output_type": "execute_result"
    }
   ],
   "source": [
    "outlier_treatment(data[trait])\n"
   ]
  },
  {
   "cell_type": "code",
   "execution_count": 1440,
   "metadata": {},
   "outputs": [],
   "source": [
    "lowerbound,upperbound = outlier_treatment(data[trait])"
   ]
  },
  {
   "cell_type": "code",
   "execution_count": 1441,
   "metadata": {},
   "outputs": [
    {
     "data": {
      "text/plain": [
       "Int64Index([  5, 145, 175, 182, 195, 215, 217, 230, 232, 255, 261, 289, 298,\n",
       "            305, 313, 314, 315, 317],\n",
       "           dtype='int64')"
      ]
     },
     "execution_count": 1441,
     "metadata": {},
     "output_type": "execute_result"
    }
   ],
   "source": [
    "rm_index =data[(data[trait] < lowerbound) | (data[trait] > upperbound)].index\n",
    "rm_index"
   ]
  },
  {
   "cell_type": "code",
   "execution_count": 1442,
   "metadata": {},
   "outputs": [],
   "source": [
    "data.drop(rm_index, axis=0 ,inplace=True)"
   ]
  },
  {
   "cell_type": "code",
   "execution_count": 1443,
   "metadata": {},
   "outputs": [],
   "source": [
    "# choose the years for grouping in the plots\n",
    "year = data.loc[: , 'year']"
   ]
  },
  {
   "cell_type": "code",
   "execution_count": 1444,
   "metadata": {},
   "outputs": [
    {
     "data": {
      "text/plain": [
       "(569, 2171)"
      ]
     },
     "execution_count": 1444,
     "metadata": {},
     "output_type": "execute_result"
    }
   ],
   "source": [
    "data.shape\n"
   ]
  },
  {
   "cell_type": "code",
   "execution_count": 1445,
   "metadata": {},
   "outputs": [],
   "source": [
    "# define trait data\n",
    "y = data.loc[: , trait]\n"
   ]
  },
  {
   "cell_type": "code",
   "execution_count": 1446,
   "metadata": {},
   "outputs": [],
   "source": [
    "#select the columns of HR data\n",
    "spec_columns = [col for col in data if col.startswith('X')]\n"
   ]
  },
  {
   "cell_type": "code",
   "execution_count": 1447,
   "metadata": {},
   "outputs": [],
   "source": [
    "# Define the X by choosing only the predictors\n",
    "X = data[spec_columns]\n"
   ]
  },
  {
   "cell_type": "code",
   "execution_count": 1448,
   "metadata": {},
   "outputs": [],
   "source": [
    "# Apply Savitzky Golay Filter\n",
    "X = savgol_filter(X, window_length=5 , polyorder = 2)\n",
    "X = pd.DataFrame(X, columns= spec_columns)"
   ]
  },
  {
   "cell_type": "code",
   "execution_count": 1449,
   "metadata": {},
   "outputs": [],
   "source": [
    "# Remove first 100 wawelengths\n",
    "X = X.drop(X.columns[0:100], axis=1)"
   ]
  },
  {
   "cell_type": "code",
   "execution_count": 1450,
   "metadata": {},
   "outputs": [],
   "source": [
    "# Create a np array for downsampling for every 5 nm\n",
    "column_filter = np.arange(0, 2050, 5)"
   ]
  },
  {
   "cell_type": "code",
   "execution_count": 1451,
   "metadata": {},
   "outputs": [],
   "source": [
    "# Choose from the X based on filtering array\n",
    "X = X.iloc[: , column_filter]\n"
   ]
  },
  {
   "cell_type": "code",
   "execution_count": 1452,
   "metadata": {},
   "outputs": [
    {
     "data": {
      "text/html": [
       "<div>\n",
       "<style scoped>\n",
       "    .dataframe tbody tr th:only-of-type {\n",
       "        vertical-align: middle;\n",
       "    }\n",
       "\n",
       "    .dataframe tbody tr th {\n",
       "        vertical-align: top;\n",
       "    }\n",
       "\n",
       "    .dataframe thead th {\n",
       "        text-align: right;\n",
       "    }\n",
       "</style>\n",
       "<table border=\"1\" class=\"dataframe\">\n",
       "  <thead>\n",
       "    <tr style=\"text-align: right;\">\n",
       "      <th></th>\n",
       "      <th>X450</th>\n",
       "      <th>X455</th>\n",
       "      <th>X460</th>\n",
       "      <th>X465</th>\n",
       "      <th>X470</th>\n",
       "      <th>X475</th>\n",
       "      <th>X480</th>\n",
       "      <th>X485</th>\n",
       "      <th>X490</th>\n",
       "      <th>X495</th>\n",
       "      <th>...</th>\n",
       "      <th>X2450</th>\n",
       "      <th>X2455</th>\n",
       "      <th>X2460</th>\n",
       "      <th>X2465</th>\n",
       "      <th>X2470</th>\n",
       "      <th>X2475</th>\n",
       "      <th>X2480</th>\n",
       "      <th>X2485</th>\n",
       "      <th>X2490</th>\n",
       "      <th>X2495</th>\n",
       "    </tr>\n",
       "  </thead>\n",
       "  <tbody>\n",
       "    <tr>\n",
       "      <th>0</th>\n",
       "      <td>0.072084</td>\n",
       "      <td>0.072281</td>\n",
       "      <td>0.074527</td>\n",
       "      <td>0.073938</td>\n",
       "      <td>0.073444</td>\n",
       "      <td>0.073933</td>\n",
       "      <td>0.074270</td>\n",
       "      <td>0.074302</td>\n",
       "      <td>0.074556</td>\n",
       "      <td>0.077044</td>\n",
       "      <td>...</td>\n",
       "      <td>0.067297</td>\n",
       "      <td>0.065572</td>\n",
       "      <td>0.064134</td>\n",
       "      <td>0.062460</td>\n",
       "      <td>0.061316</td>\n",
       "      <td>0.059724</td>\n",
       "      <td>0.058408</td>\n",
       "      <td>0.057898</td>\n",
       "      <td>0.057136</td>\n",
       "      <td>0.056414</td>\n",
       "    </tr>\n",
       "    <tr>\n",
       "      <th>1</th>\n",
       "      <td>0.071562</td>\n",
       "      <td>0.070789</td>\n",
       "      <td>0.072950</td>\n",
       "      <td>0.072189</td>\n",
       "      <td>0.071799</td>\n",
       "      <td>0.072144</td>\n",
       "      <td>0.072596</td>\n",
       "      <td>0.072355</td>\n",
       "      <td>0.072260</td>\n",
       "      <td>0.073828</td>\n",
       "      <td>...</td>\n",
       "      <td>0.078345</td>\n",
       "      <td>0.076368</td>\n",
       "      <td>0.074371</td>\n",
       "      <td>0.072508</td>\n",
       "      <td>0.071027</td>\n",
       "      <td>0.069200</td>\n",
       "      <td>0.068060</td>\n",
       "      <td>0.066575</td>\n",
       "      <td>0.065758</td>\n",
       "      <td>0.065334</td>\n",
       "    </tr>\n",
       "    <tr>\n",
       "      <th>2</th>\n",
       "      <td>0.067849</td>\n",
       "      <td>0.067549</td>\n",
       "      <td>0.069338</td>\n",
       "      <td>0.068589</td>\n",
       "      <td>0.068386</td>\n",
       "      <td>0.068461</td>\n",
       "      <td>0.068986</td>\n",
       "      <td>0.068710</td>\n",
       "      <td>0.068470</td>\n",
       "      <td>0.070524</td>\n",
       "      <td>...</td>\n",
       "      <td>0.075083</td>\n",
       "      <td>0.073046</td>\n",
       "      <td>0.070950</td>\n",
       "      <td>0.068873</td>\n",
       "      <td>0.067303</td>\n",
       "      <td>0.065461</td>\n",
       "      <td>0.063934</td>\n",
       "      <td>0.062901</td>\n",
       "      <td>0.061841</td>\n",
       "      <td>0.060885</td>\n",
       "    </tr>\n",
       "    <tr>\n",
       "      <th>3</th>\n",
       "      <td>0.064959</td>\n",
       "      <td>0.064509</td>\n",
       "      <td>0.066153</td>\n",
       "      <td>0.065387</td>\n",
       "      <td>0.065025</td>\n",
       "      <td>0.065148</td>\n",
       "      <td>0.065500</td>\n",
       "      <td>0.065179</td>\n",
       "      <td>0.065041</td>\n",
       "      <td>0.066772</td>\n",
       "      <td>...</td>\n",
       "      <td>0.064992</td>\n",
       "      <td>0.063572</td>\n",
       "      <td>0.061879</td>\n",
       "      <td>0.060338</td>\n",
       "      <td>0.059434</td>\n",
       "      <td>0.058130</td>\n",
       "      <td>0.057164</td>\n",
       "      <td>0.056357</td>\n",
       "      <td>0.055493</td>\n",
       "      <td>0.055044</td>\n",
       "    </tr>\n",
       "    <tr>\n",
       "      <th>4</th>\n",
       "      <td>0.066446</td>\n",
       "      <td>0.065801</td>\n",
       "      <td>0.067720</td>\n",
       "      <td>0.066706</td>\n",
       "      <td>0.066269</td>\n",
       "      <td>0.066451</td>\n",
       "      <td>0.066779</td>\n",
       "      <td>0.066488</td>\n",
       "      <td>0.066297</td>\n",
       "      <td>0.068251</td>\n",
       "      <td>...</td>\n",
       "      <td>0.067579</td>\n",
       "      <td>0.065932</td>\n",
       "      <td>0.064275</td>\n",
       "      <td>0.062884</td>\n",
       "      <td>0.061588</td>\n",
       "      <td>0.060099</td>\n",
       "      <td>0.059214</td>\n",
       "      <td>0.058285</td>\n",
       "      <td>0.057006</td>\n",
       "      <td>0.056741</td>\n",
       "    </tr>\n",
       "  </tbody>\n",
       "</table>\n",
       "<p>5 rows × 410 columns</p>\n",
       "</div>"
      ],
      "text/plain": [
       "       X450      X455      X460      X465      X470      X475      X480  \\\n",
       "0  0.072084  0.072281  0.074527  0.073938  0.073444  0.073933  0.074270   \n",
       "1  0.071562  0.070789  0.072950  0.072189  0.071799  0.072144  0.072596   \n",
       "2  0.067849  0.067549  0.069338  0.068589  0.068386  0.068461  0.068986   \n",
       "3  0.064959  0.064509  0.066153  0.065387  0.065025  0.065148  0.065500   \n",
       "4  0.066446  0.065801  0.067720  0.066706  0.066269  0.066451  0.066779   \n",
       "\n",
       "       X485      X490      X495  ...     X2450     X2455     X2460     X2465  \\\n",
       "0  0.074302  0.074556  0.077044  ...  0.067297  0.065572  0.064134  0.062460   \n",
       "1  0.072355  0.072260  0.073828  ...  0.078345  0.076368  0.074371  0.072508   \n",
       "2  0.068710  0.068470  0.070524  ...  0.075083  0.073046  0.070950  0.068873   \n",
       "3  0.065179  0.065041  0.066772  ...  0.064992  0.063572  0.061879  0.060338   \n",
       "4  0.066488  0.066297  0.068251  ...  0.067579  0.065932  0.064275  0.062884   \n",
       "\n",
       "      X2470     X2475     X2480     X2485     X2490     X2495  \n",
       "0  0.061316  0.059724  0.058408  0.057898  0.057136  0.056414  \n",
       "1  0.071027  0.069200  0.068060  0.066575  0.065758  0.065334  \n",
       "2  0.067303  0.065461  0.063934  0.062901  0.061841  0.060885  \n",
       "3  0.059434  0.058130  0.057164  0.056357  0.055493  0.055044  \n",
       "4  0.061588  0.060099  0.059214  0.058285  0.057006  0.056741  \n",
       "\n",
       "[5 rows x 410 columns]"
      ]
     },
     "execution_count": 1452,
     "metadata": {},
     "output_type": "execute_result"
    }
   ],
   "source": [
    "X.head()"
   ]
  },
  {
   "cell_type": "code",
   "execution_count": 1453,
   "metadata": {},
   "outputs": [],
   "source": [
    "#define the cv\n",
    "#cv = RepeatedKFold(n_splits=10)\n",
    "#mse = []"
   ]
  },
  {
   "cell_type": "code",
   "execution_count": 1454,
   "metadata": {},
   "outputs": [],
   "source": [
    "#Calculate MSE using cross-validation, adding one component at a time\n",
    "#for i in np.arange(1, 40):\n",
    " #   pls = PLSRegression(n_components=i)\n",
    "  #  score = -1*model_selection.cross_val_score(pls, X, y, cv=cv,\n",
    "   #            scoring='neg_mean_squared_error').mean()\n",
    "    #mse.append(np.sqrt(score))"
   ]
  },
  {
   "cell_type": "code",
   "execution_count": 1455,
   "metadata": {},
   "outputs": [],
   "source": [
    "# split the dataset into training (60%) and testing (40%) sets\n",
    "X_train,X_test,y_train,y_test = train_test_split(X, y ,test_size=0.4) "
   ]
  },
  {
   "cell_type": "code",
   "execution_count": 1456,
   "metadata": {},
   "outputs": [],
   "source": [
    "rsqu = [] \n",
    "for i in np.arange(1, 50):\n",
    "    pls = PLSRegression(n_components= i)\n",
    "    pls.fit(X, y)\n",
    "    y_pred = pls.predict(X_test)\n",
    "    r , p = spearmanr(y_test , y_pred)\n",
    "    rsqu.append(r**2)\n",
    "    n_comb = rsqu.index(max(rsqu)) +1"
   ]
  },
  {
   "cell_type": "code",
   "execution_count": 1457,
   "metadata": {},
   "outputs": [
    {
     "data": {
      "text/plain": [
       "PLSRegression(n_components=49)"
      ]
     },
     "execution_count": 1457,
     "metadata": {},
     "output_type": "execute_result"
    }
   ],
   "source": [
    "# Train the model\n",
    "pls = PLSRegression(n_components= n_comb)\n",
    "pls.fit(X_train, y_train)"
   ]
  },
  {
   "cell_type": "code",
   "execution_count": 1458,
   "metadata": {},
   "outputs": [
    {
     "data": {
      "text/plain": [
       "6.845516753256545"
      ]
     },
     "execution_count": 1458,
     "metadata": {},
     "output_type": "execute_result"
    }
   ],
   "source": [
    "# Calculate the RMSE\n",
    "np.sqrt(mean_squared_error(y_test, pls.predict(X_test)))"
   ]
  },
  {
   "cell_type": "code",
   "execution_count": 1459,
   "metadata": {},
   "outputs": [],
   "source": [
    "y_pred = pls.predict(X_test)"
   ]
  },
  {
   "cell_type": "code",
   "execution_count": 1460,
   "metadata": {},
   "outputs": [],
   "source": [
    "y_pred = pd.DataFrame(y_pred)"
   ]
  },
  {
   "cell_type": "code",
   "execution_count": 1461,
   "metadata": {},
   "outputs": [],
   "source": [
    "# Combine the 'year' and y_test for plotting and reset the index for combining with y_pred\n",
    "y_test =pd.merge(y_test, year , left_index=True , right_index=True,  how='left').reset_index(drop=True)"
   ]
  },
  {
   "cell_type": "code",
   "execution_count": 1462,
   "metadata": {},
   "outputs": [
    {
     "data": {
      "text/html": [
       "<div>\n",
       "<style scoped>\n",
       "    .dataframe tbody tr th:only-of-type {\n",
       "        vertical-align: middle;\n",
       "    }\n",
       "\n",
       "    .dataframe tbody tr th {\n",
       "        vertical-align: top;\n",
       "    }\n",
       "\n",
       "    .dataframe thead th {\n",
       "        text-align: right;\n",
       "    }\n",
       "</style>\n",
       "<table border=\"1\" class=\"dataframe\">\n",
       "  <thead>\n",
       "    <tr style=\"text-align: right;\">\n",
       "      <th></th>\n",
       "      <th>B</th>\n",
       "      <th>year</th>\n",
       "    </tr>\n",
       "  </thead>\n",
       "  <tbody>\n",
       "    <tr>\n",
       "      <th>0</th>\n",
       "      <td>19.0</td>\n",
       "      <td>2018</td>\n",
       "    </tr>\n",
       "    <tr>\n",
       "      <th>1</th>\n",
       "      <td>3.7</td>\n",
       "      <td>2020</td>\n",
       "    </tr>\n",
       "    <tr>\n",
       "      <th>2</th>\n",
       "      <td>25.0</td>\n",
       "      <td>2018</td>\n",
       "    </tr>\n",
       "    <tr>\n",
       "      <th>3</th>\n",
       "      <td>3.7</td>\n",
       "      <td>2020</td>\n",
       "    </tr>\n",
       "    <tr>\n",
       "      <th>4</th>\n",
       "      <td>4.6</td>\n",
       "      <td>2020</td>\n",
       "    </tr>\n",
       "  </tbody>\n",
       "</table>\n",
       "</div>"
      ],
      "text/plain": [
       "      B  year\n",
       "0  19.0  2018\n",
       "1   3.7  2020\n",
       "2  25.0  2018\n",
       "3   3.7  2020\n",
       "4   4.6  2020"
      ]
     },
     "execution_count": 1462,
     "metadata": {},
     "output_type": "execute_result"
    }
   ],
   "source": [
    "y_test.head()"
   ]
  },
  {
   "cell_type": "code",
   "execution_count": 1463,
   "metadata": {},
   "outputs": [
    {
     "data": {
      "text/plain": [
       "pandas.core.frame.DataFrame"
      ]
     },
     "execution_count": 1463,
     "metadata": {},
     "output_type": "execute_result"
    }
   ],
   "source": [
    "type(y_pred)"
   ]
  },
  {
   "cell_type": "code",
   "execution_count": 1464,
   "metadata": {},
   "outputs": [],
   "source": [
    "#Combine y_test and y_pred and get one data frame for seaborn scatter plot\n",
    "data_plot = pd.concat([y_test, y_pred], axis = 1)"
   ]
  },
  {
   "cell_type": "code",
   "execution_count": 1465,
   "metadata": {},
   "outputs": [],
   "source": [
    "data_plot =data_plot.rename({0 : 'predicted'} ,axis =1)"
   ]
  },
  {
   "cell_type": "code",
   "execution_count": 1466,
   "metadata": {},
   "outputs": [
    {
     "data": {
      "text/html": [
       "<div>\n",
       "<style scoped>\n",
       "    .dataframe tbody tr th:only-of-type {\n",
       "        vertical-align: middle;\n",
       "    }\n",
       "\n",
       "    .dataframe tbody tr th {\n",
       "        vertical-align: top;\n",
       "    }\n",
       "\n",
       "    .dataframe thead th {\n",
       "        text-align: right;\n",
       "    }\n",
       "</style>\n",
       "<table border=\"1\" class=\"dataframe\">\n",
       "  <thead>\n",
       "    <tr style=\"text-align: right;\">\n",
       "      <th></th>\n",
       "      <th>B</th>\n",
       "      <th>year</th>\n",
       "      <th>predicted</th>\n",
       "    </tr>\n",
       "  </thead>\n",
       "  <tbody>\n",
       "    <tr>\n",
       "      <th>0</th>\n",
       "      <td>19.0</td>\n",
       "      <td>2018</td>\n",
       "      <td>16.411204</td>\n",
       "    </tr>\n",
       "    <tr>\n",
       "      <th>1</th>\n",
       "      <td>3.7</td>\n",
       "      <td>2020</td>\n",
       "      <td>7.963721</td>\n",
       "    </tr>\n",
       "    <tr>\n",
       "      <th>2</th>\n",
       "      <td>25.0</td>\n",
       "      <td>2018</td>\n",
       "      <td>29.268231</td>\n",
       "    </tr>\n",
       "    <tr>\n",
       "      <th>3</th>\n",
       "      <td>3.7</td>\n",
       "      <td>2020</td>\n",
       "      <td>6.759560</td>\n",
       "    </tr>\n",
       "    <tr>\n",
       "      <th>4</th>\n",
       "      <td>4.6</td>\n",
       "      <td>2020</td>\n",
       "      <td>0.424958</td>\n",
       "    </tr>\n",
       "  </tbody>\n",
       "</table>\n",
       "</div>"
      ],
      "text/plain": [
       "      B  year  predicted\n",
       "0  19.0  2018  16.411204\n",
       "1   3.7  2020   7.963721\n",
       "2  25.0  2018  29.268231\n",
       "3   3.7  2020   6.759560\n",
       "4   4.6  2020   0.424958"
      ]
     },
     "execution_count": 1466,
     "metadata": {},
     "output_type": "execute_result"
    }
   ],
   "source": [
    "data_plot.head()"
   ]
  },
  {
   "cell_type": "code",
   "execution_count": 1467,
   "metadata": {},
   "outputs": [],
   "source": [
    "# Calculate the spearman correlation , r2 and p value and pass them into the 'text'\n",
    "\n",
    "from scipy.stats import pearsonr, spearmanr\n",
    "#y_pred2 = [x[0] for x in data_plot.predicted]\n",
    "r, p = spearmanr(data_plot[trait], data_plot.predicted)\n",
    "r2 = r**2\n",
    "text =r2, p\n",
    "text = [np.round(r2, 2) for r2 in text]\n"
   ]
  },
  {
   "cell_type": "code",
   "execution_count": 1468,
   "metadata": {},
   "outputs": [
    {
     "data": {
      "text/plain": [
       "Text(0.5, 1.0, 'B PLSR')"
      ]
     },
     "execution_count": 1468,
     "metadata": {},
     "output_type": "execute_result"
    },
    {
     "data": {
      "image/png": "[encoded data removed]",
      "text/plain": [
       "<Figure size 432x288 with 1 Axes>"
      ]
     },
     "metadata": {},
     "output_type": "display_data"
    }
   ],
   "source": [
    "#plot the results\n",
    "text1 = 'r2=%s, p=%s' % (text[0], text[1])\n",
    "#sns.lmplot(x=trait, y='predicted',data=data_plot)\n",
    "sns.regplot(x=trait, y='predicted' , scatter_kws={'s' : 15},data=data_plot)\n",
    "xmin , xmax , ymin, ymax = plt.axis()\n",
    "sns.scatterplot(x=trait, y='predicted', hue= 'year', data=data_plot).text((xmax)/2, ymax*0.96, text1, fontsize=12)\n",
    "plt.xlabel('Ground Truth' + ' ' + trait)\n",
    "plt.ylabel('Predicted' + ' ' + trait + ' ' + 'Values')\n",
    "plt.title(trait + ' ' + 'PLSR')\n",
    "\n"
   ]
  },
  {
   "cell_type": "code",
   "execution_count": 1469,
   "metadata": {},
   "outputs": [],
   "source": [
    "data_2022 = pd.read_csv('sorghum_2022_whole.csv')"
   ]
  },
  {
   "cell_type": "code",
   "execution_count": 1470,
   "metadata": {},
   "outputs": [],
   "source": [
    "data_2022 =data_2022.loc[data_2022['355'].notnull(), :]"
   ]
  },
  {
   "cell_type": "code",
   "execution_count": 1471,
   "metadata": {},
   "outputs": [],
   "source": [
    "data_2022['CHL'] = data_2022[['CHLp1', 'CHLp2', 'CHLp3']].mean(axis=1)"
   ]
  },
  {
   "cell_type": "code",
   "execution_count": 1472,
   "metadata": {},
   "outputs": [],
   "source": [
    "data_2022['LWC'] = data_2022['LWC']/100"
   ]
  },
  {
   "cell_type": "code",
   "execution_count": 1473,
   "metadata": {},
   "outputs": [],
   "source": [
    "data_2022 = data_2022.loc[data_2022['Leaf_num'] != 2 , :]"
   ]
  },
  {
   "cell_type": "code",
   "execution_count": 1474,
   "metadata": {},
   "outputs": [],
   "source": [
    "#data_2022 = data_2022.loc[data_2022['Leaf_pos'] == 3 , :]"
   ]
  },
  {
   "cell_type": "code",
   "execution_count": 1475,
   "metadata": {},
   "outputs": [],
   "source": [
    "#data_2022 = data_2022.loc[data_2022['CHL']< 700 , :]"
   ]
  },
  {
   "cell_type": "code",
   "execution_count": 1476,
   "metadata": {},
   "outputs": [],
   "source": [
    "#sns.boxplot(y= trait, data=data_2022)"
   ]
  },
  {
   "cell_type": "code",
   "execution_count": 1477,
   "metadata": {},
   "outputs": [
    {
     "data": {
      "text/html": [
       "<div>\n",
       "<style scoped>\n",
       "    .dataframe tbody tr th:only-of-type {\n",
       "        vertical-align: middle;\n",
       "    }\n",
       "\n",
       "    .dataframe tbody tr th {\n",
       "        vertical-align: top;\n",
       "    }\n",
       "\n",
       "    .dataframe thead th {\n",
       "        text-align: right;\n",
       "    }\n",
       "</style>\n",
       "<table border=\"1\" class=\"dataframe\">\n",
       "  <thead>\n",
       "    <tr style=\"text-align: right;\">\n",
       "      <th></th>\n",
       "      <th></th>\n",
       "      <th>P</th>\n",
       "      <th>K</th>\n",
       "      <th>S</th>\n",
       "      <th>Ca</th>\n",
       "      <th>Mg</th>\n",
       "      <th>Zn</th>\n",
       "      <th>Fe</th>\n",
       "      <th>Mn</th>\n",
       "      <th>Cu</th>\n",
       "      <th>B</th>\n",
       "      <th>...</th>\n",
       "      <th>2492</th>\n",
       "      <th>2493</th>\n",
       "      <th>2494</th>\n",
       "      <th>2495</th>\n",
       "      <th>2496</th>\n",
       "      <th>2497</th>\n",
       "      <th>2498</th>\n",
       "      <th>2499</th>\n",
       "      <th>2500</th>\n",
       "      <th>CHL</th>\n",
       "    </tr>\n",
       "    <tr>\n",
       "      <th>Genotype</th>\n",
       "      <th>Rep</th>\n",
       "      <th></th>\n",
       "      <th></th>\n",
       "      <th></th>\n",
       "      <th></th>\n",
       "      <th></th>\n",
       "      <th></th>\n",
       "      <th></th>\n",
       "      <th></th>\n",
       "      <th></th>\n",
       "      <th></th>\n",
       "      <th></th>\n",
       "      <th></th>\n",
       "      <th></th>\n",
       "      <th></th>\n",
       "      <th></th>\n",
       "      <th></th>\n",
       "      <th></th>\n",
       "      <th></th>\n",
       "      <th></th>\n",
       "      <th></th>\n",
       "      <th></th>\n",
       "    </tr>\n",
       "  </thead>\n",
       "  <tbody>\n",
       "    <tr>\n",
       "      <th rowspan=\"2\" valign=\"top\">1</th>\n",
       "      <th>1</th>\n",
       "      <td>0.212</td>\n",
       "      <td>1.96</td>\n",
       "      <td>0.211</td>\n",
       "      <td>1.676</td>\n",
       "      <td>0.776</td>\n",
       "      <td>79.0</td>\n",
       "      <td>196.0</td>\n",
       "      <td>139.0</td>\n",
       "      <td>15.6</td>\n",
       "      <td>21.2</td>\n",
       "      <td>...</td>\n",
       "      <td>0.075083</td>\n",
       "      <td>0.074767</td>\n",
       "      <td>0.074717</td>\n",
       "      <td>0.074495</td>\n",
       "      <td>0.074277</td>\n",
       "      <td>0.073817</td>\n",
       "      <td>0.072667</td>\n",
       "      <td>0.072467</td>\n",
       "      <td>0.073033</td>\n",
       "      <td>398.200000</td>\n",
       "    </tr>\n",
       "    <tr>\n",
       "      <th>2</th>\n",
       "      <td>0.273</td>\n",
       "      <td>2.17</td>\n",
       "      <td>0.204</td>\n",
       "      <td>1.237</td>\n",
       "      <td>0.614</td>\n",
       "      <td>66.0</td>\n",
       "      <td>150.0</td>\n",
       "      <td>94.0</td>\n",
       "      <td>14.7</td>\n",
       "      <td>23.8</td>\n",
       "      <td>...</td>\n",
       "      <td>0.075576</td>\n",
       "      <td>0.075305</td>\n",
       "      <td>0.075219</td>\n",
       "      <td>0.075162</td>\n",
       "      <td>0.075687</td>\n",
       "      <td>0.075395</td>\n",
       "      <td>0.074362</td>\n",
       "      <td>0.073932</td>\n",
       "      <td>0.073131</td>\n",
       "      <td>284.716667</td>\n",
       "    </tr>\n",
       "    <tr>\n",
       "      <th rowspan=\"2\" valign=\"top\">2</th>\n",
       "      <th>1</th>\n",
       "      <td>0.510</td>\n",
       "      <td>1.85</td>\n",
       "      <td>0.195</td>\n",
       "      <td>1.402</td>\n",
       "      <td>0.638</td>\n",
       "      <td>84.0</td>\n",
       "      <td>128.0</td>\n",
       "      <td>167.0</td>\n",
       "      <td>12.3</td>\n",
       "      <td>49.1</td>\n",
       "      <td>...</td>\n",
       "      <td>0.045286</td>\n",
       "      <td>0.044667</td>\n",
       "      <td>0.043567</td>\n",
       "      <td>0.043349</td>\n",
       "      <td>0.043433</td>\n",
       "      <td>0.043200</td>\n",
       "      <td>0.043786</td>\n",
       "      <td>0.043700</td>\n",
       "      <td>0.042268</td>\n",
       "      <td>759.066667</td>\n",
       "    </tr>\n",
       "    <tr>\n",
       "      <th>2</th>\n",
       "      <td>0.649</td>\n",
       "      <td>1.54</td>\n",
       "      <td>0.241</td>\n",
       "      <td>2.080</td>\n",
       "      <td>0.926</td>\n",
       "      <td>92.0</td>\n",
       "      <td>151.0</td>\n",
       "      <td>217.0</td>\n",
       "      <td>15.8</td>\n",
       "      <td>51.1</td>\n",
       "      <td>...</td>\n",
       "      <td>0.044450</td>\n",
       "      <td>0.044295</td>\n",
       "      <td>0.044209</td>\n",
       "      <td>0.044067</td>\n",
       "      <td>0.043633</td>\n",
       "      <td>0.043225</td>\n",
       "      <td>0.042703</td>\n",
       "      <td>0.042633</td>\n",
       "      <td>0.042550</td>\n",
       "      <td>368.700000</td>\n",
       "    </tr>\n",
       "    <tr>\n",
       "      <th>4</th>\n",
       "      <th>1</th>\n",
       "      <td>0.292</td>\n",
       "      <td>1.52</td>\n",
       "      <td>0.137</td>\n",
       "      <td>0.700</td>\n",
       "      <td>0.396</td>\n",
       "      <td>35.0</td>\n",
       "      <td>154.0</td>\n",
       "      <td>26.0</td>\n",
       "      <td>17.0</td>\n",
       "      <td>55.5</td>\n",
       "      <td>...</td>\n",
       "      <td>0.063600</td>\n",
       "      <td>0.063374</td>\n",
       "      <td>0.062941</td>\n",
       "      <td>0.062683</td>\n",
       "      <td>0.062683</td>\n",
       "      <td>0.062624</td>\n",
       "      <td>0.062445</td>\n",
       "      <td>0.062400</td>\n",
       "      <td>0.062583</td>\n",
       "      <td>513.466667</td>\n",
       "    </tr>\n",
       "  </tbody>\n",
       "</table>\n",
       "<p>5 rows × 2174 columns</p>\n",
       "</div>"
      ],
      "text/plain": [
       "                  P     K      S     Ca     Mg    Zn     Fe     Mn    Cu  \\\n",
       "Genotype Rep                                                               \n",
       "1        1    0.212  1.96  0.211  1.676  0.776  79.0  196.0  139.0  15.6   \n",
       "         2    0.273  2.17  0.204  1.237  0.614  66.0  150.0   94.0  14.7   \n",
       "2        1    0.510  1.85  0.195  1.402  0.638  84.0  128.0  167.0  12.3   \n",
       "         2    0.649  1.54  0.241  2.080  0.926  92.0  151.0  217.0  15.8   \n",
       "4        1    0.292  1.52  0.137  0.700  0.396  35.0  154.0   26.0  17.0   \n",
       "\n",
       "                 B  ...      2492      2493      2494      2495      2496  \\\n",
       "Genotype Rep        ...                                                     \n",
       "1        1    21.2  ...  0.075083  0.074767  0.074717  0.074495  0.074277   \n",
       "         2    23.8  ...  0.075576  0.075305  0.075219  0.075162  0.075687   \n",
       "2        1    49.1  ...  0.045286  0.044667  0.043567  0.043349  0.043433   \n",
       "         2    51.1  ...  0.044450  0.044295  0.044209  0.044067  0.043633   \n",
       "4        1    55.5  ...  0.063600  0.063374  0.062941  0.062683  0.062683   \n",
       "\n",
       "                  2497      2498      2499      2500         CHL  \n",
       "Genotype Rep                                                      \n",
       "1        1    0.073817  0.072667  0.072467  0.073033  398.200000  \n",
       "         2    0.075395  0.074362  0.073932  0.073131  284.716667  \n",
       "2        1    0.043200  0.043786  0.043700  0.042268  759.066667  \n",
       "         2    0.043225  0.042703  0.042633  0.042550  368.700000  \n",
       "4        1    0.062624  0.062445  0.062400  0.062583  513.466667  \n",
       "\n",
       "[5 rows x 2174 columns]"
      ]
     },
     "execution_count": 1477,
     "metadata": {},
     "output_type": "execute_result"
    }
   ],
   "source": [
    "import copy\n",
    "data_test = copy.deepcopy(data_2022)\n",
    "\n",
    "\n",
    "my_group = data_test.groupby(['Genotype', 'Rep']).mean()\n",
    "\n",
    "my_group.head()"
   ]
  },
  {
   "cell_type": "code",
   "execution_count": 1478,
   "metadata": {},
   "outputs": [],
   "source": [
    "my_group = my_group.reset_index(level=['Genotype', 'Rep'])"
   ]
  },
  {
   "cell_type": "code",
   "execution_count": 1479,
   "metadata": {},
   "outputs": [
    {
     "data": {
      "text/plain": [
       "(-12.162500000000016, 110.13750000000002)"
      ]
     },
     "execution_count": 1479,
     "metadata": {},
     "output_type": "execute_result"
    }
   ],
   "source": [
    "outlier_treatment(my_group[trait])"
   ]
  },
  {
   "cell_type": "code",
   "execution_count": 1480,
   "metadata": {},
   "outputs": [],
   "source": [
    "lowerbound,upperbound = outlier_treatment(my_group[trait])"
   ]
  },
  {
   "cell_type": "code",
   "execution_count": 1481,
   "metadata": {},
   "outputs": [
    {
     "data": {
      "text/plain": [
       "Int64Index([37, 38, 39, 55, 70, 101], dtype='int64')"
      ]
     },
     "execution_count": 1481,
     "metadata": {},
     "output_type": "execute_result"
    }
   ],
   "source": [
    "rm_index =my_group[(my_group[trait] < lowerbound) | (my_group[trait] > upperbound)].index\n",
    "rm_index"
   ]
  },
  {
   "cell_type": "code",
   "execution_count": 1482,
   "metadata": {},
   "outputs": [],
   "source": [
    "my_group.drop(rm_index, axis=0 ,inplace=True)"
   ]
  },
  {
   "cell_type": "code",
   "execution_count": 1483,
   "metadata": {},
   "outputs": [],
   "source": [
    "y_test = my_group.loc[:, trait]"
   ]
  },
  {
   "cell_type": "code",
   "execution_count": 1484,
   "metadata": {},
   "outputs": [
    {
     "data": {
      "text/plain": [
       "(114,)"
      ]
     },
     "execution_count": 1484,
     "metadata": {},
     "output_type": "execute_result"
    }
   ],
   "source": [
    "y_test.shape"
   ]
  },
  {
   "cell_type": "code",
   "execution_count": 1485,
   "metadata": {},
   "outputs": [],
   "source": [
    "X_total = my_group.iloc[:, my_group.columns.get_loc('450'): my_group.columns.get_loc('2500')+1]"
   ]
  },
  {
   "cell_type": "code",
   "execution_count": 1486,
   "metadata": {},
   "outputs": [
    {
     "data": {
      "text/html": [
       "<div>\n",
       "<style scoped>\n",
       "    .dataframe tbody tr th:only-of-type {\n",
       "        vertical-align: middle;\n",
       "    }\n",
       "\n",
       "    .dataframe tbody tr th {\n",
       "        vertical-align: top;\n",
       "    }\n",
       "\n",
       "    .dataframe thead th {\n",
       "        text-align: right;\n",
       "    }\n",
       "</style>\n",
       "<table border=\"1\" class=\"dataframe\">\n",
       "  <thead>\n",
       "    <tr style=\"text-align: right;\">\n",
       "      <th></th>\n",
       "      <th>450</th>\n",
       "      <th>451</th>\n",
       "      <th>452</th>\n",
       "      <th>453</th>\n",
       "      <th>454</th>\n",
       "      <th>455</th>\n",
       "      <th>456</th>\n",
       "      <th>457</th>\n",
       "      <th>458</th>\n",
       "      <th>459</th>\n",
       "      <th>...</th>\n",
       "      <th>2491</th>\n",
       "      <th>2492</th>\n",
       "      <th>2493</th>\n",
       "      <th>2494</th>\n",
       "      <th>2495</th>\n",
       "      <th>2496</th>\n",
       "      <th>2497</th>\n",
       "      <th>2498</th>\n",
       "      <th>2499</th>\n",
       "      <th>2500</th>\n",
       "    </tr>\n",
       "  </thead>\n",
       "  <tbody>\n",
       "    <tr>\n",
       "      <th>0</th>\n",
       "      <td>0.061683</td>\n",
       "      <td>0.062105</td>\n",
       "      <td>0.062230</td>\n",
       "      <td>0.062539</td>\n",
       "      <td>0.063033</td>\n",
       "      <td>0.063067</td>\n",
       "      <td>0.063067</td>\n",
       "      <td>0.063267</td>\n",
       "      <td>0.063483</td>\n",
       "      <td>0.063000</td>\n",
       "      <td>...</td>\n",
       "      <td>0.075414</td>\n",
       "      <td>0.075083</td>\n",
       "      <td>0.074767</td>\n",
       "      <td>0.074717</td>\n",
       "      <td>0.074495</td>\n",
       "      <td>0.074277</td>\n",
       "      <td>0.073817</td>\n",
       "      <td>0.072667</td>\n",
       "      <td>0.072467</td>\n",
       "      <td>0.073033</td>\n",
       "    </tr>\n",
       "    <tr>\n",
       "      <th>1</th>\n",
       "      <td>0.089735</td>\n",
       "      <td>0.089894</td>\n",
       "      <td>0.089596</td>\n",
       "      <td>0.089757</td>\n",
       "      <td>0.090451</td>\n",
       "      <td>0.090961</td>\n",
       "      <td>0.091022</td>\n",
       "      <td>0.091035</td>\n",
       "      <td>0.091390</td>\n",
       "      <td>0.091730</td>\n",
       "      <td>...</td>\n",
       "      <td>0.076182</td>\n",
       "      <td>0.075576</td>\n",
       "      <td>0.075305</td>\n",
       "      <td>0.075219</td>\n",
       "      <td>0.075162</td>\n",
       "      <td>0.075687</td>\n",
       "      <td>0.075395</td>\n",
       "      <td>0.074362</td>\n",
       "      <td>0.073932</td>\n",
       "      <td>0.073131</td>\n",
       "    </tr>\n",
       "    <tr>\n",
       "      <th>2</th>\n",
       "      <td>0.049967</td>\n",
       "      <td>0.050133</td>\n",
       "      <td>0.049900</td>\n",
       "      <td>0.049733</td>\n",
       "      <td>0.049900</td>\n",
       "      <td>0.050400</td>\n",
       "      <td>0.051033</td>\n",
       "      <td>0.051267</td>\n",
       "      <td>0.050967</td>\n",
       "      <td>0.051233</td>\n",
       "      <td>...</td>\n",
       "      <td>0.045781</td>\n",
       "      <td>0.045286</td>\n",
       "      <td>0.044667</td>\n",
       "      <td>0.043567</td>\n",
       "      <td>0.043349</td>\n",
       "      <td>0.043433</td>\n",
       "      <td>0.043200</td>\n",
       "      <td>0.043786</td>\n",
       "      <td>0.043700</td>\n",
       "      <td>0.042268</td>\n",
       "    </tr>\n",
       "    <tr>\n",
       "      <th>3</th>\n",
       "      <td>0.048267</td>\n",
       "      <td>0.048250</td>\n",
       "      <td>0.048000</td>\n",
       "      <td>0.048017</td>\n",
       "      <td>0.048467</td>\n",
       "      <td>0.048660</td>\n",
       "      <td>0.048919</td>\n",
       "      <td>0.049087</td>\n",
       "      <td>0.049033</td>\n",
       "      <td>0.049333</td>\n",
       "      <td>...</td>\n",
       "      <td>0.044300</td>\n",
       "      <td>0.044450</td>\n",
       "      <td>0.044295</td>\n",
       "      <td>0.044209</td>\n",
       "      <td>0.044067</td>\n",
       "      <td>0.043633</td>\n",
       "      <td>0.043225</td>\n",
       "      <td>0.042703</td>\n",
       "      <td>0.042633</td>\n",
       "      <td>0.042550</td>\n",
       "    </tr>\n",
       "    <tr>\n",
       "      <th>4</th>\n",
       "      <td>0.067517</td>\n",
       "      <td>0.067321</td>\n",
       "      <td>0.067967</td>\n",
       "      <td>0.068417</td>\n",
       "      <td>0.068267</td>\n",
       "      <td>0.068000</td>\n",
       "      <td>0.067867</td>\n",
       "      <td>0.068286</td>\n",
       "      <td>0.069100</td>\n",
       "      <td>0.068917</td>\n",
       "      <td>...</td>\n",
       "      <td>0.064010</td>\n",
       "      <td>0.063600</td>\n",
       "      <td>0.063374</td>\n",
       "      <td>0.062941</td>\n",
       "      <td>0.062683</td>\n",
       "      <td>0.062683</td>\n",
       "      <td>0.062624</td>\n",
       "      <td>0.062445</td>\n",
       "      <td>0.062400</td>\n",
       "      <td>0.062583</td>\n",
       "    </tr>\n",
       "    <tr>\n",
       "      <th>...</th>\n",
       "      <td>...</td>\n",
       "      <td>...</td>\n",
       "      <td>...</td>\n",
       "      <td>...</td>\n",
       "      <td>...</td>\n",
       "      <td>...</td>\n",
       "      <td>...</td>\n",
       "      <td>...</td>\n",
       "      <td>...</td>\n",
       "      <td>...</td>\n",
       "      <td>...</td>\n",
       "      <td>...</td>\n",
       "      <td>...</td>\n",
       "      <td>...</td>\n",
       "      <td>...</td>\n",
       "      <td>...</td>\n",
       "      <td>...</td>\n",
       "      <td>...</td>\n",
       "      <td>...</td>\n",
       "      <td>...</td>\n",
       "      <td>...</td>\n",
       "    </tr>\n",
       "    <tr>\n",
       "      <th>115</th>\n",
       "      <td>0.091942</td>\n",
       "      <td>0.092791</td>\n",
       "      <td>0.093003</td>\n",
       "      <td>0.093339</td>\n",
       "      <td>0.093955</td>\n",
       "      <td>0.094083</td>\n",
       "      <td>0.094451</td>\n",
       "      <td>0.094993</td>\n",
       "      <td>0.095507</td>\n",
       "      <td>0.095401</td>\n",
       "      <td>...</td>\n",
       "      <td>0.090411</td>\n",
       "      <td>0.090124</td>\n",
       "      <td>0.089853</td>\n",
       "      <td>0.089571</td>\n",
       "      <td>0.088992</td>\n",
       "      <td>0.088277</td>\n",
       "      <td>0.087723</td>\n",
       "      <td>0.086604</td>\n",
       "      <td>0.086253</td>\n",
       "      <td>0.086805</td>\n",
       "    </tr>\n",
       "    <tr>\n",
       "      <th>116</th>\n",
       "      <td>0.073563</td>\n",
       "      <td>0.074333</td>\n",
       "      <td>0.074651</td>\n",
       "      <td>0.074866</td>\n",
       "      <td>0.075229</td>\n",
       "      <td>0.075790</td>\n",
       "      <td>0.076105</td>\n",
       "      <td>0.076172</td>\n",
       "      <td>0.076220</td>\n",
       "      <td>0.076790</td>\n",
       "      <td>...</td>\n",
       "      <td>0.064000</td>\n",
       "      <td>0.063292</td>\n",
       "      <td>0.063044</td>\n",
       "      <td>0.062767</td>\n",
       "      <td>0.062450</td>\n",
       "      <td>0.062633</td>\n",
       "      <td>0.062533</td>\n",
       "      <td>0.062028</td>\n",
       "      <td>0.061886</td>\n",
       "      <td>0.062250</td>\n",
       "    </tr>\n",
       "    <tr>\n",
       "      <th>117</th>\n",
       "      <td>0.083447</td>\n",
       "      <td>0.083765</td>\n",
       "      <td>0.084466</td>\n",
       "      <td>0.084728</td>\n",
       "      <td>0.084711</td>\n",
       "      <td>0.085620</td>\n",
       "      <td>0.085737</td>\n",
       "      <td>0.085617</td>\n",
       "      <td>0.085999</td>\n",
       "      <td>0.086403</td>\n",
       "      <td>...</td>\n",
       "      <td>0.072619</td>\n",
       "      <td>0.072563</td>\n",
       "      <td>0.072436</td>\n",
       "      <td>0.073017</td>\n",
       "      <td>0.072750</td>\n",
       "      <td>0.071733</td>\n",
       "      <td>0.071446</td>\n",
       "      <td>0.071167</td>\n",
       "      <td>0.070800</td>\n",
       "      <td>0.071067</td>\n",
       "    </tr>\n",
       "    <tr>\n",
       "      <th>118</th>\n",
       "      <td>0.054250</td>\n",
       "      <td>0.054150</td>\n",
       "      <td>0.054483</td>\n",
       "      <td>0.055017</td>\n",
       "      <td>0.055515</td>\n",
       "      <td>0.055820</td>\n",
       "      <td>0.056068</td>\n",
       "      <td>0.056067</td>\n",
       "      <td>0.055802</td>\n",
       "      <td>0.056333</td>\n",
       "      <td>...</td>\n",
       "      <td>0.071167</td>\n",
       "      <td>0.070477</td>\n",
       "      <td>0.070030</td>\n",
       "      <td>0.070067</td>\n",
       "      <td>0.069821</td>\n",
       "      <td>0.069652</td>\n",
       "      <td>0.069317</td>\n",
       "      <td>0.068733</td>\n",
       "      <td>0.068336</td>\n",
       "      <td>0.067793</td>\n",
       "    </tr>\n",
       "    <tr>\n",
       "      <th>119</th>\n",
       "      <td>0.048423</td>\n",
       "      <td>0.048300</td>\n",
       "      <td>0.048582</td>\n",
       "      <td>0.048956</td>\n",
       "      <td>0.049242</td>\n",
       "      <td>0.049483</td>\n",
       "      <td>0.049883</td>\n",
       "      <td>0.050000</td>\n",
       "      <td>0.049707</td>\n",
       "      <td>0.050087</td>\n",
       "      <td>...</td>\n",
       "      <td>0.059133</td>\n",
       "      <td>0.059350</td>\n",
       "      <td>0.059032</td>\n",
       "      <td>0.058300</td>\n",
       "      <td>0.058067</td>\n",
       "      <td>0.057633</td>\n",
       "      <td>0.057300</td>\n",
       "      <td>0.057708</td>\n",
       "      <td>0.057460</td>\n",
       "      <td>0.056350</td>\n",
       "    </tr>\n",
       "  </tbody>\n",
       "</table>\n",
       "<p>114 rows × 2051 columns</p>\n",
       "</div>"
      ],
      "text/plain": [
       "          450       451       452       453       454       455       456  \\\n",
       "0    0.061683  0.062105  0.062230  0.062539  0.063033  0.063067  0.063067   \n",
       "1    0.089735  0.089894  0.089596  0.089757  0.090451  0.090961  0.091022   \n",
       "2    0.049967  0.050133  0.049900  0.049733  0.049900  0.050400  0.051033   \n",
       "3    0.048267  0.048250  0.048000  0.048017  0.048467  0.048660  0.048919   \n",
       "4    0.067517  0.067321  0.067967  0.068417  0.068267  0.068000  0.067867   \n",
       "..        ...       ...       ...       ...       ...       ...       ...   \n",
       "115  0.091942  0.092791  0.093003  0.093339  0.093955  0.094083  0.094451   \n",
       "116  0.073563  0.074333  0.074651  0.074866  0.075229  0.075790  0.076105   \n",
       "117  0.083447  0.083765  0.084466  0.084728  0.084711  0.085620  0.085737   \n",
       "118  0.054250  0.054150  0.054483  0.055017  0.055515  0.055820  0.056068   \n",
       "119  0.048423  0.048300  0.048582  0.048956  0.049242  0.049483  0.049883   \n",
       "\n",
       "          457       458       459  ...      2491      2492      2493  \\\n",
       "0    0.063267  0.063483  0.063000  ...  0.075414  0.075083  0.074767   \n",
       "1    0.091035  0.091390  0.091730  ...  0.076182  0.075576  0.075305   \n",
       "2    0.051267  0.050967  0.051233  ...  0.045781  0.045286  0.044667   \n",
       "3    0.049087  0.049033  0.049333  ...  0.044300  0.044450  0.044295   \n",
       "4    0.068286  0.069100  0.068917  ...  0.064010  0.063600  0.063374   \n",
       "..        ...       ...       ...  ...       ...       ...       ...   \n",
       "115  0.094993  0.095507  0.095401  ...  0.090411  0.090124  0.089853   \n",
       "116  0.076172  0.076220  0.076790  ...  0.064000  0.063292  0.063044   \n",
       "117  0.085617  0.085999  0.086403  ...  0.072619  0.072563  0.072436   \n",
       "118  0.056067  0.055802  0.056333  ...  0.071167  0.070477  0.070030   \n",
       "119  0.050000  0.049707  0.050087  ...  0.059133  0.059350  0.059032   \n",
       "\n",
       "         2494      2495      2496      2497      2498      2499      2500  \n",
       "0    0.074717  0.074495  0.074277  0.073817  0.072667  0.072467  0.073033  \n",
       "1    0.075219  0.075162  0.075687  0.075395  0.074362  0.073932  0.073131  \n",
       "2    0.043567  0.043349  0.043433  0.043200  0.043786  0.043700  0.042268  \n",
       "3    0.044209  0.044067  0.043633  0.043225  0.042703  0.042633  0.042550  \n",
       "4    0.062941  0.062683  0.062683  0.062624  0.062445  0.062400  0.062583  \n",
       "..        ...       ...       ...       ...       ...       ...       ...  \n",
       "115  0.089571  0.088992  0.088277  0.087723  0.086604  0.086253  0.086805  \n",
       "116  0.062767  0.062450  0.062633  0.062533  0.062028  0.061886  0.062250  \n",
       "117  0.073017  0.072750  0.071733  0.071446  0.071167  0.070800  0.071067  \n",
       "118  0.070067  0.069821  0.069652  0.069317  0.068733  0.068336  0.067793  \n",
       "119  0.058300  0.058067  0.057633  0.057300  0.057708  0.057460  0.056350  \n",
       "\n",
       "[114 rows x 2051 columns]"
      ]
     },
     "execution_count": 1486,
     "metadata": {},
     "output_type": "execute_result"
    }
   ],
   "source": [
    "X_total"
   ]
  },
  {
   "cell_type": "code",
   "execution_count": 1487,
   "metadata": {},
   "outputs": [],
   "source": [
    "#select the columns of HR data\n",
    "spec_columns2 = X_total.columns"
   ]
  },
  {
   "cell_type": "code",
   "execution_count": 1488,
   "metadata": {},
   "outputs": [],
   "source": [
    "# Apply Savitzky Golay Filter\n",
    "X_total = savgol_filter(X_total, window_length=5 , polyorder = 2)\n",
    "X_total = pd.DataFrame(X_total, columns= spec_columns2)"
   ]
  },
  {
   "cell_type": "code",
   "execution_count": 1489,
   "metadata": {},
   "outputs": [
    {
     "data": {
      "text/html": [
       "<div>\n",
       "<style scoped>\n",
       "    .dataframe tbody tr th:only-of-type {\n",
       "        vertical-align: middle;\n",
       "    }\n",
       "\n",
       "    .dataframe tbody tr th {\n",
       "        vertical-align: top;\n",
       "    }\n",
       "\n",
       "    .dataframe thead th {\n",
       "        text-align: right;\n",
       "    }\n",
       "</style>\n",
       "<table border=\"1\" class=\"dataframe\">\n",
       "  <thead>\n",
       "    <tr style=\"text-align: right;\">\n",
       "      <th></th>\n",
       "      <th>450</th>\n",
       "      <th>451</th>\n",
       "      <th>452</th>\n",
       "      <th>453</th>\n",
       "      <th>454</th>\n",
       "      <th>455</th>\n",
       "      <th>456</th>\n",
       "      <th>457</th>\n",
       "      <th>458</th>\n",
       "      <th>459</th>\n",
       "      <th>...</th>\n",
       "      <th>2491</th>\n",
       "      <th>2492</th>\n",
       "      <th>2493</th>\n",
       "      <th>2494</th>\n",
       "      <th>2495</th>\n",
       "      <th>2496</th>\n",
       "      <th>2497</th>\n",
       "      <th>2498</th>\n",
       "      <th>2499</th>\n",
       "      <th>2500</th>\n",
       "    </tr>\n",
       "  </thead>\n",
       "  <tbody>\n",
       "    <tr>\n",
       "      <th>0</th>\n",
       "      <td>0.061738</td>\n",
       "      <td>0.061981</td>\n",
       "      <td>0.062271</td>\n",
       "      <td>0.062595</td>\n",
       "      <td>0.062941</td>\n",
       "      <td>0.063083</td>\n",
       "      <td>0.063102</td>\n",
       "      <td>0.063312</td>\n",
       "      <td>0.063323</td>\n",
       "      <td>0.063109</td>\n",
       "      <td>...</td>\n",
       "      <td>0.075405</td>\n",
       "      <td>0.075057</td>\n",
       "      <td>0.074826</td>\n",
       "      <td>0.074664</td>\n",
       "      <td>0.074531</td>\n",
       "      <td>0.074294</td>\n",
       "      <td>0.073638</td>\n",
       "      <td>0.072823</td>\n",
       "      <td>0.072654</td>\n",
       "      <td>0.072914</td>\n",
       "    </tr>\n",
       "    <tr>\n",
       "      <th>1</th>\n",
       "      <td>0.089846</td>\n",
       "      <td>0.089648</td>\n",
       "      <td>0.089668</td>\n",
       "      <td>0.089825</td>\n",
       "      <td>0.090412</td>\n",
       "      <td>0.090904</td>\n",
       "      <td>0.091023</td>\n",
       "      <td>0.091099</td>\n",
       "      <td>0.091373</td>\n",
       "      <td>0.091713</td>\n",
       "      <td>...</td>\n",
       "      <td>0.076116</td>\n",
       "      <td>0.075635</td>\n",
       "      <td>0.075306</td>\n",
       "      <td>0.075159</td>\n",
       "      <td>0.075329</td>\n",
       "      <td>0.075560</td>\n",
       "      <td>0.075286</td>\n",
       "      <td>0.074560</td>\n",
       "      <td>0.073873</td>\n",
       "      <td>0.073128</td>\n",
       "    </tr>\n",
       "    <tr>\n",
       "      <th>2</th>\n",
       "      <td>0.050043</td>\n",
       "      <td>0.049975</td>\n",
       "      <td>0.049917</td>\n",
       "      <td>0.049756</td>\n",
       "      <td>0.049917</td>\n",
       "      <td>0.050429</td>\n",
       "      <td>0.050999</td>\n",
       "      <td>0.051161</td>\n",
       "      <td>0.051124</td>\n",
       "      <td>0.051182</td>\n",
       "      <td>...</td>\n",
       "      <td>0.045737</td>\n",
       "      <td>0.045338</td>\n",
       "      <td>0.044519</td>\n",
       "      <td>0.043733</td>\n",
       "      <td>0.043352</td>\n",
       "      <td>0.043283</td>\n",
       "      <td>0.043425</td>\n",
       "      <td>0.043716</td>\n",
       "      <td>0.043314</td>\n",
       "      <td>0.042473</td>\n",
       "    </tr>\n",
       "    <tr>\n",
       "      <th>3</th>\n",
       "      <td>0.048338</td>\n",
       "      <td>0.048098</td>\n",
       "      <td>0.048029</td>\n",
       "      <td>0.048090</td>\n",
       "      <td>0.048380</td>\n",
       "      <td>0.048701</td>\n",
       "      <td>0.048917</td>\n",
       "      <td>0.049027</td>\n",
       "      <td>0.049113</td>\n",
       "      <td>0.049329</td>\n",
       "      <td>...</td>\n",
       "      <td>0.044342</td>\n",
       "      <td>0.044367</td>\n",
       "      <td>0.044338</td>\n",
       "      <td>0.044218</td>\n",
       "      <td>0.044019</td>\n",
       "      <td>0.043672</td>\n",
       "      <td>0.043164</td>\n",
       "      <td>0.042791</td>\n",
       "      <td>0.042594</td>\n",
       "      <td>0.042555</td>\n",
       "    </tr>\n",
       "    <tr>\n",
       "      <th>4</th>\n",
       "      <td>0.067364</td>\n",
       "      <td>0.067646</td>\n",
       "      <td>0.067913</td>\n",
       "      <td>0.068341</td>\n",
       "      <td>0.068287</td>\n",
       "      <td>0.067986</td>\n",
       "      <td>0.067916</td>\n",
       "      <td>0.068392</td>\n",
       "      <td>0.068904</td>\n",
       "      <td>0.068971</td>\n",
       "      <td>...</td>\n",
       "      <td>0.063989</td>\n",
       "      <td>0.063677</td>\n",
       "      <td>0.063308</td>\n",
       "      <td>0.062967</td>\n",
       "      <td>0.062718</td>\n",
       "      <td>0.062661</td>\n",
       "      <td>0.062597</td>\n",
       "      <td>0.062458</td>\n",
       "      <td>0.062460</td>\n",
       "      <td>0.062551</td>\n",
       "    </tr>\n",
       "  </tbody>\n",
       "</table>\n",
       "<p>5 rows × 2051 columns</p>\n",
       "</div>"
      ],
      "text/plain": [
       "        450       451       452       453       454       455       456  \\\n",
       "0  0.061738  0.061981  0.062271  0.062595  0.062941  0.063083  0.063102   \n",
       "1  0.089846  0.089648  0.089668  0.089825  0.090412  0.090904  0.091023   \n",
       "2  0.050043  0.049975  0.049917  0.049756  0.049917  0.050429  0.050999   \n",
       "3  0.048338  0.048098  0.048029  0.048090  0.048380  0.048701  0.048917   \n",
       "4  0.067364  0.067646  0.067913  0.068341  0.068287  0.067986  0.067916   \n",
       "\n",
       "        457       458       459  ...      2491      2492      2493      2494  \\\n",
       "0  0.063312  0.063323  0.063109  ...  0.075405  0.075057  0.074826  0.074664   \n",
       "1  0.091099  0.091373  0.091713  ...  0.076116  0.075635  0.075306  0.075159   \n",
       "2  0.051161  0.051124  0.051182  ...  0.045737  0.045338  0.044519  0.043733   \n",
       "3  0.049027  0.049113  0.049329  ...  0.044342  0.044367  0.044338  0.044218   \n",
       "4  0.068392  0.068904  0.068971  ...  0.063989  0.063677  0.063308  0.062967   \n",
       "\n",
       "       2495      2496      2497      2498      2499      2500  \n",
       "0  0.074531  0.074294  0.073638  0.072823  0.072654  0.072914  \n",
       "1  0.075329  0.075560  0.075286  0.074560  0.073873  0.073128  \n",
       "2  0.043352  0.043283  0.043425  0.043716  0.043314  0.042473  \n",
       "3  0.044019  0.043672  0.043164  0.042791  0.042594  0.042555  \n",
       "4  0.062718  0.062661  0.062597  0.062458  0.062460  0.062551  \n",
       "\n",
       "[5 rows x 2051 columns]"
      ]
     },
     "execution_count": 1489,
     "metadata": {},
     "output_type": "execute_result"
    }
   ],
   "source": [
    "X_total.head()"
   ]
  },
  {
   "cell_type": "code",
   "execution_count": 1490,
   "metadata": {},
   "outputs": [],
   "source": [
    "column_filter = np.arange(0,2050,5)  ## creating an index for column filtering\n",
    "X_test= X_total.iloc[:, column_filter] # selecting the filtered columns "
   ]
  },
  {
   "cell_type": "code",
   "execution_count": 1491,
   "metadata": {},
   "outputs": [
    {
     "data": {
      "text/html": [
       "<div>\n",
       "<style scoped>\n",
       "    .dataframe tbody tr th:only-of-type {\n",
       "        vertical-align: middle;\n",
       "    }\n",
       "\n",
       "    .dataframe tbody tr th {\n",
       "        vertical-align: top;\n",
       "    }\n",
       "\n",
       "    .dataframe thead th {\n",
       "        text-align: right;\n",
       "    }\n",
       "</style>\n",
       "<table border=\"1\" class=\"dataframe\">\n",
       "  <thead>\n",
       "    <tr style=\"text-align: right;\">\n",
       "      <th></th>\n",
       "      <th>450</th>\n",
       "      <th>455</th>\n",
       "      <th>460</th>\n",
       "      <th>465</th>\n",
       "      <th>470</th>\n",
       "      <th>475</th>\n",
       "      <th>480</th>\n",
       "      <th>485</th>\n",
       "      <th>490</th>\n",
       "      <th>495</th>\n",
       "      <th>...</th>\n",
       "      <th>2450</th>\n",
       "      <th>2455</th>\n",
       "      <th>2460</th>\n",
       "      <th>2465</th>\n",
       "      <th>2470</th>\n",
       "      <th>2475</th>\n",
       "      <th>2480</th>\n",
       "      <th>2485</th>\n",
       "      <th>2490</th>\n",
       "      <th>2495</th>\n",
       "    </tr>\n",
       "  </thead>\n",
       "  <tbody>\n",
       "    <tr>\n",
       "      <th>0</th>\n",
       "      <td>0.061738</td>\n",
       "      <td>0.063083</td>\n",
       "      <td>0.063012</td>\n",
       "      <td>0.063357</td>\n",
       "      <td>0.063684</td>\n",
       "      <td>0.063290</td>\n",
       "      <td>0.063829</td>\n",
       "      <td>0.064111</td>\n",
       "      <td>0.064934</td>\n",
       "      <td>0.067343</td>\n",
       "      <td>...</td>\n",
       "      <td>0.097171</td>\n",
       "      <td>0.094205</td>\n",
       "      <td>0.090937</td>\n",
       "      <td>0.088024</td>\n",
       "      <td>0.085295</td>\n",
       "      <td>0.082146</td>\n",
       "      <td>0.080252</td>\n",
       "      <td>0.077787</td>\n",
       "      <td>0.075870</td>\n",
       "      <td>0.074531</td>\n",
       "    </tr>\n",
       "    <tr>\n",
       "      <th>1</th>\n",
       "      <td>0.089846</td>\n",
       "      <td>0.090904</td>\n",
       "      <td>0.091897</td>\n",
       "      <td>0.092943</td>\n",
       "      <td>0.093167</td>\n",
       "      <td>0.093406</td>\n",
       "      <td>0.094210</td>\n",
       "      <td>0.094596</td>\n",
       "      <td>0.096278</td>\n",
       "      <td>0.099248</td>\n",
       "      <td>...</td>\n",
       "      <td>0.096195</td>\n",
       "      <td>0.093173</td>\n",
       "      <td>0.090227</td>\n",
       "      <td>0.087299</td>\n",
       "      <td>0.085126</td>\n",
       "      <td>0.082610</td>\n",
       "      <td>0.080677</td>\n",
       "      <td>0.078310</td>\n",
       "      <td>0.076613</td>\n",
       "      <td>0.075329</td>\n",
       "    </tr>\n",
       "    <tr>\n",
       "      <th>2</th>\n",
       "      <td>0.050043</td>\n",
       "      <td>0.050429</td>\n",
       "      <td>0.051305</td>\n",
       "      <td>0.051175</td>\n",
       "      <td>0.051277</td>\n",
       "      <td>0.051382</td>\n",
       "      <td>0.051536</td>\n",
       "      <td>0.052207</td>\n",
       "      <td>0.053331</td>\n",
       "      <td>0.055616</td>\n",
       "      <td>...</td>\n",
       "      <td>0.059206</td>\n",
       "      <td>0.057201</td>\n",
       "      <td>0.054867</td>\n",
       "      <td>0.053536</td>\n",
       "      <td>0.050994</td>\n",
       "      <td>0.049368</td>\n",
       "      <td>0.048041</td>\n",
       "      <td>0.046758</td>\n",
       "      <td>0.045892</td>\n",
       "      <td>0.043352</td>\n",
       "    </tr>\n",
       "    <tr>\n",
       "      <th>3</th>\n",
       "      <td>0.048338</td>\n",
       "      <td>0.048701</td>\n",
       "      <td>0.049630</td>\n",
       "      <td>0.049684</td>\n",
       "      <td>0.049994</td>\n",
       "      <td>0.050204</td>\n",
       "      <td>0.050840</td>\n",
       "      <td>0.050938</td>\n",
       "      <td>0.052060</td>\n",
       "      <td>0.054172</td>\n",
       "      <td>...</td>\n",
       "      <td>0.057380</td>\n",
       "      <td>0.055029</td>\n",
       "      <td>0.053392</td>\n",
       "      <td>0.051340</td>\n",
       "      <td>0.049630</td>\n",
       "      <td>0.048091</td>\n",
       "      <td>0.047142</td>\n",
       "      <td>0.045487</td>\n",
       "      <td>0.044513</td>\n",
       "      <td>0.044019</td>\n",
       "    </tr>\n",
       "    <tr>\n",
       "      <th>4</th>\n",
       "      <td>0.067364</td>\n",
       "      <td>0.067986</td>\n",
       "      <td>0.068650</td>\n",
       "      <td>0.068502</td>\n",
       "      <td>0.067863</td>\n",
       "      <td>0.068122</td>\n",
       "      <td>0.068082</td>\n",
       "      <td>0.068976</td>\n",
       "      <td>0.069121</td>\n",
       "      <td>0.071502</td>\n",
       "      <td>...</td>\n",
       "      <td>0.079346</td>\n",
       "      <td>0.076996</td>\n",
       "      <td>0.074450</td>\n",
       "      <td>0.072395</td>\n",
       "      <td>0.070207</td>\n",
       "      <td>0.068078</td>\n",
       "      <td>0.066622</td>\n",
       "      <td>0.065399</td>\n",
       "      <td>0.063965</td>\n",
       "      <td>0.062718</td>\n",
       "    </tr>\n",
       "  </tbody>\n",
       "</table>\n",
       "<p>5 rows × 410 columns</p>\n",
       "</div>"
      ],
      "text/plain": [
       "        450       455       460       465       470       475       480  \\\n",
       "0  0.061738  0.063083  0.063012  0.063357  0.063684  0.063290  0.063829   \n",
       "1  0.089846  0.090904  0.091897  0.092943  0.093167  0.093406  0.094210   \n",
       "2  0.050043  0.050429  0.051305  0.051175  0.051277  0.051382  0.051536   \n",
       "3  0.048338  0.048701  0.049630  0.049684  0.049994  0.050204  0.050840   \n",
       "4  0.067364  0.067986  0.068650  0.068502  0.067863  0.068122  0.068082   \n",
       "\n",
       "        485       490       495  ...      2450      2455      2460      2465  \\\n",
       "0  0.064111  0.064934  0.067343  ...  0.097171  0.094205  0.090937  0.088024   \n",
       "1  0.094596  0.096278  0.099248  ...  0.096195  0.093173  0.090227  0.087299   \n",
       "2  0.052207  0.053331  0.055616  ...  0.059206  0.057201  0.054867  0.053536   \n",
       "3  0.050938  0.052060  0.054172  ...  0.057380  0.055029  0.053392  0.051340   \n",
       "4  0.068976  0.069121  0.071502  ...  0.079346  0.076996  0.074450  0.072395   \n",
       "\n",
       "       2470      2475      2480      2485      2490      2495  \n",
       "0  0.085295  0.082146  0.080252  0.077787  0.075870  0.074531  \n",
       "1  0.085126  0.082610  0.080677  0.078310  0.076613  0.075329  \n",
       "2  0.050994  0.049368  0.048041  0.046758  0.045892  0.043352  \n",
       "3  0.049630  0.048091  0.047142  0.045487  0.044513  0.044019  \n",
       "4  0.070207  0.068078  0.066622  0.065399  0.063965  0.062718  \n",
       "\n",
       "[5 rows x 410 columns]"
      ]
     },
     "execution_count": 1491,
     "metadata": {},
     "output_type": "execute_result"
    }
   ],
   "source": [
    "X_test.head()"
   ]
  },
  {
   "cell_type": "code",
   "execution_count": 1492,
   "metadata": {},
   "outputs": [],
   "source": [
    "#define the cv\n",
    "#cv = RepeatedKFold(n_splits=10)\n",
    "#mse = []"
   ]
  },
  {
   "cell_type": "code",
   "execution_count": 1493,
   "metadata": {},
   "outputs": [],
   "source": [
    "#Calculate MSE using cross-validation, adding one component at a time\n",
    "#for i in np.arange(1, 40):\n",
    " #   pls = PLSRegression(n_components=i)\n",
    "  #  score = -1*model_selection.cross_val_score(pls, X, y, cv=cv,\n",
    "   #            scoring='neg_mean_squared_error').mean()\n",
    "    #mse.append(np.sqrt(score))"
   ]
  },
  {
   "cell_type": "code",
   "execution_count": 1494,
   "metadata": {},
   "outputs": [],
   "source": [
    "#n_comp = mse.index(min(mse)) +1 "
   ]
  },
  {
   "cell_type": "code",
   "execution_count": 1495,
   "metadata": {},
   "outputs": [],
   "source": [
    "rsqu = [] \n",
    "for i in np.arange(1, 50):\n",
    "    pls = PLSRegression(n_components= i)\n",
    "    pls.fit(X, y)\n",
    "    y_pred = pls.predict(X_test)\n",
    "    r , p = spearmanr(y_test , y_pred)\n",
    "    rsqu.append(r**2)\n",
    "    n_comb = rsqu.index(max(rsqu)) +1"
   ]
  },
  {
   "cell_type": "code",
   "execution_count": 1496,
   "metadata": {},
   "outputs": [
    {
     "data": {
      "text/plain": [
       "PLSRegression()"
      ]
     },
     "execution_count": 1496,
     "metadata": {},
     "output_type": "execute_result"
    }
   ],
   "source": [
    "# Train the model\n",
    "pls = PLSRegression(n_components=n_comb)\n",
    "pls.fit(X, y)"
   ]
  },
  {
   "cell_type": "code",
   "execution_count": 1497,
   "metadata": {},
   "outputs": [
    {
     "data": {
      "text/plain": [
       "38.10295707542358"
      ]
     },
     "execution_count": 1497,
     "metadata": {},
     "output_type": "execute_result"
    }
   ],
   "source": [
    "np.sqrt(mean_squared_error(y_test, pls.predict(X_test)))"
   ]
  },
  {
   "cell_type": "code",
   "execution_count": 1498,
   "metadata": {},
   "outputs": [],
   "source": [
    "y_pred = pls.predict(X_test)"
   ]
  },
  {
   "cell_type": "code",
   "execution_count": 1499,
   "metadata": {},
   "outputs": [
    {
     "data": {
      "text/plain": [
       "<AxesSubplot:xlabel='B', ylabel='Predicted B values'>"
      ]
     },
     "execution_count": 1499,
     "metadata": {},
     "output_type": "execute_result"
    },
    {
     "data": {
      "image/png": "[encoded data removed]",
      "text/plain": [
       "<Figure size 432x288 with 1 Axes>"
      ]
     },
     "metadata": {},
     "output_type": "display_data"
    }
   ],
   "source": [
    "plt.scatter(y_test, y_pred)\n",
    "plt.ylabel('Predicted' + ' ' + trait +  ' ' 'values')\n",
    "plt.xlabel('Ground truth LWC measurements')\n",
    "sns.regplot(x = y_test , y = y_pred)\n"
   ]
  },
  {
   "cell_type": "code",
   "execution_count": 1500,
   "metadata": {},
   "outputs": [
    {
     "name": "stdout",
     "output_type": "stream",
     "text": [
      "0.06865033753309431 0.004861573397969029\n"
     ]
    }
   ],
   "source": [
    "from scipy.stats import pearsonr, spearmanr\n",
    "y_pred2 = [x[0] for x in y_pred]\n",
    "\n",
    "r, p = spearmanr(y_test, y_pred2)\n",
    "r2 = r**2\n",
    "print(r2, p)"
   ]
  },
  {
   "cell_type": "code",
   "execution_count": 1501,
   "metadata": {},
   "outputs": [
    {
     "data": {
      "text/plain": [
       "[0.037195674196693805,\n",
       " 0.06865033753309431,\n",
       " 0.005770354723740151,\n",
       " 0.03481807841973343,\n",
       " 0.037999864764385057,\n",
       " 0.0288772962362275,\n",
       " 0.02534334734143864,\n",
       " 0.021612740424395198,\n",
       " 0.024159491295944604,\n",
       " 0.008120623333023947,\n",
       " 0.007381278834172911,\n",
       " 0.0019990692612887866,\n",
       " 0.0027647227371094163,\n",
       " 0.0024859047286554135,\n",
       " 0.00283803674964018,\n",
       " 0.002760890680489969,\n",
       " 0.0035338081096269007,\n",
       " 0.00027054178652852873,\n",
       " 0.0023792372315520538,\n",
       " 0.006678540478805312,\n",
       " 0.0059608103574203975,\n",
       " 0.005106960194327272,\n",
       " 0.0028618211904458003,\n",
       " 0.0035338081096269007,\n",
       " 0.005879783919800127,\n",
       " 0.0019372590960174136,\n",
       " 9.575517062816354e-05,\n",
       " 0.0005199782335279698,\n",
       " 1.1301199962059962e-07,\n",
       " 0.00013166232611742986,\n",
       " 9.854962977686016e-05,\n",
       " 3.279949774908236e-05,\n",
       " 1.0031869655390847e-05,\n",
       " 0.0002940831096342839,\n",
       " 3.4776920660138696e-05,\n",
       " 0.006085917167324679,\n",
       " 0.029685401507432388,\n",
       " 0.023108501813012796,\n",
       " 0.02230897111606858,\n",
       " 0.022606384364026424,\n",
       " 0.02236102768466315,\n",
       " 0.020116436532246235,\n",
       " 0.008338873389539033,\n",
       " 0.0009356045758179375,\n",
       " 0.0006154326895437011,\n",
       " 0.0005109664903345338,\n",
       " 0.00015897418820602676,\n",
       " 0.000184101780482244,\n",
       " 0.0004625486489334283]"
      ]
     },
     "execution_count": 1501,
     "metadata": {},
     "output_type": "execute_result"
    }
   ],
   "source": [
    "rsqu"
   ]
  }
 ],
 "metadata": {
  "kernelspec": {
   "display_name": "Python 3",
   "language": "python",
   "name": "python3"
  },
  "language_info": {
   "codemirror_mode": {
    "name": "ipython",
    "version": 3
   },
   "file_extension": ".py",
   "mimetype": "text/x-python",
   "name": "python",
   "nbconvert_exporter": "python",
   "pygments_lexer": "ipython3",
   "version": "3.6.9"
  }
 },
 "nbformat": 4,
 "nbformat_minor": 5
}
