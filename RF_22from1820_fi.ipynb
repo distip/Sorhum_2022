{
 "cells": [
  {
   "cell_type": "code",
   "execution_count": 3,
   "metadata": {},
   "outputs": [],
   "source": [
    "import pandas as pd\n",
    "import numpy as np\n",
    "import matplotlib.pyplot as plt\n",
    "import seaborn as sns\n",
    "from sklearn.preprocessing import scale \n",
    "from sklearn.preprocessing import StandardScaler\n",
    "from sklearn import model_selection\n",
    "from sklearn.model_selection import RepeatedKFold\n",
    "from sklearn.model_selection import train_test_split\n",
    "from sklearn.cross_decomposition import PLSRegression\n",
    "from sklearn.metrics import mean_squared_error\n",
    "from sklearn.metrics import r2_score\n",
    "from scipy.signal import savgol_filter\n",
    "from sklearn.ensemble import RandomForestRegressor\n",
    "from sklearn.model_selection import RandomizedSearchCV"
   ]
  },
  {
   "cell_type": "code",
   "execution_count": null,
   "metadata": {},
   "outputs": [],
   "source": []
  },
  {
   "cell_type": "code",
   "execution_count": 4,
   "metadata": {
    "scrolled": true
   },
   "outputs": [
    {
     "name": "stderr",
     "output_type": "stream",
     "text": [
      "/usr/lib/python3/dist-packages/IPython/core/interactiveshell.py:2718: DtypeWarning: Columns (1) have mixed types.Specify dtype option on import or set low_memory=False.\n",
      "  interactivity=interactivity, compiler=compiler, result=result)\n"
     ]
    }
   ],
   "source": [
    "data = pd.read_csv('Sorghum_Hyperspectral_Data_1820.csv')"
   ]
  },
  {
   "cell_type": "code",
   "execution_count": 5,
   "metadata": {},
   "outputs": [
    {
     "data": {
      "text/html": [
       "<div>\n",
       "<style scoped>\n",
       "    .dataframe tbody tr th:only-of-type {\n",
       "        vertical-align: middle;\n",
       "    }\n",
       "\n",
       "    .dataframe tbody tr th {\n",
       "        vertical-align: top;\n",
       "    }\n",
       "\n",
       "    .dataframe thead th {\n",
       "        text-align: right;\n",
       "    }\n",
       "</style>\n",
       "<table border=\"1\" class=\"dataframe\">\n",
       "  <thead>\n",
       "    <tr style=\"text-align: right;\">\n",
       "      <th></th>\n",
       "      <th>crop</th>\n",
       "      <th>PlotID</th>\n",
       "      <th>year</th>\n",
       "      <th>trt</th>\n",
       "      <th>pheno</th>\n",
       "      <th>CHL</th>\n",
       "      <th>EWT</th>\n",
       "      <th>LWC</th>\n",
       "      <th>SLA</th>\n",
       "      <th>N</th>\n",
       "      <th>...</th>\n",
       "      <th>X2491</th>\n",
       "      <th>X2492</th>\n",
       "      <th>X2493</th>\n",
       "      <th>X2494</th>\n",
       "      <th>X2495</th>\n",
       "      <th>X2496</th>\n",
       "      <th>X2497</th>\n",
       "      <th>X2498</th>\n",
       "      <th>X2499</th>\n",
       "      <th>X2500</th>\n",
       "    </tr>\n",
       "  </thead>\n",
       "  <tbody>\n",
       "    <tr>\n",
       "      <th>0</th>\n",
       "      <td>sorghum</td>\n",
       "      <td>281</td>\n",
       "      <td>2018</td>\n",
       "      <td>greenhouse</td>\n",
       "      <td>yes</td>\n",
       "      <td>446.944</td>\n",
       "      <td>0.021140</td>\n",
       "      <td>0.801818</td>\n",
       "      <td>191.380472</td>\n",
       "      <td>2.84</td>\n",
       "      <td>...</td>\n",
       "      <td>0.057221</td>\n",
       "      <td>0.057268</td>\n",
       "      <td>0.057137</td>\n",
       "      <td>0.056709</td>\n",
       "      <td>0.056457</td>\n",
       "      <td>0.056115</td>\n",
       "      <td>0.055923</td>\n",
       "      <td>0.055987</td>\n",
       "      <td>0.055888</td>\n",
       "      <td>0.055737</td>\n",
       "    </tr>\n",
       "    <tr>\n",
       "      <th>1</th>\n",
       "      <td>sorghum</td>\n",
       "      <td>282</td>\n",
       "      <td>2018</td>\n",
       "      <td>greenhouse</td>\n",
       "      <td>yes</td>\n",
       "      <td>713.800</td>\n",
       "      <td>0.013651</td>\n",
       "      <td>0.718788</td>\n",
       "      <td>187.244828</td>\n",
       "      <td>3.44</td>\n",
       "      <td>...</td>\n",
       "      <td>0.065625</td>\n",
       "      <td>0.065636</td>\n",
       "      <td>0.065593</td>\n",
       "      <td>0.065518</td>\n",
       "      <td>0.065329</td>\n",
       "      <td>0.065109</td>\n",
       "      <td>0.064884</td>\n",
       "      <td>0.064390</td>\n",
       "      <td>0.064180</td>\n",
       "      <td>0.064182</td>\n",
       "    </tr>\n",
       "    <tr>\n",
       "      <th>2</th>\n",
       "      <td>sorghum</td>\n",
       "      <td>283</td>\n",
       "      <td>2018</td>\n",
       "      <td>greenhouse</td>\n",
       "      <td>yes</td>\n",
       "      <td>724.911</td>\n",
       "      <td>0.013870</td>\n",
       "      <td>0.715429</td>\n",
       "      <td>181.260442</td>\n",
       "      <td>3.52</td>\n",
       "      <td>...</td>\n",
       "      <td>0.061687</td>\n",
       "      <td>0.061462</td>\n",
       "      <td>0.061244</td>\n",
       "      <td>0.061186</td>\n",
       "      <td>0.060975</td>\n",
       "      <td>0.060398</td>\n",
       "      <td>0.060287</td>\n",
       "      <td>0.060618</td>\n",
       "      <td>0.060535</td>\n",
       "      <td>0.060500</td>\n",
       "    </tr>\n",
       "    <tr>\n",
       "      <th>3</th>\n",
       "      <td>sorghum</td>\n",
       "      <td>284</td>\n",
       "      <td>2018</td>\n",
       "      <td>greenhouse</td>\n",
       "      <td>yes</td>\n",
       "      <td>738.400</td>\n",
       "      <td>0.016723</td>\n",
       "      <td>0.753034</td>\n",
       "      <td>182.327753</td>\n",
       "      <td>4.13</td>\n",
       "      <td>...</td>\n",
       "      <td>0.055341</td>\n",
       "      <td>0.055124</td>\n",
       "      <td>0.054997</td>\n",
       "      <td>0.055162</td>\n",
       "      <td>0.055078</td>\n",
       "      <td>0.054760</td>\n",
       "      <td>0.054617</td>\n",
       "      <td>0.054473</td>\n",
       "      <td>0.054353</td>\n",
       "      <td>0.054351</td>\n",
       "    </tr>\n",
       "    <tr>\n",
       "      <th>4</th>\n",
       "      <td>sorghum</td>\n",
       "      <td>285</td>\n",
       "      <td>2018</td>\n",
       "      <td>greenhouse</td>\n",
       "      <td>yes</td>\n",
       "      <td>700.344</td>\n",
       "      <td>0.023406</td>\n",
       "      <td>0.798125</td>\n",
       "      <td>168.909288</td>\n",
       "      <td>3.85</td>\n",
       "      <td>...</td>\n",
       "      <td>0.056971</td>\n",
       "      <td>0.057206</td>\n",
       "      <td>0.057154</td>\n",
       "      <td>0.056835</td>\n",
       "      <td>0.056743</td>\n",
       "      <td>0.056700</td>\n",
       "      <td>0.056552</td>\n",
       "      <td>0.056538</td>\n",
       "      <td>0.056412</td>\n",
       "      <td>0.056039</td>\n",
       "    </tr>\n",
       "  </tbody>\n",
       "</table>\n",
       "<p>5 rows × 2171 columns</p>\n",
       "</div>"
      ],
      "text/plain": [
       "      crop PlotID  year         trt pheno      CHL       EWT       LWC  \\\n",
       "0  sorghum    281  2018  greenhouse   yes  446.944  0.021140  0.801818   \n",
       "1  sorghum    282  2018  greenhouse   yes  713.800  0.013651  0.718788   \n",
       "2  sorghum    283  2018  greenhouse   yes  724.911  0.013870  0.715429   \n",
       "3  sorghum    284  2018  greenhouse   yes  738.400  0.016723  0.753034   \n",
       "4  sorghum    285  2018  greenhouse   yes  700.344  0.023406  0.798125   \n",
       "\n",
       "          SLA     N  ...     X2491     X2492     X2493     X2494     X2495  \\\n",
       "0  191.380472  2.84  ...  0.057221  0.057268  0.057137  0.056709  0.056457   \n",
       "1  187.244828  3.44  ...  0.065625  0.065636  0.065593  0.065518  0.065329   \n",
       "2  181.260442  3.52  ...  0.061687  0.061462  0.061244  0.061186  0.060975   \n",
       "3  182.327753  4.13  ...  0.055341  0.055124  0.054997  0.055162  0.055078   \n",
       "4  168.909288  3.85  ...  0.056971  0.057206  0.057154  0.056835  0.056743   \n",
       "\n",
       "      X2496     X2497     X2498     X2499     X2500  \n",
       "0  0.056115  0.055923  0.055987  0.055888  0.055737  \n",
       "1  0.065109  0.064884  0.064390  0.064180  0.064182  \n",
       "2  0.060398  0.060287  0.060618  0.060535  0.060500  \n",
       "3  0.054760  0.054617  0.054473  0.054353  0.054351  \n",
       "4  0.056700  0.056552  0.056538  0.056412  0.056039  \n",
       "\n",
       "[5 rows x 2171 columns]"
      ]
     },
     "execution_count": 5,
     "metadata": {},
     "output_type": "execute_result"
    }
   ],
   "source": [
    "data.head()"
   ]
  },
  {
   "cell_type": "code",
   "execution_count": 6,
   "metadata": {},
   "outputs": [
    {
     "data": {
      "text/plain": [
       "2020    1470\n",
       "2018     321\n",
       "Name: year, dtype: int64"
      ]
     },
     "execution_count": 6,
     "metadata": {},
     "output_type": "execute_result"
    }
   ],
   "source": [
    "data.year.value_counts(dropna= False)"
   ]
  },
  {
   "cell_type": "code",
   "execution_count": 7,
   "metadata": {},
   "outputs": [
    {
     "data": {
      "text/plain": [
       "(1791, 2171)"
      ]
     },
     "execution_count": 7,
     "metadata": {},
     "output_type": "execute_result"
    }
   ],
   "source": [
    "data.shape"
   ]
  },
  {
   "cell_type": "code",
   "execution_count": 8,
   "metadata": {},
   "outputs": [
    {
     "data": {
      "text/plain": [
       "Index(['PlotID', 'year', 'trt', 'pheno', 'CHL', 'EWT', 'LWC', 'SLA', 'N', 'P',\n",
       "       'K', 'Mg', 'Ca', 'S', 'Fe', 'Mn', 'B', 'Cu', 'Zn', 'X350', 'X351',\n",
       "       'X352', 'X353', 'X354', 'X355', 'X356', 'X357', 'X358', 'X359', 'X360',\n",
       "       'X361', 'X362', 'X363', 'X364', 'X365', 'X366', 'X367', 'X368', 'X369',\n",
       "       'X370', 'X371', 'X372', 'X373', 'X374', 'X375', 'X376', 'X377', 'X378',\n",
       "       'X379'],\n",
       "      dtype='object')"
      ]
     },
     "execution_count": 8,
     "metadata": {},
     "output_type": "execute_result"
    }
   ],
   "source": [
    "data.columns[1:50]"
   ]
  },
  {
   "cell_type": "code",
   "execution_count": 9,
   "metadata": {},
   "outputs": [
    {
     "data": {
      "text/plain": [
       "greenhouse    321\n",
       "Name: trt, dtype: int64"
      ]
     },
     "execution_count": 9,
     "metadata": {},
     "output_type": "execute_result"
    }
   ],
   "source": [
    "data.loc[data.year == 2018 , 'trt'].value_counts(dropna = False)"
   ]
  },
  {
   "cell_type": "code",
   "execution_count": 10,
   "metadata": {},
   "outputs": [],
   "source": [
    "#define the trait for analysis\n",
    "trait = 'SLA'\n"
   ]
  },
  {
   "cell_type": "code",
   "execution_count": 11,
   "metadata": {},
   "outputs": [
    {
     "data": {
      "text/plain": [
       "(587, 2171)"
      ]
     },
     "execution_count": 11,
     "metadata": {},
     "output_type": "execute_result"
    }
   ],
   "source": [
    "#Drop NAs \n",
    "data = data.loc[data[trait].notnull(), :]\n",
    "#data1 = data[data.SLA.notnull()]\n",
    "data.shape"
   ]
  },
  {
   "cell_type": "code",
   "execution_count": 12,
   "metadata": {},
   "outputs": [
    {
     "data": {
      "text/plain": [
       "<AxesSubplot:xlabel='year', ylabel='SLA'>"
      ]
     },
     "execution_count": 12,
     "metadata": {},
     "output_type": "execute_result"
    },
    {
     "data": {
      "image/png": "[encoded data removed]",
      "text/plain": [
       "<Figure size 432x288 with 1 Axes>"
      ]
     },
     "metadata": {},
     "output_type": "display_data"
    }
   ],
   "source": [
    "sns.boxplot(y= trait, x='year', data=data)"
   ]
  },
  {
   "cell_type": "code",
   "execution_count": 13,
   "metadata": {},
   "outputs": [],
   "source": [
    "#defining a function to remove the outliers\n",
    "def outlier_treatment(datacolumn):\n",
    " sorted(datacolumn)\n",
    " Q1=datacolumn.quantile(0.25)\n",
    " Q3=datacolumn.quantile(0.75)\n",
    " #Q1,Q3 = np.percentile(datacolumn , [25,75])\n",
    " IQR = Q3 - Q1\n",
    " lower_range = Q1 - (1.5 * IQR)\n",
    " upper_range = Q3 + (1.5 * IQR)\n",
    " return lower_range,upper_range"
   ]
  },
  {
   "cell_type": "code",
   "execution_count": 14,
   "metadata": {},
   "outputs": [
    {
     "data": {
      "text/plain": [
       "(-67.16692164689113, 329.2306520302035)"
      ]
     },
     "execution_count": 14,
     "metadata": {},
     "output_type": "execute_result"
    }
   ],
   "source": [
    "outlier_treatment(data[trait])\n"
   ]
  },
  {
   "cell_type": "code",
   "execution_count": 15,
   "metadata": {},
   "outputs": [],
   "source": [
    "lowerbound,upperbound = outlier_treatment(data[trait])"
   ]
  },
  {
   "cell_type": "code",
   "execution_count": 16,
   "metadata": {},
   "outputs": [
    {
     "data": {
      "text/plain": [
       "Int64Index([], dtype='int64')"
      ]
     },
     "execution_count": 16,
     "metadata": {},
     "output_type": "execute_result"
    }
   ],
   "source": [
    "rm_index =data[(data[trait] < lowerbound) | (data[trait] > upperbound)].index\n",
    "rm_index"
   ]
  },
  {
   "cell_type": "code",
   "execution_count": 17,
   "metadata": {},
   "outputs": [],
   "source": [
    "data.drop(rm_index, axis=0 ,inplace=True)"
   ]
  },
  {
   "cell_type": "code",
   "execution_count": 18,
   "metadata": {},
   "outputs": [],
   "source": [
    "# choose the years for grouping in the plots\n",
    "year = data.loc[: , 'year']"
   ]
  },
  {
   "cell_type": "code",
   "execution_count": 19,
   "metadata": {},
   "outputs": [
    {
     "data": {
      "text/plain": [
       "(587, 2171)"
      ]
     },
     "execution_count": 19,
     "metadata": {},
     "output_type": "execute_result"
    }
   ],
   "source": [
    "data.shape\n"
   ]
  },
  {
   "cell_type": "code",
   "execution_count": 20,
   "metadata": {},
   "outputs": [],
   "source": [
    "# define trait data\n",
    "y = data.loc[: , trait]\n"
   ]
  },
  {
   "cell_type": "code",
   "execution_count": 21,
   "metadata": {},
   "outputs": [],
   "source": [
    "#select the columns of HR data\n",
    "spec_columns = [col for col in data if col.startswith('X')]\n"
   ]
  },
  {
   "cell_type": "code",
   "execution_count": 22,
   "metadata": {},
   "outputs": [],
   "source": [
    "# Define the X by choosing only the predictors\n",
    "X = data[spec_columns]\n"
   ]
  },
  {
   "cell_type": "code",
   "execution_count": 23,
   "metadata": {},
   "outputs": [],
   "source": [
    "# Apply Savitzky Golay Filter\n",
    "X = savgol_filter(X, window_length=5 , polyorder = 2)\n",
    "X = pd.DataFrame(X, columns= spec_columns)"
   ]
  },
  {
   "cell_type": "code",
   "execution_count": 24,
   "metadata": {},
   "outputs": [],
   "source": [
    "# Remove first 100 wawelengths\n",
    "X = X.drop(X.columns[0:100], axis=1)"
   ]
  },
  {
   "cell_type": "code",
   "execution_count": 25,
   "metadata": {},
   "outputs": [],
   "source": [
    "# Create a np array for downsampling for every 5 nm\n",
    "column_filter = np.arange(0, 2050, 5)"
   ]
  },
  {
   "cell_type": "code",
   "execution_count": 26,
   "metadata": {},
   "outputs": [],
   "source": [
    "# Choose from the X based on filtering array\n",
    "X = X.iloc[: , column_filter]"
   ]
  },
  {
   "cell_type": "code",
   "execution_count": 27,
   "metadata": {},
   "outputs": [],
   "source": [
    "# split the dataset into training (60%) and testing (40%) sets\n",
    "X_train,X_test,y_train,y_test = train_test_split(X, y ,test_size=0.4) "
   ]
  },
  {
   "cell_type": "code",
   "execution_count": 28,
   "metadata": {},
   "outputs": [],
   "source": [
    "regressor = RandomForestRegressor(2000) #, min_samples_split=5 , min_samples_leaf= 1 , max_features= 'auto' , max_depth =90 , bootstrap = True)\n",
    "predict = regressor.fit(X_train, y_train)\n",
    "y_pred = regressor.predict(X_test)"
   ]
  },
  {
   "cell_type": "code",
   "execution_count": 29,
   "metadata": {},
   "outputs": [],
   "source": [
    "y_pred = regressor.predict(X_test)"
   ]
  },
  {
   "cell_type": "code",
   "execution_count": 30,
   "metadata": {},
   "outputs": [],
   "source": [
    "y_pred = pd.DataFrame(y_pred)"
   ]
  },
  {
   "cell_type": "code",
   "execution_count": 31,
   "metadata": {},
   "outputs": [],
   "source": [
    "# Combine the 'year' and y_test for plotting and reset the index for combining with y_pred\n",
    "y_test =pd.merge(y_test, year , left_index=True , right_index=True,  how='left').reset_index(drop=True)"
   ]
  },
  {
   "cell_type": "code",
   "execution_count": 32,
   "metadata": {},
   "outputs": [
    {
     "data": {
      "text/html": [
       "<div>\n",
       "<style scoped>\n",
       "    .dataframe tbody tr th:only-of-type {\n",
       "        vertical-align: middle;\n",
       "    }\n",
       "\n",
       "    .dataframe tbody tr th {\n",
       "        vertical-align: top;\n",
       "    }\n",
       "\n",
       "    .dataframe thead th {\n",
       "        text-align: right;\n",
       "    }\n",
       "</style>\n",
       "<table border=\"1\" class=\"dataframe\">\n",
       "  <thead>\n",
       "    <tr style=\"text-align: right;\">\n",
       "      <th></th>\n",
       "      <th>SLA</th>\n",
       "      <th>year</th>\n",
       "    </tr>\n",
       "  </thead>\n",
       "  <tbody>\n",
       "    <tr>\n",
       "      <th>0</th>\n",
       "      <td>80.536889</td>\n",
       "      <td>2020</td>\n",
       "    </tr>\n",
       "    <tr>\n",
       "      <th>1</th>\n",
       "      <td>108.749320</td>\n",
       "      <td>2020</td>\n",
       "    </tr>\n",
       "    <tr>\n",
       "      <th>2</th>\n",
       "      <td>211.184372</td>\n",
       "      <td>2018</td>\n",
       "    </tr>\n",
       "    <tr>\n",
       "      <th>3</th>\n",
       "      <td>190.145516</td>\n",
       "      <td>2018</td>\n",
       "    </tr>\n",
       "    <tr>\n",
       "      <th>4</th>\n",
       "      <td>196.216641</td>\n",
       "      <td>2018</td>\n",
       "    </tr>\n",
       "  </tbody>\n",
       "</table>\n",
       "</div>"
      ],
      "text/plain": [
       "          SLA  year\n",
       "0   80.536889  2020\n",
       "1  108.749320  2020\n",
       "2  211.184372  2018\n",
       "3  190.145516  2018\n",
       "4  196.216641  2018"
      ]
     },
     "execution_count": 32,
     "metadata": {},
     "output_type": "execute_result"
    }
   ],
   "source": [
    "y_test.head()"
   ]
  },
  {
   "cell_type": "code",
   "execution_count": 33,
   "metadata": {},
   "outputs": [
    {
     "data": {
      "text/plain": [
       "pandas.core.frame.DataFrame"
      ]
     },
     "execution_count": 33,
     "metadata": {},
     "output_type": "execute_result"
    }
   ],
   "source": [
    "type(y_pred)"
   ]
  },
  {
   "cell_type": "code",
   "execution_count": 34,
   "metadata": {},
   "outputs": [],
   "source": [
    "#Combine y_test and y_pred and get one data frame for seaborn scatter plot\n",
    "data_plot = pd.concat([y_test, y_pred], axis = 1)"
   ]
  },
  {
   "cell_type": "code",
   "execution_count": 35,
   "metadata": {},
   "outputs": [],
   "source": [
    "data_plot =data_plot.rename({0 : 'predicted'} ,axis =1)"
   ]
  },
  {
   "cell_type": "code",
   "execution_count": 36,
   "metadata": {},
   "outputs": [
    {
     "data": {
      "text/html": [
       "<div>\n",
       "<style scoped>\n",
       "    .dataframe tbody tr th:only-of-type {\n",
       "        vertical-align: middle;\n",
       "    }\n",
       "\n",
       "    .dataframe tbody tr th {\n",
       "        vertical-align: top;\n",
       "    }\n",
       "\n",
       "    .dataframe thead th {\n",
       "        text-align: right;\n",
       "    }\n",
       "</style>\n",
       "<table border=\"1\" class=\"dataframe\">\n",
       "  <thead>\n",
       "    <tr style=\"text-align: right;\">\n",
       "      <th></th>\n",
       "      <th>SLA</th>\n",
       "      <th>year</th>\n",
       "      <th>predicted</th>\n",
       "    </tr>\n",
       "  </thead>\n",
       "  <tbody>\n",
       "    <tr>\n",
       "      <th>0</th>\n",
       "      <td>80.536889</td>\n",
       "      <td>2020</td>\n",
       "      <td>76.547228</td>\n",
       "    </tr>\n",
       "    <tr>\n",
       "      <th>1</th>\n",
       "      <td>108.749320</td>\n",
       "      <td>2020</td>\n",
       "      <td>93.979315</td>\n",
       "    </tr>\n",
       "    <tr>\n",
       "      <th>2</th>\n",
       "      <td>211.184372</td>\n",
       "      <td>2018</td>\n",
       "      <td>178.494466</td>\n",
       "    </tr>\n",
       "    <tr>\n",
       "      <th>3</th>\n",
       "      <td>190.145516</td>\n",
       "      <td>2018</td>\n",
       "      <td>152.379378</td>\n",
       "    </tr>\n",
       "    <tr>\n",
       "      <th>4</th>\n",
       "      <td>196.216641</td>\n",
       "      <td>2018</td>\n",
       "      <td>174.167810</td>\n",
       "    </tr>\n",
       "  </tbody>\n",
       "</table>\n",
       "</div>"
      ],
      "text/plain": [
       "          SLA  year   predicted\n",
       "0   80.536889  2020   76.547228\n",
       "1  108.749320  2020   93.979315\n",
       "2  211.184372  2018  178.494466\n",
       "3  190.145516  2018  152.379378\n",
       "4  196.216641  2018  174.167810"
      ]
     },
     "execution_count": 36,
     "metadata": {},
     "output_type": "execute_result"
    }
   ],
   "source": [
    "data_plot.head()"
   ]
  },
  {
   "cell_type": "code",
   "execution_count": 37,
   "metadata": {},
   "outputs": [],
   "source": [
    "# Calculate the spearman correlation , r2 and p value and pass them into the 'text'\n",
    "\n",
    "from scipy.stats import pearsonr, spearmanr\n",
    "#y_pred2 = [x[0] for x in data_plot.predicted]\n",
    "r, p = spearmanr(data_plot[trait], data_plot.predicted)\n",
    "r2 = r**2\n",
    "text =r2, p\n",
    "text = [np.round(r2, 2) for r2 in text]\n"
   ]
  },
  {
   "cell_type": "code",
   "execution_count": 38,
   "metadata": {
    "scrolled": true
   },
   "outputs": [
    {
     "data": {
      "text/plain": [
       "Text(0.5, 1.0, 'SLA RF')"
      ]
     },
     "execution_count": 38,
     "metadata": {},
     "output_type": "execute_result"
    },
    {
     "data": {
      "image/png": "[encoded data removed]",
      "text/plain": [
       "<Figure size 432x288 with 1 Axes>"
      ]
     },
     "metadata": {},
     "output_type": "display_data"
    }
   ],
   "source": [
    "#plot the results\n",
    "text1 = 'r2=%s, p=%s' % (text[0], text[1])\n",
    "#sns.lmplot(x=trait, y='predicted',data=data_plot)\n",
    "sns.regplot(x=trait, y='predicted' , scatter_kws={'s' : 15},data=data_plot)\n",
    "xmin , xmax , ymin, ymax = plt.axis()\n",
    "sns.scatterplot(x=trait, y='predicted', hue= 'year', data=data_plot).text((xmax)/2, ymax*0.96, text1, fontsize=12)\n",
    "plt.xlabel('Ground Truth' + ' ' + trait)\n",
    "plt.ylabel('Predicted' + ' ' + trait + ' ' + 'Values')\n",
    "plt.title(trait + ' ' + 'RF')\n",
    "\n"
   ]
  },
  {
   "cell_type": "code",
   "execution_count": 39,
   "metadata": {},
   "outputs": [],
   "source": [
    "# Feature Importance\n",
    "from sklearn.inspection import permutation_importance\n",
    "result = permutation_importance(regressor, X_train, y_train, n_repeats=10, random_state=42, n_jobs=2)\n",
    "forest_importances = pd.Series(result.importances_mean, index = X_train.columns)"
   ]
  },
  {
   "cell_type": "code",
   "execution_count": 40,
   "metadata": {},
   "outputs": [],
   "source": [
    "forest_importances.sort_values(ascending=False,inplace=True)"
   ]
  },
  {
   "cell_type": "code",
   "execution_count": 91,
   "metadata": {},
   "outputs": [],
   "source": [
    "most_important = forest_importances[0:300]"
   ]
  },
  {
   "cell_type": "code",
   "execution_count": 92,
   "metadata": {},
   "outputs": [],
   "source": [
    "most_important = pd.DataFrame(most_important)"
   ]
  },
  {
   "cell_type": "code",
   "execution_count": 93,
   "metadata": {},
   "outputs": [
    {
     "data": {
      "text/html": [
       "<div>\n",
       "<style scoped>\n",
       "    .dataframe tbody tr th:only-of-type {\n",
       "        vertical-align: middle;\n",
       "    }\n",
       "\n",
       "    .dataframe tbody tr th {\n",
       "        vertical-align: top;\n",
       "    }\n",
       "\n",
       "    .dataframe thead th {\n",
       "        text-align: right;\n",
       "    }\n",
       "</style>\n",
       "<table border=\"1\" class=\"dataframe\">\n",
       "  <thead>\n",
       "    <tr style=\"text-align: right;\">\n",
       "      <th></th>\n",
       "      <th>0</th>\n",
       "    </tr>\n",
       "  </thead>\n",
       "  <tbody>\n",
       "    <tr>\n",
       "      <th>X735</th>\n",
       "      <td>0.219445</td>\n",
       "    </tr>\n",
       "    <tr>\n",
       "      <th>X740</th>\n",
       "      <td>0.108635</td>\n",
       "    </tr>\n",
       "    <tr>\n",
       "      <th>X450</th>\n",
       "      <td>0.094255</td>\n",
       "    </tr>\n",
       "    <tr>\n",
       "      <th>X745</th>\n",
       "      <td>0.020665</td>\n",
       "    </tr>\n",
       "    <tr>\n",
       "      <th>X730</th>\n",
       "      <td>0.002977</td>\n",
       "    </tr>\n",
       "    <tr>\n",
       "      <th>...</th>\n",
       "      <td>...</td>\n",
       "    </tr>\n",
       "    <tr>\n",
       "      <th>X2430</th>\n",
       "      <td>0.000081</td>\n",
       "    </tr>\n",
       "    <tr>\n",
       "      <th>X2300</th>\n",
       "      <td>0.000080</td>\n",
       "    </tr>\n",
       "    <tr>\n",
       "      <th>X1195</th>\n",
       "      <td>0.000080</td>\n",
       "    </tr>\n",
       "    <tr>\n",
       "      <th>X610</th>\n",
       "      <td>0.000080</td>\n",
       "    </tr>\n",
       "    <tr>\n",
       "      <th>X1535</th>\n",
       "      <td>0.000080</td>\n",
       "    </tr>\n",
       "  </tbody>\n",
       "</table>\n",
       "<p>300 rows × 1 columns</p>\n",
       "</div>"
      ],
      "text/plain": [
       "              0\n",
       "X735   0.219445\n",
       "X740   0.108635\n",
       "X450   0.094255\n",
       "X745   0.020665\n",
       "X730   0.002977\n",
       "...         ...\n",
       "X2430  0.000081\n",
       "X2300  0.000080\n",
       "X1195  0.000080\n",
       "X610   0.000080\n",
       "X1535  0.000080\n",
       "\n",
       "[300 rows x 1 columns]"
      ]
     },
     "execution_count": 93,
     "metadata": {},
     "output_type": "execute_result"
    }
   ],
   "source": [
    "most_important"
   ]
  },
  {
   "cell_type": "code",
   "execution_count": 94,
   "metadata": {},
   "outputs": [
    {
     "data": {
      "text/plain": [
       "0       X735\n",
       "1       X740\n",
       "2       X450\n",
       "3       X745\n",
       "4       X730\n",
       "       ...  \n",
       "295    X2430\n",
       "296    X2300\n",
       "297    X1195\n",
       "298     X610\n",
       "299    X1535\n",
       "Length: 300, dtype: object"
      ]
     },
     "execution_count": 94,
     "metadata": {},
     "output_type": "execute_result"
    }
   ],
   "source": [
    "most_important_index = pd.Series(most_important.index)\n",
    "most_important_index"
   ]
  },
  {
   "cell_type": "code",
   "execution_count": 95,
   "metadata": {},
   "outputs": [],
   "source": [
    "most_important_index.to_csv('most_important_index.csv')"
   ]
  },
  {
   "cell_type": "code",
   "execution_count": 90,
   "metadata": {},
   "outputs": [],
   "source": [
    "X_reduced = X.loc[: , most_important_index]"
   ]
  },
  {
   "cell_type": "code",
   "execution_count": 47,
   "metadata": {},
   "outputs": [],
   "source": [
    "# split the dataset into training (60%) and testing (40%) sets\n",
    "X_train,X_test,y_train,y_test = train_test_split(X_reduced, y ,test_size=0.4) "
   ]
  },
  {
   "cell_type": "code",
   "execution_count": 48,
   "metadata": {},
   "outputs": [],
   "source": [
    "regressor = RandomForestRegressor(2000) #, min_samples_split=5 , min_samples_leaf= 1 , max_features= 'auto' , max_depth =90 , bootstrap = True)\n",
    "predict = regressor.fit(X_train, y_train)\n",
    "y_pred = regressor.predict(X_test)"
   ]
  },
  {
   "cell_type": "code",
   "execution_count": 49,
   "metadata": {},
   "outputs": [
    {
     "data": {
      "text/plain": [
       "20.731493120833324"
      ]
     },
     "execution_count": 49,
     "metadata": {},
     "output_type": "execute_result"
    }
   ],
   "source": [
    "np.sqrt(mean_squared_error(y_test, regressor.predict(X_test)))"
   ]
  },
  {
   "cell_type": "code",
   "execution_count": 50,
   "metadata": {},
   "outputs": [],
   "source": [
    "y_pred = regressor.predict(X_test)"
   ]
  },
  {
   "cell_type": "code",
   "execution_count": 51,
   "metadata": {
    "scrolled": true
   },
   "outputs": [
    {
     "data": {
      "text/plain": [
       "<AxesSubplot:xlabel='SLA', ylabel='Predicted SLA values'>"
      ]
     },
     "execution_count": 51,
     "metadata": {},
     "output_type": "execute_result"
    },
    {
     "data": {
      "image/png": "[encoded data removed]",
      "text/plain": [
       "<Figure size 432x288 with 1 Axes>"
      ]
     },
     "metadata": {},
     "output_type": "display_data"
    }
   ],
   "source": [
    "plt.scatter(y_test, y_pred)\n",
    "plt.ylabel('Predicted' + ' ' + trait +  ' ' 'values')\n",
    "plt.xlabel('Ground truth LWC measurements')\n",
    "sns.regplot(x = y_test , y = y_pred)"
   ]
  },
  {
   "cell_type": "code",
   "execution_count": 52,
   "metadata": {},
   "outputs": [
    {
     "name": "stdout",
     "output_type": "stream",
     "text": [
      "0.7851755582523774 9.068984472361751e-80\n"
     ]
    }
   ],
   "source": [
    "from scipy.stats import pearsonr, spearmanr\n",
    "\n",
    "r, p = spearmanr(y_test, y_pred)\n",
    "r2 = r**2\n",
    "print(r2, p)"
   ]
  },
  {
   "cell_type": "code",
   "execution_count": 53,
   "metadata": {},
   "outputs": [],
   "source": [
    "data_2022 = pd.read_csv('sorghum_2022_whole.csv')"
   ]
  },
  {
   "cell_type": "code",
   "execution_count": 54,
   "metadata": {},
   "outputs": [],
   "source": [
    "data_2022 = data_2022.loc[data_2022['355'].notnull(), :]"
   ]
  },
  {
   "cell_type": "code",
   "execution_count": 55,
   "metadata": {},
   "outputs": [],
   "source": [
    "data_2022['CHL'] = data_2022[['CHLp1', 'CHLp2']].mean(axis=1)"
   ]
  },
  {
   "cell_type": "code",
   "execution_count": 56,
   "metadata": {},
   "outputs": [],
   "source": [
    "#data_2022 = data_2022.loc[data_2022['Leaf_num'] == 2 , :]"
   ]
  },
  {
   "cell_type": "code",
   "execution_count": 57,
   "metadata": {},
   "outputs": [],
   "source": [
    "#data_2022 = data_2022.loc[data_2022['Leaf_pos'] == 2 , :]"
   ]
  },
  {
   "cell_type": "code",
   "execution_count": 58,
   "metadata": {},
   "outputs": [
    {
     "data": {
      "text/html": [
       "<div>\n",
       "<style scoped>\n",
       "    .dataframe tbody tr th:only-of-type {\n",
       "        vertical-align: middle;\n",
       "    }\n",
       "\n",
       "    .dataframe tbody tr th {\n",
       "        vertical-align: top;\n",
       "    }\n",
       "\n",
       "    .dataframe thead th {\n",
       "        text-align: right;\n",
       "    }\n",
       "</style>\n",
       "<table border=\"1\" class=\"dataframe\">\n",
       "  <thead>\n",
       "    <tr style=\"text-align: right;\">\n",
       "      <th></th>\n",
       "      <th>Genotype ID</th>\n",
       "      <th>Accession</th>\n",
       "      <th>Genotype</th>\n",
       "      <th>Rep</th>\n",
       "      <th>Leaf_num</th>\n",
       "      <th>CHLp1</th>\n",
       "      <th>CHLp2</th>\n",
       "      <th>CHLp3</th>\n",
       "      <th>FW</th>\n",
       "      <th>LA</th>\n",
       "      <th>...</th>\n",
       "      <th>2492</th>\n",
       "      <th>2493</th>\n",
       "      <th>2494</th>\n",
       "      <th>2495</th>\n",
       "      <th>2496</th>\n",
       "      <th>2497</th>\n",
       "      <th>2498</th>\n",
       "      <th>2499</th>\n",
       "      <th>2500</th>\n",
       "      <th>CHL</th>\n",
       "    </tr>\n",
       "  </thead>\n",
       "  <tbody>\n",
       "    <tr>\n",
       "      <th>0</th>\n",
       "      <td>GREENLEAF</td>\n",
       "      <td>PI 659692</td>\n",
       "      <td>1</td>\n",
       "      <td>1</td>\n",
       "      <td>1</td>\n",
       "      <td>367.4</td>\n",
       "      <td>472.9</td>\n",
       "      <td>399.7</td>\n",
       "      <td>4.45</td>\n",
       "      <td>281.59</td>\n",
       "      <td>...</td>\n",
       "      <td>0.071300</td>\n",
       "      <td>0.0707</td>\n",
       "      <td>0.0698</td>\n",
       "      <td>0.069483</td>\n",
       "      <td>0.07050</td>\n",
       "      <td>0.0701</td>\n",
       "      <td>0.0685</td>\n",
       "      <td>0.0683</td>\n",
       "      <td>0.0684</td>\n",
       "      <td>420.15</td>\n",
       "    </tr>\n",
       "    <tr>\n",
       "      <th>1</th>\n",
       "      <td>GREENLEAF</td>\n",
       "      <td>PI 659692</td>\n",
       "      <td>1</td>\n",
       "      <td>1</td>\n",
       "      <td>1</td>\n",
       "      <td>367.4</td>\n",
       "      <td>472.9</td>\n",
       "      <td>399.7</td>\n",
       "      <td>4.45</td>\n",
       "      <td>281.59</td>\n",
       "      <td>...</td>\n",
       "      <td>0.074300</td>\n",
       "      <td>0.0740</td>\n",
       "      <td>0.0743</td>\n",
       "      <td>0.074400</td>\n",
       "      <td>0.07416</td>\n",
       "      <td>0.0736</td>\n",
       "      <td>0.0724</td>\n",
       "      <td>0.0726</td>\n",
       "      <td>0.0741</td>\n",
       "      <td>420.15</td>\n",
       "    </tr>\n",
       "    <tr>\n",
       "      <th>2</th>\n",
       "      <td>GREENLEAF</td>\n",
       "      <td>PI 659692</td>\n",
       "      <td>1</td>\n",
       "      <td>1</td>\n",
       "      <td>1</td>\n",
       "      <td>367.4</td>\n",
       "      <td>472.9</td>\n",
       "      <td>399.7</td>\n",
       "      <td>4.45</td>\n",
       "      <td>281.59</td>\n",
       "      <td>...</td>\n",
       "      <td>0.061000</td>\n",
       "      <td>0.0605</td>\n",
       "      <td>0.0597</td>\n",
       "      <td>0.059500</td>\n",
       "      <td>0.05930</td>\n",
       "      <td>0.0587</td>\n",
       "      <td>0.0582</td>\n",
       "      <td>0.0582</td>\n",
       "      <td>0.0580</td>\n",
       "      <td>420.15</td>\n",
       "    </tr>\n",
       "    <tr>\n",
       "      <th>3</th>\n",
       "      <td>GREENLEAF</td>\n",
       "      <td>PI 659692</td>\n",
       "      <td>1</td>\n",
       "      <td>1</td>\n",
       "      <td>2</td>\n",
       "      <td>399.7</td>\n",
       "      <td>739.3</td>\n",
       "      <td>357.8</td>\n",
       "      <td>3.45</td>\n",
       "      <td>225.36</td>\n",
       "      <td>...</td>\n",
       "      <td>0.075948</td>\n",
       "      <td>0.0754</td>\n",
       "      <td>0.0729</td>\n",
       "      <td>0.072100</td>\n",
       "      <td>0.07200</td>\n",
       "      <td>0.0717</td>\n",
       "      <td>0.0726</td>\n",
       "      <td>0.0726</td>\n",
       "      <td>0.0722</td>\n",
       "      <td>569.50</td>\n",
       "    </tr>\n",
       "    <tr>\n",
       "      <th>4</th>\n",
       "      <td>GREENLEAF</td>\n",
       "      <td>PI 659692</td>\n",
       "      <td>1</td>\n",
       "      <td>1</td>\n",
       "      <td>2</td>\n",
       "      <td>399.7</td>\n",
       "      <td>739.3</td>\n",
       "      <td>357.8</td>\n",
       "      <td>3.45</td>\n",
       "      <td>225.36</td>\n",
       "      <td>...</td>\n",
       "      <td>0.082870</td>\n",
       "      <td>0.0823</td>\n",
       "      <td>0.0813</td>\n",
       "      <td>0.080900</td>\n",
       "      <td>0.07990</td>\n",
       "      <td>0.0796</td>\n",
       "      <td>0.0812</td>\n",
       "      <td>0.0816</td>\n",
       "      <td>0.0816</td>\n",
       "      <td>569.50</td>\n",
       "    </tr>\n",
       "  </tbody>\n",
       "</table>\n",
       "<p>5 rows × 2168 columns</p>\n",
       "</div>"
      ],
      "text/plain": [
       "  Genotype ID  Accession  Genotype  Rep  Leaf_num  CHLp1  CHLp2  CHLp3    FW  \\\n",
       "0   GREENLEAF  PI 659692         1    1         1  367.4  472.9  399.7  4.45   \n",
       "1   GREENLEAF  PI 659692         1    1         1  367.4  472.9  399.7  4.45   \n",
       "2   GREENLEAF  PI 659692         1    1         1  367.4  472.9  399.7  4.45   \n",
       "3   GREENLEAF  PI 659692         1    1         2  399.7  739.3  357.8  3.45   \n",
       "4   GREENLEAF  PI 659692         1    1         2  399.7  739.3  357.8  3.45   \n",
       "\n",
       "       LA  ...      2492    2493    2494      2495     2496    2497    2498  \\\n",
       "0  281.59  ...  0.071300  0.0707  0.0698  0.069483  0.07050  0.0701  0.0685   \n",
       "1  281.59  ...  0.074300  0.0740  0.0743  0.074400  0.07416  0.0736  0.0724   \n",
       "2  281.59  ...  0.061000  0.0605  0.0597  0.059500  0.05930  0.0587  0.0582   \n",
       "3  225.36  ...  0.075948  0.0754  0.0729  0.072100  0.07200  0.0717  0.0726   \n",
       "4  225.36  ...  0.082870  0.0823  0.0813  0.080900  0.07990  0.0796  0.0812   \n",
       "\n",
       "     2499    2500     CHL  \n",
       "0  0.0683  0.0684  420.15  \n",
       "1  0.0726  0.0741  420.15  \n",
       "2  0.0582  0.0580  420.15  \n",
       "3  0.0726  0.0722  569.50  \n",
       "4  0.0816  0.0816  569.50  \n",
       "\n",
       "[5 rows x 2168 columns]"
      ]
     },
     "execution_count": 58,
     "metadata": {},
     "output_type": "execute_result"
    }
   ],
   "source": [
    "data_2022 = data_2022.loc[data_2022['355']>0 , :]\n",
    "data_2022.head()"
   ]
  },
  {
   "cell_type": "code",
   "execution_count": 59,
   "metadata": {},
   "outputs": [
    {
     "data": {
      "text/html": [
       "<div>\n",
       "<style scoped>\n",
       "    .dataframe tbody tr th:only-of-type {\n",
       "        vertical-align: middle;\n",
       "    }\n",
       "\n",
       "    .dataframe tbody tr th {\n",
       "        vertical-align: top;\n",
       "    }\n",
       "\n",
       "    .dataframe thead th {\n",
       "        text-align: right;\n",
       "    }\n",
       "</style>\n",
       "<table border=\"1\" class=\"dataframe\">\n",
       "  <thead>\n",
       "    <tr style=\"text-align: right;\">\n",
       "      <th></th>\n",
       "      <th></th>\n",
       "      <th></th>\n",
       "      <th>CHLp1</th>\n",
       "      <th>CHLp2</th>\n",
       "      <th>CHLp3</th>\n",
       "      <th>FW</th>\n",
       "      <th>LA</th>\n",
       "      <th>DW</th>\n",
       "      <th>SLA</th>\n",
       "      <th>THCK</th>\n",
       "      <th>LWC</th>\n",
       "      <th>Leaf_pos</th>\n",
       "      <th>...</th>\n",
       "      <th>2492</th>\n",
       "      <th>2493</th>\n",
       "      <th>2494</th>\n",
       "      <th>2495</th>\n",
       "      <th>2496</th>\n",
       "      <th>2497</th>\n",
       "      <th>2498</th>\n",
       "      <th>2499</th>\n",
       "      <th>2500</th>\n",
       "      <th>CHL</th>\n",
       "    </tr>\n",
       "    <tr>\n",
       "      <th>Genotype</th>\n",
       "      <th>Rep</th>\n",
       "      <th>Leaf_num</th>\n",
       "      <th></th>\n",
       "      <th></th>\n",
       "      <th></th>\n",
       "      <th></th>\n",
       "      <th></th>\n",
       "      <th></th>\n",
       "      <th></th>\n",
       "      <th></th>\n",
       "      <th></th>\n",
       "      <th></th>\n",
       "      <th></th>\n",
       "      <th></th>\n",
       "      <th></th>\n",
       "      <th></th>\n",
       "      <th></th>\n",
       "      <th></th>\n",
       "      <th></th>\n",
       "      <th></th>\n",
       "      <th></th>\n",
       "      <th></th>\n",
       "      <th></th>\n",
       "    </tr>\n",
       "  </thead>\n",
       "  <tbody>\n",
       "    <tr>\n",
       "      <th rowspan=\"5\" valign=\"top\">1</th>\n",
       "      <th rowspan=\"3\" valign=\"top\">1</th>\n",
       "      <th>1</th>\n",
       "      <td>367.4</td>\n",
       "      <td>472.9</td>\n",
       "      <td>399.7</td>\n",
       "      <td>4.45</td>\n",
       "      <td>281.59</td>\n",
       "      <td>1.11</td>\n",
       "      <td>253.684685</td>\n",
       "      <td>63.278652</td>\n",
       "      <td>75.056180</td>\n",
       "      <td>2.0</td>\n",
       "      <td>...</td>\n",
       "      <td>0.068867</td>\n",
       "      <td>0.068400</td>\n",
       "      <td>0.067933</td>\n",
       "      <td>0.067794</td>\n",
       "      <td>0.067987</td>\n",
       "      <td>0.067467</td>\n",
       "      <td>0.066367</td>\n",
       "      <td>0.066367</td>\n",
       "      <td>0.066833</td>\n",
       "      <td>420.15</td>\n",
       "    </tr>\n",
       "    <tr>\n",
       "      <th>2</th>\n",
       "      <td>399.7</td>\n",
       "      <td>739.3</td>\n",
       "      <td>357.8</td>\n",
       "      <td>3.45</td>\n",
       "      <td>225.36</td>\n",
       "      <td>0.99</td>\n",
       "      <td>227.636364</td>\n",
       "      <td>65.321739</td>\n",
       "      <td>71.304348</td>\n",
       "      <td>2.0</td>\n",
       "      <td>...</td>\n",
       "      <td>0.072113</td>\n",
       "      <td>0.071661</td>\n",
       "      <td>0.069933</td>\n",
       "      <td>0.069333</td>\n",
       "      <td>0.069033</td>\n",
       "      <td>0.068800</td>\n",
       "      <td>0.069767</td>\n",
       "      <td>0.069900</td>\n",
       "      <td>0.069767</td>\n",
       "      <td>569.50</td>\n",
       "    </tr>\n",
       "    <tr>\n",
       "      <th>3</th>\n",
       "      <td>439.2</td>\n",
       "      <td>362.3</td>\n",
       "      <td>347.7</td>\n",
       "      <td>1.65</td>\n",
       "      <td>125.04</td>\n",
       "      <td>0.48</td>\n",
       "      <td>260.500000</td>\n",
       "      <td>75.781818</td>\n",
       "      <td>70.909091</td>\n",
       "      <td>2.0</td>\n",
       "      <td>...</td>\n",
       "      <td>0.081300</td>\n",
       "      <td>0.081133</td>\n",
       "      <td>0.081500</td>\n",
       "      <td>0.081195</td>\n",
       "      <td>0.080567</td>\n",
       "      <td>0.080167</td>\n",
       "      <td>0.078967</td>\n",
       "      <td>0.078567</td>\n",
       "      <td>0.079233</td>\n",
       "      <td>400.75</td>\n",
       "    </tr>\n",
       "    <tr>\n",
       "      <th rowspan=\"2\" valign=\"top\">2</th>\n",
       "      <th>1</th>\n",
       "      <td>447.1</td>\n",
       "      <td>141.9</td>\n",
       "      <td>160.9</td>\n",
       "      <td>4.45</td>\n",
       "      <td>249.96</td>\n",
       "      <td>1.06</td>\n",
       "      <td>235.811321</td>\n",
       "      <td>56.170787</td>\n",
       "      <td>76.179775</td>\n",
       "      <td>2.0</td>\n",
       "      <td>...</td>\n",
       "      <td>0.096758</td>\n",
       "      <td>0.096511</td>\n",
       "      <td>0.096506</td>\n",
       "      <td>0.096442</td>\n",
       "      <td>0.096699</td>\n",
       "      <td>0.096389</td>\n",
       "      <td>0.095690</td>\n",
       "      <td>0.095272</td>\n",
       "      <td>0.094480</td>\n",
       "      <td>294.50</td>\n",
       "    </tr>\n",
       "    <tr>\n",
       "      <th>2</th>\n",
       "      <td>325.2</td>\n",
       "      <td>481.0</td>\n",
       "      <td>322.5</td>\n",
       "      <td>1.90</td>\n",
       "      <td>144.58</td>\n",
       "      <td>0.55</td>\n",
       "      <td>262.872727</td>\n",
       "      <td>76.094737</td>\n",
       "      <td>71.052632</td>\n",
       "      <td>2.0</td>\n",
       "      <td>...</td>\n",
       "      <td>0.065500</td>\n",
       "      <td>0.065067</td>\n",
       "      <td>0.064433</td>\n",
       "      <td>0.064229</td>\n",
       "      <td>0.064000</td>\n",
       "      <td>0.063740</td>\n",
       "      <td>0.064100</td>\n",
       "      <td>0.064033</td>\n",
       "      <td>0.063400</td>\n",
       "      <td>403.10</td>\n",
       "    </tr>\n",
       "  </tbody>\n",
       "</table>\n",
       "<p>5 rows × 2162 columns</p>\n",
       "</div>"
      ],
      "text/plain": [
       "                       CHLp1  CHLp2  CHLp3    FW      LA    DW         SLA  \\\n",
       "Genotype Rep Leaf_num                                                        \n",
       "1        1   1         367.4  472.9  399.7  4.45  281.59  1.11  253.684685   \n",
       "             2         399.7  739.3  357.8  3.45  225.36  0.99  227.636364   \n",
       "             3         439.2  362.3  347.7  1.65  125.04  0.48  260.500000   \n",
       "         2   1         447.1  141.9  160.9  4.45  249.96  1.06  235.811321   \n",
       "             2         325.2  481.0  322.5  1.90  144.58  0.55  262.872727   \n",
       "\n",
       "                            THCK        LWC  Leaf_pos  ...      2492  \\\n",
       "Genotype Rep Leaf_num                                  ...             \n",
       "1        1   1         63.278652  75.056180       2.0  ...  0.068867   \n",
       "             2         65.321739  71.304348       2.0  ...  0.072113   \n",
       "             3         75.781818  70.909091       2.0  ...  0.081300   \n",
       "         2   1         56.170787  76.179775       2.0  ...  0.096758   \n",
       "             2         76.094737  71.052632       2.0  ...  0.065500   \n",
       "\n",
       "                           2493      2494      2495      2496      2497  \\\n",
       "Genotype Rep Leaf_num                                                     \n",
       "1        1   1         0.068400  0.067933  0.067794  0.067987  0.067467   \n",
       "             2         0.071661  0.069933  0.069333  0.069033  0.068800   \n",
       "             3         0.081133  0.081500  0.081195  0.080567  0.080167   \n",
       "         2   1         0.096511  0.096506  0.096442  0.096699  0.096389   \n",
       "             2         0.065067  0.064433  0.064229  0.064000  0.063740   \n",
       "\n",
       "                           2498      2499      2500     CHL  \n",
       "Genotype Rep Leaf_num                                        \n",
       "1        1   1         0.066367  0.066367  0.066833  420.15  \n",
       "             2         0.069767  0.069900  0.069767  569.50  \n",
       "             3         0.078967  0.078567  0.079233  400.75  \n",
       "         2   1         0.095690  0.095272  0.094480  294.50  \n",
       "             2         0.064100  0.064033  0.063400  403.10  \n",
       "\n",
       "[5 rows x 2162 columns]"
      ]
     },
     "execution_count": 59,
     "metadata": {},
     "output_type": "execute_result"
    }
   ],
   "source": [
    "import copy\n",
    "data_test = copy.deepcopy(data_2022)\n",
    "\n",
    "\n",
    "my_group = data_test.groupby(['Genotype', 'Rep', 'Leaf_num']).mean()\n",
    "\n",
    "my_group.head()"
   ]
  },
  {
   "cell_type": "code",
   "execution_count": 60,
   "metadata": {},
   "outputs": [
    {
     "data": {
      "text/html": [
       "<div>\n",
       "<style scoped>\n",
       "    .dataframe tbody tr th:only-of-type {\n",
       "        vertical-align: middle;\n",
       "    }\n",
       "\n",
       "    .dataframe tbody tr th {\n",
       "        vertical-align: top;\n",
       "    }\n",
       "\n",
       "    .dataframe thead th {\n",
       "        text-align: right;\n",
       "    }\n",
       "</style>\n",
       "<table border=\"1\" class=\"dataframe\">\n",
       "  <thead>\n",
       "    <tr style=\"text-align: right;\">\n",
       "      <th></th>\n",
       "      <th>Genotype</th>\n",
       "      <th>Rep</th>\n",
       "      <th>Leaf_num</th>\n",
       "      <th>CHLp1</th>\n",
       "      <th>CHLp2</th>\n",
       "      <th>CHLp3</th>\n",
       "      <th>FW</th>\n",
       "      <th>LA</th>\n",
       "      <th>DW</th>\n",
       "      <th>SLA</th>\n",
       "      <th>...</th>\n",
       "      <th>2492</th>\n",
       "      <th>2493</th>\n",
       "      <th>2494</th>\n",
       "      <th>2495</th>\n",
       "      <th>2496</th>\n",
       "      <th>2497</th>\n",
       "      <th>2498</th>\n",
       "      <th>2499</th>\n",
       "      <th>2500</th>\n",
       "      <th>CHL</th>\n",
       "    </tr>\n",
       "  </thead>\n",
       "  <tbody>\n",
       "    <tr>\n",
       "      <th>0</th>\n",
       "      <td>1</td>\n",
       "      <td>1</td>\n",
       "      <td>1</td>\n",
       "      <td>367.4</td>\n",
       "      <td>472.9</td>\n",
       "      <td>399.7</td>\n",
       "      <td>4.45</td>\n",
       "      <td>281.59</td>\n",
       "      <td>1.11</td>\n",
       "      <td>253.684685</td>\n",
       "      <td>...</td>\n",
       "      <td>0.068867</td>\n",
       "      <td>0.068400</td>\n",
       "      <td>0.067933</td>\n",
       "      <td>0.067794</td>\n",
       "      <td>0.067987</td>\n",
       "      <td>0.067467</td>\n",
       "      <td>0.066367</td>\n",
       "      <td>0.066367</td>\n",
       "      <td>0.066833</td>\n",
       "      <td>420.15</td>\n",
       "    </tr>\n",
       "    <tr>\n",
       "      <th>1</th>\n",
       "      <td>1</td>\n",
       "      <td>1</td>\n",
       "      <td>2</td>\n",
       "      <td>399.7</td>\n",
       "      <td>739.3</td>\n",
       "      <td>357.8</td>\n",
       "      <td>3.45</td>\n",
       "      <td>225.36</td>\n",
       "      <td>0.99</td>\n",
       "      <td>227.636364</td>\n",
       "      <td>...</td>\n",
       "      <td>0.072113</td>\n",
       "      <td>0.071661</td>\n",
       "      <td>0.069933</td>\n",
       "      <td>0.069333</td>\n",
       "      <td>0.069033</td>\n",
       "      <td>0.068800</td>\n",
       "      <td>0.069767</td>\n",
       "      <td>0.069900</td>\n",
       "      <td>0.069767</td>\n",
       "      <td>569.50</td>\n",
       "    </tr>\n",
       "    <tr>\n",
       "      <th>2</th>\n",
       "      <td>1</td>\n",
       "      <td>1</td>\n",
       "      <td>3</td>\n",
       "      <td>439.2</td>\n",
       "      <td>362.3</td>\n",
       "      <td>347.7</td>\n",
       "      <td>1.65</td>\n",
       "      <td>125.04</td>\n",
       "      <td>0.48</td>\n",
       "      <td>260.500000</td>\n",
       "      <td>...</td>\n",
       "      <td>0.081300</td>\n",
       "      <td>0.081133</td>\n",
       "      <td>0.081500</td>\n",
       "      <td>0.081195</td>\n",
       "      <td>0.080567</td>\n",
       "      <td>0.080167</td>\n",
       "      <td>0.078967</td>\n",
       "      <td>0.078567</td>\n",
       "      <td>0.079233</td>\n",
       "      <td>400.75</td>\n",
       "    </tr>\n",
       "    <tr>\n",
       "      <th>3</th>\n",
       "      <td>1</td>\n",
       "      <td>2</td>\n",
       "      <td>1</td>\n",
       "      <td>447.1</td>\n",
       "      <td>141.9</td>\n",
       "      <td>160.9</td>\n",
       "      <td>4.45</td>\n",
       "      <td>249.96</td>\n",
       "      <td>1.06</td>\n",
       "      <td>235.811321</td>\n",
       "      <td>...</td>\n",
       "      <td>0.096758</td>\n",
       "      <td>0.096511</td>\n",
       "      <td>0.096506</td>\n",
       "      <td>0.096442</td>\n",
       "      <td>0.096699</td>\n",
       "      <td>0.096389</td>\n",
       "      <td>0.095690</td>\n",
       "      <td>0.095272</td>\n",
       "      <td>0.094480</td>\n",
       "      <td>294.50</td>\n",
       "    </tr>\n",
       "    <tr>\n",
       "      <th>4</th>\n",
       "      <td>1</td>\n",
       "      <td>2</td>\n",
       "      <td>2</td>\n",
       "      <td>325.2</td>\n",
       "      <td>481.0</td>\n",
       "      <td>322.5</td>\n",
       "      <td>1.90</td>\n",
       "      <td>144.58</td>\n",
       "      <td>0.55</td>\n",
       "      <td>262.872727</td>\n",
       "      <td>...</td>\n",
       "      <td>0.065500</td>\n",
       "      <td>0.065067</td>\n",
       "      <td>0.064433</td>\n",
       "      <td>0.064229</td>\n",
       "      <td>0.064000</td>\n",
       "      <td>0.063740</td>\n",
       "      <td>0.064100</td>\n",
       "      <td>0.064033</td>\n",
       "      <td>0.063400</td>\n",
       "      <td>403.10</td>\n",
       "    </tr>\n",
       "  </tbody>\n",
       "</table>\n",
       "<p>5 rows × 2165 columns</p>\n",
       "</div>"
      ],
      "text/plain": [
       "   Genotype  Rep  Leaf_num  CHLp1  CHLp2  CHLp3    FW      LA    DW  \\\n",
       "0         1    1         1  367.4  472.9  399.7  4.45  281.59  1.11   \n",
       "1         1    1         2  399.7  739.3  357.8  3.45  225.36  0.99   \n",
       "2         1    1         3  439.2  362.3  347.7  1.65  125.04  0.48   \n",
       "3         1    2         1  447.1  141.9  160.9  4.45  249.96  1.06   \n",
       "4         1    2         2  325.2  481.0  322.5  1.90  144.58  0.55   \n",
       "\n",
       "          SLA  ...      2492      2493      2494      2495      2496  \\\n",
       "0  253.684685  ...  0.068867  0.068400  0.067933  0.067794  0.067987   \n",
       "1  227.636364  ...  0.072113  0.071661  0.069933  0.069333  0.069033   \n",
       "2  260.500000  ...  0.081300  0.081133  0.081500  0.081195  0.080567   \n",
       "3  235.811321  ...  0.096758  0.096511  0.096506  0.096442  0.096699   \n",
       "4  262.872727  ...  0.065500  0.065067  0.064433  0.064229  0.064000   \n",
       "\n",
       "       2497      2498      2499      2500     CHL  \n",
       "0  0.067467  0.066367  0.066367  0.066833  420.15  \n",
       "1  0.068800  0.069767  0.069900  0.069767  569.50  \n",
       "2  0.080167  0.078967  0.078567  0.079233  400.75  \n",
       "3  0.096389  0.095690  0.095272  0.094480  294.50  \n",
       "4  0.063740  0.064100  0.064033  0.063400  403.10  \n",
       "\n",
       "[5 rows x 2165 columns]"
      ]
     },
     "execution_count": 60,
     "metadata": {},
     "output_type": "execute_result"
    }
   ],
   "source": [
    "my_group = my_group.reset_index(level=['Leaf_num', 'Genotype', 'Rep'])\n",
    "my_group.head() "
   ]
  },
  {
   "cell_type": "code",
   "execution_count": 61,
   "metadata": {},
   "outputs": [
    {
     "data": {
      "text/plain": [
       "Index(['Genotype', 'Rep', 'Leaf_num', 'CHLp1', 'CHLp2', 'CHLp3', 'FW', 'LA',\n",
       "       'DW', 'SLA',\n",
       "       ...\n",
       "       '2492', '2493', '2494', '2495', '2496', '2497', '2498', '2499', '2500',\n",
       "       'CHL'],\n",
       "      dtype='object', length=2165)"
      ]
     },
     "execution_count": 61,
     "metadata": {},
     "output_type": "execute_result"
    }
   ],
   "source": [
    "my_group.columns"
   ]
  },
  {
   "cell_type": "code",
   "execution_count": 62,
   "metadata": {},
   "outputs": [
    {
     "data": {
      "text/plain": [
       "<seaborn.axisgrid.FacetGrid at 0x7f28fa22efd0>"
      ]
     },
     "execution_count": 62,
     "metadata": {},
     "output_type": "execute_result"
    },
    {
     "data": {
      "image/png": "[encoded data removed]",
      "text/plain": [
       "<Figure size 360x360 with 1 Axes>"
      ]
     },
     "metadata": {},
     "output_type": "display_data"
    }
   ],
   "source": [
    "sns.set(style='darkgrid')\n",
    "sns.displot(data= my_group, x = 'DW').set(xlabel = 'Dry Mass')\n"
   ]
  },
  {
   "cell_type": "code",
   "execution_count": 63,
   "metadata": {},
   "outputs": [],
   "source": [
    "y_test = my_group.loc[:,trait]"
   ]
  },
  {
   "cell_type": "code",
   "execution_count": 64,
   "metadata": {},
   "outputs": [],
   "source": [
    "X_total = my_group.iloc[:, 13:2164]"
   ]
  },
  {
   "cell_type": "code",
   "execution_count": 65,
   "metadata": {},
   "outputs": [],
   "source": [
    "X_total.drop(columns = X_total.columns[0:100], inplace = True) "
   ]
  },
  {
   "cell_type": "code",
   "execution_count": 66,
   "metadata": {},
   "outputs": [
    {
     "data": {
      "text/html": [
       "<div>\n",
       "<style scoped>\n",
       "    .dataframe tbody tr th:only-of-type {\n",
       "        vertical-align: middle;\n",
       "    }\n",
       "\n",
       "    .dataframe tbody tr th {\n",
       "        vertical-align: top;\n",
       "    }\n",
       "\n",
       "    .dataframe thead th {\n",
       "        text-align: right;\n",
       "    }\n",
       "</style>\n",
       "<table border=\"1\" class=\"dataframe\">\n",
       "  <thead>\n",
       "    <tr style=\"text-align: right;\">\n",
       "      <th></th>\n",
       "      <th>450</th>\n",
       "      <th>451</th>\n",
       "      <th>452</th>\n",
       "      <th>453</th>\n",
       "      <th>454</th>\n",
       "      <th>455</th>\n",
       "      <th>456</th>\n",
       "      <th>457</th>\n",
       "      <th>458</th>\n",
       "      <th>459</th>\n",
       "      <th>...</th>\n",
       "      <th>2491</th>\n",
       "      <th>2492</th>\n",
       "      <th>2493</th>\n",
       "      <th>2494</th>\n",
       "      <th>2495</th>\n",
       "      <th>2496</th>\n",
       "      <th>2497</th>\n",
       "      <th>2498</th>\n",
       "      <th>2499</th>\n",
       "      <th>2500</th>\n",
       "    </tr>\n",
       "  </thead>\n",
       "  <tbody>\n",
       "    <tr>\n",
       "      <th>0</th>\n",
       "      <td>0.043333</td>\n",
       "      <td>0.043743</td>\n",
       "      <td>0.043761</td>\n",
       "      <td>0.043844</td>\n",
       "      <td>0.044167</td>\n",
       "      <td>0.044267</td>\n",
       "      <td>0.044233</td>\n",
       "      <td>0.044367</td>\n",
       "      <td>0.044533</td>\n",
       "      <td>0.043800</td>\n",
       "      <td>...</td>\n",
       "      <td>0.069061</td>\n",
       "      <td>0.068867</td>\n",
       "      <td>0.068400</td>\n",
       "      <td>0.067933</td>\n",
       "      <td>0.067794</td>\n",
       "      <td>0.067987</td>\n",
       "      <td>0.067467</td>\n",
       "      <td>0.066367</td>\n",
       "      <td>0.066367</td>\n",
       "      <td>0.066833</td>\n",
       "    </tr>\n",
       "    <tr>\n",
       "      <th>1</th>\n",
       "      <td>0.067200</td>\n",
       "      <td>0.067733</td>\n",
       "      <td>0.067900</td>\n",
       "      <td>0.068167</td>\n",
       "      <td>0.068533</td>\n",
       "      <td>0.068133</td>\n",
       "      <td>0.068167</td>\n",
       "      <td>0.068467</td>\n",
       "      <td>0.068800</td>\n",
       "      <td>0.068700</td>\n",
       "      <td>...</td>\n",
       "      <td>0.071801</td>\n",
       "      <td>0.072113</td>\n",
       "      <td>0.071661</td>\n",
       "      <td>0.069933</td>\n",
       "      <td>0.069333</td>\n",
       "      <td>0.069033</td>\n",
       "      <td>0.068800</td>\n",
       "      <td>0.069767</td>\n",
       "      <td>0.069900</td>\n",
       "      <td>0.069767</td>\n",
       "    </tr>\n",
       "    <tr>\n",
       "      <th>2</th>\n",
       "      <td>0.080033</td>\n",
       "      <td>0.080467</td>\n",
       "      <td>0.080700</td>\n",
       "      <td>0.081233</td>\n",
       "      <td>0.081900</td>\n",
       "      <td>0.081867</td>\n",
       "      <td>0.081900</td>\n",
       "      <td>0.082167</td>\n",
       "      <td>0.082433</td>\n",
       "      <td>0.082200</td>\n",
       "      <td>...</td>\n",
       "      <td>0.081767</td>\n",
       "      <td>0.081300</td>\n",
       "      <td>0.081133</td>\n",
       "      <td>0.081500</td>\n",
       "      <td>0.081195</td>\n",
       "      <td>0.080567</td>\n",
       "      <td>0.080167</td>\n",
       "      <td>0.078967</td>\n",
       "      <td>0.078567</td>\n",
       "      <td>0.079233</td>\n",
       "    </tr>\n",
       "    <tr>\n",
       "      <th>3</th>\n",
       "      <td>0.120504</td>\n",
       "      <td>0.120188</td>\n",
       "      <td>0.120325</td>\n",
       "      <td>0.120911</td>\n",
       "      <td>0.121601</td>\n",
       "      <td>0.121789</td>\n",
       "      <td>0.121711</td>\n",
       "      <td>0.121736</td>\n",
       "      <td>0.122047</td>\n",
       "      <td>0.122260</td>\n",
       "      <td>...</td>\n",
       "      <td>0.097131</td>\n",
       "      <td>0.096758</td>\n",
       "      <td>0.096511</td>\n",
       "      <td>0.096506</td>\n",
       "      <td>0.096442</td>\n",
       "      <td>0.096699</td>\n",
       "      <td>0.096389</td>\n",
       "      <td>0.095690</td>\n",
       "      <td>0.095272</td>\n",
       "      <td>0.094480</td>\n",
       "    </tr>\n",
       "    <tr>\n",
       "      <th>4</th>\n",
       "      <td>0.069800</td>\n",
       "      <td>0.070333</td>\n",
       "      <td>0.069676</td>\n",
       "      <td>0.069300</td>\n",
       "      <td>0.069767</td>\n",
       "      <td>0.070333</td>\n",
       "      <td>0.070449</td>\n",
       "      <td>0.070524</td>\n",
       "      <td>0.070967</td>\n",
       "      <td>0.071167</td>\n",
       "      <td>...</td>\n",
       "      <td>0.065587</td>\n",
       "      <td>0.065500</td>\n",
       "      <td>0.065067</td>\n",
       "      <td>0.064433</td>\n",
       "      <td>0.064229</td>\n",
       "      <td>0.064000</td>\n",
       "      <td>0.063740</td>\n",
       "      <td>0.064100</td>\n",
       "      <td>0.064033</td>\n",
       "      <td>0.063400</td>\n",
       "    </tr>\n",
       "    <tr>\n",
       "      <th>...</th>\n",
       "      <td>...</td>\n",
       "      <td>...</td>\n",
       "      <td>...</td>\n",
       "      <td>...</td>\n",
       "      <td>...</td>\n",
       "      <td>...</td>\n",
       "      <td>...</td>\n",
       "      <td>...</td>\n",
       "      <td>...</td>\n",
       "      <td>...</td>\n",
       "      <td>...</td>\n",
       "      <td>...</td>\n",
       "      <td>...</td>\n",
       "      <td>...</td>\n",
       "      <td>...</td>\n",
       "      <td>...</td>\n",
       "      <td>...</td>\n",
       "      <td>...</td>\n",
       "      <td>...</td>\n",
       "      <td>...</td>\n",
       "      <td>...</td>\n",
       "    </tr>\n",
       "    <tr>\n",
       "      <th>344</th>\n",
       "      <td>0.049067</td>\n",
       "      <td>0.048667</td>\n",
       "      <td>0.048900</td>\n",
       "      <td>0.049264</td>\n",
       "      <td>0.049400</td>\n",
       "      <td>0.049650</td>\n",
       "      <td>0.050202</td>\n",
       "      <td>0.050433</td>\n",
       "      <td>0.050100</td>\n",
       "      <td>0.050333</td>\n",
       "      <td>...</td>\n",
       "      <td>0.068733</td>\n",
       "      <td>0.067667</td>\n",
       "      <td>0.067167</td>\n",
       "      <td>0.066733</td>\n",
       "      <td>0.066233</td>\n",
       "      <td>0.065900</td>\n",
       "      <td>0.065767</td>\n",
       "      <td>0.065648</td>\n",
       "      <td>0.065467</td>\n",
       "      <td>0.065735</td>\n",
       "    </tr>\n",
       "    <tr>\n",
       "      <th>345</th>\n",
       "      <td>0.056133</td>\n",
       "      <td>0.055800</td>\n",
       "      <td>0.056133</td>\n",
       "      <td>0.056733</td>\n",
       "      <td>0.057233</td>\n",
       "      <td>0.057541</td>\n",
       "      <td>0.057767</td>\n",
       "      <td>0.057833</td>\n",
       "      <td>0.057703</td>\n",
       "      <td>0.058200</td>\n",
       "      <td>...</td>\n",
       "      <td>0.071500</td>\n",
       "      <td>0.070788</td>\n",
       "      <td>0.070300</td>\n",
       "      <td>0.070133</td>\n",
       "      <td>0.069778</td>\n",
       "      <td>0.069367</td>\n",
       "      <td>0.069033</td>\n",
       "      <td>0.068767</td>\n",
       "      <td>0.068372</td>\n",
       "      <td>0.067833</td>\n",
       "    </tr>\n",
       "    <tr>\n",
       "      <th>346</th>\n",
       "      <td>0.051147</td>\n",
       "      <td>0.051020</td>\n",
       "      <td>0.051497</td>\n",
       "      <td>0.051967</td>\n",
       "      <td>0.052150</td>\n",
       "      <td>0.052233</td>\n",
       "      <td>0.052633</td>\n",
       "      <td>0.052900</td>\n",
       "      <td>0.052788</td>\n",
       "      <td>0.053000</td>\n",
       "      <td>...</td>\n",
       "      <td>0.057467</td>\n",
       "      <td>0.057233</td>\n",
       "      <td>0.056833</td>\n",
       "      <td>0.056100</td>\n",
       "      <td>0.055833</td>\n",
       "      <td>0.055567</td>\n",
       "      <td>0.055333</td>\n",
       "      <td>0.055933</td>\n",
       "      <td>0.055629</td>\n",
       "      <td>0.054000</td>\n",
       "    </tr>\n",
       "    <tr>\n",
       "      <th>347</th>\n",
       "      <td>0.046212</td>\n",
       "      <td>0.046233</td>\n",
       "      <td>0.046133</td>\n",
       "      <td>0.046500</td>\n",
       "      <td>0.047200</td>\n",
       "      <td>0.047300</td>\n",
       "      <td>0.047300</td>\n",
       "      <td>0.047167</td>\n",
       "      <td>0.047033</td>\n",
       "      <td>0.047467</td>\n",
       "      <td>...</td>\n",
       "      <td>0.058200</td>\n",
       "      <td>0.056667</td>\n",
       "      <td>0.056133</td>\n",
       "      <td>0.055433</td>\n",
       "      <td>0.055091</td>\n",
       "      <td>0.055762</td>\n",
       "      <td>0.055933</td>\n",
       "      <td>0.055966</td>\n",
       "      <td>0.055733</td>\n",
       "      <td>0.055077</td>\n",
       "    </tr>\n",
       "    <tr>\n",
       "      <th>348</th>\n",
       "      <td>0.045700</td>\n",
       "      <td>0.045580</td>\n",
       "      <td>0.045667</td>\n",
       "      <td>0.045945</td>\n",
       "      <td>0.046333</td>\n",
       "      <td>0.046733</td>\n",
       "      <td>0.047133</td>\n",
       "      <td>0.047100</td>\n",
       "      <td>0.046626</td>\n",
       "      <td>0.047173</td>\n",
       "      <td>...</td>\n",
       "      <td>0.060800</td>\n",
       "      <td>0.061467</td>\n",
       "      <td>0.061230</td>\n",
       "      <td>0.060500</td>\n",
       "      <td>0.060300</td>\n",
       "      <td>0.059700</td>\n",
       "      <td>0.059267</td>\n",
       "      <td>0.059482</td>\n",
       "      <td>0.059292</td>\n",
       "      <td>0.058700</td>\n",
       "    </tr>\n",
       "  </tbody>\n",
       "</table>\n",
       "<p>349 rows × 2051 columns</p>\n",
       "</div>"
      ],
      "text/plain": [
       "          450       451       452       453       454       455       456  \\\n",
       "0    0.043333  0.043743  0.043761  0.043844  0.044167  0.044267  0.044233   \n",
       "1    0.067200  0.067733  0.067900  0.068167  0.068533  0.068133  0.068167   \n",
       "2    0.080033  0.080467  0.080700  0.081233  0.081900  0.081867  0.081900   \n",
       "3    0.120504  0.120188  0.120325  0.120911  0.121601  0.121789  0.121711   \n",
       "4    0.069800  0.070333  0.069676  0.069300  0.069767  0.070333  0.070449   \n",
       "..        ...       ...       ...       ...       ...       ...       ...   \n",
       "344  0.049067  0.048667  0.048900  0.049264  0.049400  0.049650  0.050202   \n",
       "345  0.056133  0.055800  0.056133  0.056733  0.057233  0.057541  0.057767   \n",
       "346  0.051147  0.051020  0.051497  0.051967  0.052150  0.052233  0.052633   \n",
       "347  0.046212  0.046233  0.046133  0.046500  0.047200  0.047300  0.047300   \n",
       "348  0.045700  0.045580  0.045667  0.045945  0.046333  0.046733  0.047133   \n",
       "\n",
       "          457       458       459  ...      2491      2492      2493  \\\n",
       "0    0.044367  0.044533  0.043800  ...  0.069061  0.068867  0.068400   \n",
       "1    0.068467  0.068800  0.068700  ...  0.071801  0.072113  0.071661   \n",
       "2    0.082167  0.082433  0.082200  ...  0.081767  0.081300  0.081133   \n",
       "3    0.121736  0.122047  0.122260  ...  0.097131  0.096758  0.096511   \n",
       "4    0.070524  0.070967  0.071167  ...  0.065587  0.065500  0.065067   \n",
       "..        ...       ...       ...  ...       ...       ...       ...   \n",
       "344  0.050433  0.050100  0.050333  ...  0.068733  0.067667  0.067167   \n",
       "345  0.057833  0.057703  0.058200  ...  0.071500  0.070788  0.070300   \n",
       "346  0.052900  0.052788  0.053000  ...  0.057467  0.057233  0.056833   \n",
       "347  0.047167  0.047033  0.047467  ...  0.058200  0.056667  0.056133   \n",
       "348  0.047100  0.046626  0.047173  ...  0.060800  0.061467  0.061230   \n",
       "\n",
       "         2494      2495      2496      2497      2498      2499      2500  \n",
       "0    0.067933  0.067794  0.067987  0.067467  0.066367  0.066367  0.066833  \n",
       "1    0.069933  0.069333  0.069033  0.068800  0.069767  0.069900  0.069767  \n",
       "2    0.081500  0.081195  0.080567  0.080167  0.078967  0.078567  0.079233  \n",
       "3    0.096506  0.096442  0.096699  0.096389  0.095690  0.095272  0.094480  \n",
       "4    0.064433  0.064229  0.064000  0.063740  0.064100  0.064033  0.063400  \n",
       "..        ...       ...       ...       ...       ...       ...       ...  \n",
       "344  0.066733  0.066233  0.065900  0.065767  0.065648  0.065467  0.065735  \n",
       "345  0.070133  0.069778  0.069367  0.069033  0.068767  0.068372  0.067833  \n",
       "346  0.056100  0.055833  0.055567  0.055333  0.055933  0.055629  0.054000  \n",
       "347  0.055433  0.055091  0.055762  0.055933  0.055966  0.055733  0.055077  \n",
       "348  0.060500  0.060300  0.059700  0.059267  0.059482  0.059292  0.058700  \n",
       "\n",
       "[349 rows x 2051 columns]"
      ]
     },
     "execution_count": 66,
     "metadata": {},
     "output_type": "execute_result"
    }
   ],
   "source": [
    "X_total"
   ]
  },
  {
   "cell_type": "code",
   "execution_count": 67,
   "metadata": {},
   "outputs": [],
   "source": [
    "column_filter = np.arange(0,2050,5)  ## creating an index for column filtering\n",
    "X_test= X_total.iloc[:, column_filter] # selecting the filtered columns "
   ]
  },
  {
   "cell_type": "code",
   "execution_count": 68,
   "metadata": {},
   "outputs": [],
   "source": [
    "X_test.columns = X.columns"
   ]
  },
  {
   "cell_type": "code",
   "execution_count": 69,
   "metadata": {},
   "outputs": [],
   "source": [
    "X_test = X_test.loc[: , most_important_index]"
   ]
  },
  {
   "cell_type": "markdown",
   "metadata": {},
   "source": [
    "## Hyperparameter Grid Search\n",
    "\n",
    "# Number of trees in random forest\n",
    "n_estimators = [int(x) for x in np.linspace(start = 200, stop = 2000, num = 10)]\n",
    "# Number of features to consider at every split\n",
    "max_features = ['auto', 'sqrt']\n",
    "# Maximum number of levels in tree\n",
    "max_depth = [int(x) for x in np.linspace(10, 110, num = 11)]\n",
    "max_depth.append(None)\n",
    "# Minimum number of samples required to split a node\n",
    "min_samples_split = [2, 5, 10]\n",
    "# Minimum number of samples required at each leaf node\n",
    "min_samples_leaf = [1, 2, 4]"
   ]
  },
  {
   "cell_type": "markdown",
   "metadata": {},
   "source": [
    "## Create the random grid\n",
    "\n",
    "random_grid = {'n_estimators': n_estimators,\n",
    "               'max_features': max_features,\n",
    "               'max_depth': max_depth,\n",
    "               'min_samples_split': min_samples_split,\n",
    "               'min_samples_leaf': min_samples_leaf,\n",
    "               }"
   ]
  },
  {
   "cell_type": "markdown",
   "metadata": {},
   "source": [
    "# Use the random grid to search for best hyperparameters\n",
    "# First create the base model to tune\n",
    "rf = RandomForestRegressor()\n",
    "# Random search of parameters, using 3 fold cross validation, \n",
    "# search across 100 different combinations, and use all available cores\n",
    "rf_random = RandomizedSearchCV(estimator = rf, param_distributions = random_grid, n_iter = 100, cv = RepeatedKFold(n_splits=10), verbose=2, random_state=42, n_jobs = -1)\n",
    "# Fit the random search model\n",
    "rf_random.fit(X, y)"
   ]
  },
  {
   "cell_type": "markdown",
   "metadata": {},
   "source": [
    "rf_random.best_params_"
   ]
  },
  {
   "cell_type": "code",
   "execution_count": 70,
   "metadata": {},
   "outputs": [],
   "source": [
    "regressor = RandomForestRegressor(2000)#, min_samples_split=5 , min_samples_leaf= 2 , max_features= 'auto' , max_depth =90 , bootstrap = True)\n",
    "predict = regressor.fit(X_reduced, y)\n",
    "y_pred = regressor.predict(X_test)"
   ]
  },
  {
   "cell_type": "code",
   "execution_count": 71,
   "metadata": {},
   "outputs": [
    {
     "data": {
      "text/plain": [
       "44.04460555374937"
      ]
     },
     "execution_count": 71,
     "metadata": {},
     "output_type": "execute_result"
    }
   ],
   "source": [
    "np.sqrt(mean_squared_error(y_test, regressor.predict(X_test)))"
   ]
  },
  {
   "cell_type": "code",
   "execution_count": 72,
   "metadata": {},
   "outputs": [
    {
     "data": {
      "text/plain": [
       "<AxesSubplot:xlabel='SLA', ylabel='Predicted CHL values'>"
      ]
     },
     "execution_count": 72,
     "metadata": {},
     "output_type": "execute_result"
    },
    {
     "data": {
      "image/png": "[encoded data removed]",
      "text/plain": [
       "<Figure size 432x288 with 1 Axes>"
      ]
     },
     "metadata": {},
     "output_type": "display_data"
    }
   ],
   "source": [
    "plt.scatter(y_test, y_pred)\n",
    "plt.ylabel('Predicted CHL values')\n",
    "plt.xlabel('Ground truth SLA measurements')\n",
    "sns.regplot(x = y_test , y = y_pred)\n"
   ]
  },
  {
   "cell_type": "code",
   "execution_count": 73,
   "metadata": {},
   "outputs": [
    {
     "name": "stdout",
     "output_type": "stream",
     "text": [
      "0.2155015930617073 4.699399636346679e-20\n"
     ]
    }
   ],
   "source": [
    "from scipy.stats import pearsonr, spearmanr\n",
    "\n",
    "r, p = spearmanr(y_test, y_pred)\n",
    "r2 = r**2\n",
    "print(r2, p)"
   ]
  },
  {
   "cell_type": "code",
   "execution_count": 74,
   "metadata": {},
   "outputs": [
    {
     "data": {
      "text/html": [
       "<div>\n",
       "<style scoped>\n",
       "    .dataframe tbody tr th:only-of-type {\n",
       "        vertical-align: middle;\n",
       "    }\n",
       "\n",
       "    .dataframe tbody tr th {\n",
       "        vertical-align: top;\n",
       "    }\n",
       "\n",
       "    .dataframe thead th {\n",
       "        text-align: right;\n",
       "    }\n",
       "</style>\n",
       "<table border=\"1\" class=\"dataframe\">\n",
       "  <thead>\n",
       "    <tr style=\"text-align: right;\">\n",
       "      <th></th>\n",
       "      <th>X735</th>\n",
       "      <th>X740</th>\n",
       "      <th>X450</th>\n",
       "      <th>X745</th>\n",
       "      <th>X730</th>\n",
       "      <th>X1395</th>\n",
       "      <th>X725</th>\n",
       "      <th>X455</th>\n",
       "      <th>X1000</th>\n",
       "      <th>X755</th>\n",
       "      <th>...</th>\n",
       "      <th>X650</th>\n",
       "      <th>X1165</th>\n",
       "      <th>X1920</th>\n",
       "      <th>X1520</th>\n",
       "      <th>X2270</th>\n",
       "      <th>X2180</th>\n",
       "      <th>X1525</th>\n",
       "      <th>X2340</th>\n",
       "      <th>X1435</th>\n",
       "      <th>X2105</th>\n",
       "    </tr>\n",
       "  </thead>\n",
       "  <tbody>\n",
       "    <tr>\n",
       "      <th>0</th>\n",
       "      <td>0.366368</td>\n",
       "      <td>0.403640</td>\n",
       "      <td>0.043333</td>\n",
       "      <td>0.431653</td>\n",
       "      <td>0.321665</td>\n",
       "      <td>0.304562</td>\n",
       "      <td>0.273035</td>\n",
       "      <td>0.044267</td>\n",
       "      <td>0.468295</td>\n",
       "      <td>0.463478</td>\n",
       "      <td>...</td>\n",
       "      <td>0.048267</td>\n",
       "      <td>0.449423</td>\n",
       "      <td>0.060200</td>\n",
       "      <td>0.286666</td>\n",
       "      <td>0.205667</td>\n",
       "      <td>0.222392</td>\n",
       "      <td>0.292401</td>\n",
       "      <td>0.164256</td>\n",
       "      <td>0.210524</td>\n",
       "      <td>0.199284</td>\n",
       "    </tr>\n",
       "    <tr>\n",
       "      <th>1</th>\n",
       "      <td>0.389064</td>\n",
       "      <td>0.421518</td>\n",
       "      <td>0.067200</td>\n",
       "      <td>0.445688</td>\n",
       "      <td>0.349380</td>\n",
       "      <td>0.298083</td>\n",
       "      <td>0.304990</td>\n",
       "      <td>0.068133</td>\n",
       "      <td>0.472013</td>\n",
       "      <td>0.472846</td>\n",
       "      <td>...</td>\n",
       "      <td>0.073783</td>\n",
       "      <td>0.449231</td>\n",
       "      <td>0.066333</td>\n",
       "      <td>0.284968</td>\n",
       "      <td>0.204350</td>\n",
       "      <td>0.221361</td>\n",
       "      <td>0.290540</td>\n",
       "      <td>0.164237</td>\n",
       "      <td>0.208861</td>\n",
       "      <td>0.199530</td>\n",
       "    </tr>\n",
       "    <tr>\n",
       "      <th>2</th>\n",
       "      <td>0.394288</td>\n",
       "      <td>0.427281</td>\n",
       "      <td>0.080033</td>\n",
       "      <td>0.451398</td>\n",
       "      <td>0.353572</td>\n",
       "      <td>0.303178</td>\n",
       "      <td>0.308310</td>\n",
       "      <td>0.081867</td>\n",
       "      <td>0.470030</td>\n",
       "      <td>0.477359</td>\n",
       "      <td>...</td>\n",
       "      <td>0.087967</td>\n",
       "      <td>0.448607</td>\n",
       "      <td>0.074450</td>\n",
       "      <td>0.281657</td>\n",
       "      <td>0.205885</td>\n",
       "      <td>0.221100</td>\n",
       "      <td>0.286963</td>\n",
       "      <td>0.168229</td>\n",
       "      <td>0.215115</td>\n",
       "      <td>0.200011</td>\n",
       "    </tr>\n",
       "    <tr>\n",
       "      <th>3</th>\n",
       "      <td>0.421644</td>\n",
       "      <td>0.433226</td>\n",
       "      <td>0.120504</td>\n",
       "      <td>0.441630</td>\n",
       "      <td>0.406643</td>\n",
       "      <td>0.309301</td>\n",
       "      <td>0.387987</td>\n",
       "      <td>0.121789</td>\n",
       "      <td>0.454466</td>\n",
       "      <td>0.451413</td>\n",
       "      <td>...</td>\n",
       "      <td>0.164987</td>\n",
       "      <td>0.431866</td>\n",
       "      <td>0.100820</td>\n",
       "      <td>0.302505</td>\n",
       "      <td>0.221299</td>\n",
       "      <td>0.240082</td>\n",
       "      <td>0.307492</td>\n",
       "      <td>0.184910</td>\n",
       "      <td>0.232258</td>\n",
       "      <td>0.219350</td>\n",
       "    </tr>\n",
       "    <tr>\n",
       "      <th>4</th>\n",
       "      <td>0.361383</td>\n",
       "      <td>0.387692</td>\n",
       "      <td>0.069800</td>\n",
       "      <td>0.406635</td>\n",
       "      <td>0.327781</td>\n",
       "      <td>0.271297</td>\n",
       "      <td>0.288795</td>\n",
       "      <td>0.070333</td>\n",
       "      <td>0.421349</td>\n",
       "      <td>0.426929</td>\n",
       "      <td>...</td>\n",
       "      <td>0.074400</td>\n",
       "      <td>0.399642</td>\n",
       "      <td>0.056933</td>\n",
       "      <td>0.259165</td>\n",
       "      <td>0.178857</td>\n",
       "      <td>0.198625</td>\n",
       "      <td>0.264077</td>\n",
       "      <td>0.147465</td>\n",
       "      <td>0.192126</td>\n",
       "      <td>0.179047</td>\n",
       "    </tr>\n",
       "    <tr>\n",
       "      <th>...</th>\n",
       "      <td>...</td>\n",
       "      <td>...</td>\n",
       "      <td>...</td>\n",
       "      <td>...</td>\n",
       "      <td>...</td>\n",
       "      <td>...</td>\n",
       "      <td>...</td>\n",
       "      <td>...</td>\n",
       "      <td>...</td>\n",
       "      <td>...</td>\n",
       "      <td>...</td>\n",
       "      <td>...</td>\n",
       "      <td>...</td>\n",
       "      <td>...</td>\n",
       "      <td>...</td>\n",
       "      <td>...</td>\n",
       "      <td>...</td>\n",
       "      <td>...</td>\n",
       "      <td>...</td>\n",
       "      <td>...</td>\n",
       "      <td>...</td>\n",
       "    </tr>\n",
       "    <tr>\n",
       "      <th>344</th>\n",
       "      <td>0.368634</td>\n",
       "      <td>0.401930</td>\n",
       "      <td>0.049067</td>\n",
       "      <td>0.425986</td>\n",
       "      <td>0.327395</td>\n",
       "      <td>0.295399</td>\n",
       "      <td>0.281377</td>\n",
       "      <td>0.049650</td>\n",
       "      <td>0.445455</td>\n",
       "      <td>0.450980</td>\n",
       "      <td>...</td>\n",
       "      <td>0.055733</td>\n",
       "      <td>0.429367</td>\n",
       "      <td>0.056067</td>\n",
       "      <td>0.275217</td>\n",
       "      <td>0.201910</td>\n",
       "      <td>0.220906</td>\n",
       "      <td>0.280874</td>\n",
       "      <td>0.164760</td>\n",
       "      <td>0.203510</td>\n",
       "      <td>0.194785</td>\n",
       "    </tr>\n",
       "    <tr>\n",
       "      <th>345</th>\n",
       "      <td>0.358278</td>\n",
       "      <td>0.392070</td>\n",
       "      <td>0.056133</td>\n",
       "      <td>0.416989</td>\n",
       "      <td>0.317364</td>\n",
       "      <td>0.299957</td>\n",
       "      <td>0.272715</td>\n",
       "      <td>0.057541</td>\n",
       "      <td>0.443013</td>\n",
       "      <td>0.443804</td>\n",
       "      <td>...</td>\n",
       "      <td>0.064000</td>\n",
       "      <td>0.427445</td>\n",
       "      <td>0.059016</td>\n",
       "      <td>0.278209</td>\n",
       "      <td>0.202996</td>\n",
       "      <td>0.221970</td>\n",
       "      <td>0.283615</td>\n",
       "      <td>0.167257</td>\n",
       "      <td>0.209024</td>\n",
       "      <td>0.197717</td>\n",
       "    </tr>\n",
       "    <tr>\n",
       "      <th>346</th>\n",
       "      <td>0.348785</td>\n",
       "      <td>0.381004</td>\n",
       "      <td>0.051147</td>\n",
       "      <td>0.404605</td>\n",
       "      <td>0.309268</td>\n",
       "      <td>0.275508</td>\n",
       "      <td>0.265458</td>\n",
       "      <td>0.052233</td>\n",
       "      <td>0.429849</td>\n",
       "      <td>0.430074</td>\n",
       "      <td>...</td>\n",
       "      <td>0.058908</td>\n",
       "      <td>0.413236</td>\n",
       "      <td>0.046767</td>\n",
       "      <td>0.255549</td>\n",
       "      <td>0.183480</td>\n",
       "      <td>0.202376</td>\n",
       "      <td>0.261228</td>\n",
       "      <td>0.146985</td>\n",
       "      <td>0.183756</td>\n",
       "      <td>0.175093</td>\n",
       "    </tr>\n",
       "    <tr>\n",
       "      <th>347</th>\n",
       "      <td>0.348927</td>\n",
       "      <td>0.381207</td>\n",
       "      <td>0.046212</td>\n",
       "      <td>0.404519</td>\n",
       "      <td>0.308850</td>\n",
       "      <td>0.276005</td>\n",
       "      <td>0.263818</td>\n",
       "      <td>0.047300</td>\n",
       "      <td>0.425997</td>\n",
       "      <td>0.428842</td>\n",
       "      <td>...</td>\n",
       "      <td>0.052467</td>\n",
       "      <td>0.409901</td>\n",
       "      <td>0.046667</td>\n",
       "      <td>0.253074</td>\n",
       "      <td>0.183953</td>\n",
       "      <td>0.202169</td>\n",
       "      <td>0.258696</td>\n",
       "      <td>0.147367</td>\n",
       "      <td>0.183663</td>\n",
       "      <td>0.174050</td>\n",
       "    </tr>\n",
       "    <tr>\n",
       "      <th>348</th>\n",
       "      <td>0.366450</td>\n",
       "      <td>0.397406</td>\n",
       "      <td>0.045700</td>\n",
       "      <td>0.419478</td>\n",
       "      <td>0.327362</td>\n",
       "      <td>0.282302</td>\n",
       "      <td>0.282613</td>\n",
       "      <td>0.046733</td>\n",
       "      <td>0.434742</td>\n",
       "      <td>0.441913</td>\n",
       "      <td>...</td>\n",
       "      <td>0.052230</td>\n",
       "      <td>0.417797</td>\n",
       "      <td>0.050100</td>\n",
       "      <td>0.261105</td>\n",
       "      <td>0.190780</td>\n",
       "      <td>0.209435</td>\n",
       "      <td>0.266727</td>\n",
       "      <td>0.154321</td>\n",
       "      <td>0.190415</td>\n",
       "      <td>0.181745</td>\n",
       "    </tr>\n",
       "  </tbody>\n",
       "</table>\n",
       "<p>349 rows × 200 columns</p>\n",
       "</div>"
      ],
      "text/plain": [
       "         X735      X740      X450      X745      X730     X1395      X725  \\\n",
       "0    0.366368  0.403640  0.043333  0.431653  0.321665  0.304562  0.273035   \n",
       "1    0.389064  0.421518  0.067200  0.445688  0.349380  0.298083  0.304990   \n",
       "2    0.394288  0.427281  0.080033  0.451398  0.353572  0.303178  0.308310   \n",
       "3    0.421644  0.433226  0.120504  0.441630  0.406643  0.309301  0.387987   \n",
       "4    0.361383  0.387692  0.069800  0.406635  0.327781  0.271297  0.288795   \n",
       "..        ...       ...       ...       ...       ...       ...       ...   \n",
       "344  0.368634  0.401930  0.049067  0.425986  0.327395  0.295399  0.281377   \n",
       "345  0.358278  0.392070  0.056133  0.416989  0.317364  0.299957  0.272715   \n",
       "346  0.348785  0.381004  0.051147  0.404605  0.309268  0.275508  0.265458   \n",
       "347  0.348927  0.381207  0.046212  0.404519  0.308850  0.276005  0.263818   \n",
       "348  0.366450  0.397406  0.045700  0.419478  0.327362  0.282302  0.282613   \n",
       "\n",
       "         X455     X1000      X755  ...      X650     X1165     X1920  \\\n",
       "0    0.044267  0.468295  0.463478  ...  0.048267  0.449423  0.060200   \n",
       "1    0.068133  0.472013  0.472846  ...  0.073783  0.449231  0.066333   \n",
       "2    0.081867  0.470030  0.477359  ...  0.087967  0.448607  0.074450   \n",
       "3    0.121789  0.454466  0.451413  ...  0.164987  0.431866  0.100820   \n",
       "4    0.070333  0.421349  0.426929  ...  0.074400  0.399642  0.056933   \n",
       "..        ...       ...       ...  ...       ...       ...       ...   \n",
       "344  0.049650  0.445455  0.450980  ...  0.055733  0.429367  0.056067   \n",
       "345  0.057541  0.443013  0.443804  ...  0.064000  0.427445  0.059016   \n",
       "346  0.052233  0.429849  0.430074  ...  0.058908  0.413236  0.046767   \n",
       "347  0.047300  0.425997  0.428842  ...  0.052467  0.409901  0.046667   \n",
       "348  0.046733  0.434742  0.441913  ...  0.052230  0.417797  0.050100   \n",
       "\n",
       "        X1520     X2270     X2180     X1525     X2340     X1435     X2105  \n",
       "0    0.286666  0.205667  0.222392  0.292401  0.164256  0.210524  0.199284  \n",
       "1    0.284968  0.204350  0.221361  0.290540  0.164237  0.208861  0.199530  \n",
       "2    0.281657  0.205885  0.221100  0.286963  0.168229  0.215115  0.200011  \n",
       "3    0.302505  0.221299  0.240082  0.307492  0.184910  0.232258  0.219350  \n",
       "4    0.259165  0.178857  0.198625  0.264077  0.147465  0.192126  0.179047  \n",
       "..        ...       ...       ...       ...       ...       ...       ...  \n",
       "344  0.275217  0.201910  0.220906  0.280874  0.164760  0.203510  0.194785  \n",
       "345  0.278209  0.202996  0.221970  0.283615  0.167257  0.209024  0.197717  \n",
       "346  0.255549  0.183480  0.202376  0.261228  0.146985  0.183756  0.175093  \n",
       "347  0.253074  0.183953  0.202169  0.258696  0.147367  0.183663  0.174050  \n",
       "348  0.261105  0.190780  0.209435  0.266727  0.154321  0.190415  0.181745  \n",
       "\n",
       "[349 rows x 200 columns]"
      ]
     },
     "execution_count": 74,
     "metadata": {},
     "output_type": "execute_result"
    }
   ],
   "source": [
    "X_test"
   ]
  }
 ],
 "metadata": {
  "kernelspec": {
   "display_name": "Python 3",
   "language": "python",
   "name": "python3"
  },
  "language_info": {
   "codemirror_mode": {
    "name": "ipython",
    "version": 3
   },
   "file_extension": ".py",
   "mimetype": "text/x-python",
   "name": "python",
   "nbconvert_exporter": "python",
   "pygments_lexer": "ipython3",
   "version": "3.6.9"
  }
 },
 "nbformat": 4,
 "nbformat_minor": 5
}
